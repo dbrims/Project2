{
 "cells": [
  {
   "cell_type": "code",
   "execution_count": 26,
   "metadata": {},
   "outputs": [],
   "source": [
    "import asyncio\n",
    "import ccxt\n",
    "import ccxt.async_support as ccxt # link against the asynchronous version of ccxt\n",
    "import pandas as pd\n",
    "import os\n",
    "import datetime\n",
    "# import pandas_ta as ta\n",
    "# from ccxt.base.exchange import Exchange"
   ]
  },
  {
   "cell_type": "code",
   "execution_count": 30,
   "metadata": {},
   "outputs": [
    {
     "name": "stdout",
     "output_type": "stream",
     "text": [
      "['_1btcxe', 'acx', 'anxpro', 'aofex', 'bcex', 'bequant', 'bibox', 'bigone', 'binance', 'binanceje', 'binanceus', 'bit2c', 'bitbank', 'bitbay', 'bitfinex', 'bitfinex2', 'bitflyer', 'bitforex', 'bithumb', 'bitkk', 'bitmart', 'bitmax', 'bitmex', 'bitso', 'bitstamp', 'bitstamp1', 'bittrex', 'bitvavo', 'bitz', 'bl3p', 'bleutrade', 'braziliex', 'btcalpha', 'btcbox', 'btcmarkets', 'btctradeim', 'btctradeua', 'btcturk', 'buda', 'bw', 'bybit', 'bytetrade', 'cex', 'chilebit', 'coinbase', 'coinbaseprime', 'coinbasepro', 'coincheck', 'coinegg', 'coinex', 'coinfalcon', 'coinfloor', 'coingi', 'coinmarketcap', 'coinmate', 'coinone', 'coinspot', 'coolcoin', 'coss', 'crex24', 'currencycom', 'deribit', 'digifinex', 'dsx', 'eterbase', 'exmo', 'exx', 'fcoin', 'fcoinjp', 'flowbtc', 'foxbit', 'ftx', 'fybse', 'gateio', 'gemini', 'hbtc', 'hitbtc', 'hollaex', 'huobijp', 'huobipro', 'huobiru', 'ice3x', 'idex', 'independentreserve', 'indodax', 'itbit', 'kraken', 'kucoin', 'kuna', 'lakebtc', 'latoken', 'lbank', 'liquid', 'livecoin', 'luno', 'lykke', 'mercado', 'mixcoins', 'oceanex', 'okcoin', 'okex', 'paymium', 'phemex', 'poloniex', 'probit', 'qtrade', 'rightbtc', 'southxchange', 'stex', 'stronghold', 'surbitcoin', 'therock', 'tidebit', 'tidex', 'timex', 'upbit', 'vaultoro', 'vbtc', 'wavesexchange', 'whitebit', 'xbtce', 'yobit', 'zaif', 'zb']\n"
     ]
    }
   ],
   "source": [
    "# All available exchange classes\n",
    "print(ccxt.exchanges) "
   ]
  },
  {
   "cell_type": "code",
   "execution_count": 7,
   "metadata": {},
   "outputs": [
    {
     "data": {
      "text/plain": [
       "str"
      ]
     },
     "execution_count": 7,
     "metadata": {},
     "output_type": "execute_result"
    }
   ],
   "source": [
    "# Import environment variables\n",
    "KRAKEN_PUBLIC_KEY = os.getenv('KRAKEN_PUBLIC_KEY')\n",
    "KRAKEN_SECRET_KEY = os.getenv('KRAKEN_SECRET_KEY')\n",
    "type(KRAKEN_SECRET_KEY)"
   ]
  },
  {
   "cell_type": "code",
   "execution_count": 82,
   "metadata": {},
   "outputs": [],
   "source": [
    "# exchange.fetchTickers()"
   ]
  },
  {
   "cell_type": "code",
   "execution_count": 83,
   "metadata": {},
   "outputs": [],
   "source": [
    "# symbols=['BTC/USDT']\n",
    "# if (exchange.has['fetchTickers']):\n",
    "#     print(exchange.fetch_tickers())"
   ]
  },
  {
   "cell_type": "code",
   "execution_count": 45,
   "metadata": {},
   "outputs": [
    {
     "data": {
      "text/html": [
       "<div>\n",
       "<style scoped>\n",
       "    .dataframe tbody tr th:only-of-type {\n",
       "        vertical-align: middle;\n",
       "    }\n",
       "\n",
       "    .dataframe tbody tr th {\n",
       "        vertical-align: top;\n",
       "    }\n",
       "\n",
       "    .dataframe thead th {\n",
       "        text-align: right;\n",
       "    }\n",
       "</style>\n",
       "<table border=\"1\" class=\"dataframe\">\n",
       "  <thead>\n",
       "    <tr style=\"text-align: right;\">\n",
       "      <th></th>\n",
       "      <th>percentage</th>\n",
       "      <th>tierBased</th>\n",
       "      <th>taker</th>\n",
       "      <th>maker</th>\n",
       "      <th>precision</th>\n",
       "      <th>limits</th>\n",
       "      <th>id</th>\n",
       "      <th>lowercaseId</th>\n",
       "      <th>symbol</th>\n",
       "      <th>base</th>\n",
       "      <th>quote</th>\n",
       "      <th>baseId</th>\n",
       "      <th>quoteId</th>\n",
       "      <th>info</th>\n",
       "      <th>type</th>\n",
       "      <th>spot</th>\n",
       "      <th>margin</th>\n",
       "      <th>future</th>\n",
       "      <th>active</th>\n",
       "    </tr>\n",
       "  </thead>\n",
       "  <tbody>\n",
       "    <tr>\n",
       "      <th>ETH/BTC</th>\n",
       "      <td>True</td>\n",
       "      <td>False</td>\n",
       "      <td>0.001</td>\n",
       "      <td>0.001</td>\n",
       "      <td>{'base': 8, 'quote': 8, 'amount': 3, 'price': 6}</td>\n",
       "      <td>{'amount': {'min': 0.001, 'max': 100000.0}, 'p...</td>\n",
       "      <td>ETHBTC</td>\n",
       "      <td>ethbtc</td>\n",
       "      <td>ETH/BTC</td>\n",
       "      <td>ETH</td>\n",
       "      <td>BTC</td>\n",
       "      <td>ETH</td>\n",
       "      <td>BTC</td>\n",
       "      <td>{'symbol': 'ETHBTC', 'status': 'TRADING', 'bas...</td>\n",
       "      <td>spot</td>\n",
       "      <td>True</td>\n",
       "      <td>True</td>\n",
       "      <td>False</td>\n",
       "      <td>True</td>\n",
       "    </tr>\n",
       "    <tr>\n",
       "      <th>LTC/BTC</th>\n",
       "      <td>True</td>\n",
       "      <td>False</td>\n",
       "      <td>0.001</td>\n",
       "      <td>0.001</td>\n",
       "      <td>{'base': 8, 'quote': 8, 'amount': 2, 'price': 6}</td>\n",
       "      <td>{'amount': {'min': 0.01, 'max': 100000.0}, 'pr...</td>\n",
       "      <td>LTCBTC</td>\n",
       "      <td>ltcbtc</td>\n",
       "      <td>LTC/BTC</td>\n",
       "      <td>LTC</td>\n",
       "      <td>BTC</td>\n",
       "      <td>LTC</td>\n",
       "      <td>BTC</td>\n",
       "      <td>{'symbol': 'LTCBTC', 'status': 'TRADING', 'bas...</td>\n",
       "      <td>spot</td>\n",
       "      <td>True</td>\n",
       "      <td>True</td>\n",
       "      <td>False</td>\n",
       "      <td>True</td>\n",
       "    </tr>\n",
       "    <tr>\n",
       "      <th>BNB/BTC</th>\n",
       "      <td>True</td>\n",
       "      <td>False</td>\n",
       "      <td>0.001</td>\n",
       "      <td>0.001</td>\n",
       "      <td>{'base': 8, 'quote': 8, 'amount': 2, 'price': 7}</td>\n",
       "      <td>{'amount': {'min': 0.01, 'max': 100000.0}, 'pr...</td>\n",
       "      <td>BNBBTC</td>\n",
       "      <td>bnbbtc</td>\n",
       "      <td>BNB/BTC</td>\n",
       "      <td>BNB</td>\n",
       "      <td>BTC</td>\n",
       "      <td>BNB</td>\n",
       "      <td>BTC</td>\n",
       "      <td>{'symbol': 'BNBBTC', 'status': 'TRADING', 'bas...</td>\n",
       "      <td>spot</td>\n",
       "      <td>True</td>\n",
       "      <td>True</td>\n",
       "      <td>False</td>\n",
       "      <td>True</td>\n",
       "    </tr>\n",
       "    <tr>\n",
       "      <th>NEO/BTC</th>\n",
       "      <td>True</td>\n",
       "      <td>False</td>\n",
       "      <td>0.001</td>\n",
       "      <td>0.001</td>\n",
       "      <td>{'base': 8, 'quote': 8, 'amount': 2, 'price': 6}</td>\n",
       "      <td>{'amount': {'min': 0.01, 'max': 100000.0}, 'pr...</td>\n",
       "      <td>NEOBTC</td>\n",
       "      <td>neobtc</td>\n",
       "      <td>NEO/BTC</td>\n",
       "      <td>NEO</td>\n",
       "      <td>BTC</td>\n",
       "      <td>NEO</td>\n",
       "      <td>BTC</td>\n",
       "      <td>{'symbol': 'NEOBTC', 'status': 'TRADING', 'bas...</td>\n",
       "      <td>spot</td>\n",
       "      <td>True</td>\n",
       "      <td>True</td>\n",
       "      <td>False</td>\n",
       "      <td>True</td>\n",
       "    </tr>\n",
       "    <tr>\n",
       "      <th>QTUM/ETH</th>\n",
       "      <td>True</td>\n",
       "      <td>False</td>\n",
       "      <td>0.001</td>\n",
       "      <td>0.001</td>\n",
       "      <td>{'base': 8, 'quote': 8, 'amount': 2, 'price': 6}</td>\n",
       "      <td>{'amount': {'min': 0.01, 'max': 90000000.0}, '...</td>\n",
       "      <td>QTUMETH</td>\n",
       "      <td>qtumeth</td>\n",
       "      <td>QTUM/ETH</td>\n",
       "      <td>QTUM</td>\n",
       "      <td>ETH</td>\n",
       "      <td>QTUM</td>\n",
       "      <td>ETH</td>\n",
       "      <td>{'symbol': 'QTUMETH', 'status': 'TRADING', 'ba...</td>\n",
       "      <td>spot</td>\n",
       "      <td>True</td>\n",
       "      <td>False</td>\n",
       "      <td>False</td>\n",
       "      <td>True</td>\n",
       "    </tr>\n",
       "  </tbody>\n",
       "</table>\n",
       "</div>"
      ],
      "text/plain": [
       "         percentage tierBased  taker  maker  \\\n",
       "ETH/BTC        True     False  0.001  0.001   \n",
       "LTC/BTC        True     False  0.001  0.001   \n",
       "BNB/BTC        True     False  0.001  0.001   \n",
       "NEO/BTC        True     False  0.001  0.001   \n",
       "QTUM/ETH       True     False  0.001  0.001   \n",
       "\n",
       "                                                 precision  \\\n",
       "ETH/BTC   {'base': 8, 'quote': 8, 'amount': 3, 'price': 6}   \n",
       "LTC/BTC   {'base': 8, 'quote': 8, 'amount': 2, 'price': 6}   \n",
       "BNB/BTC   {'base': 8, 'quote': 8, 'amount': 2, 'price': 7}   \n",
       "NEO/BTC   {'base': 8, 'quote': 8, 'amount': 2, 'price': 6}   \n",
       "QTUM/ETH  {'base': 8, 'quote': 8, 'amount': 2, 'price': 6}   \n",
       "\n",
       "                                                     limits       id  \\\n",
       "ETH/BTC   {'amount': {'min': 0.001, 'max': 100000.0}, 'p...   ETHBTC   \n",
       "LTC/BTC   {'amount': {'min': 0.01, 'max': 100000.0}, 'pr...   LTCBTC   \n",
       "BNB/BTC   {'amount': {'min': 0.01, 'max': 100000.0}, 'pr...   BNBBTC   \n",
       "NEO/BTC   {'amount': {'min': 0.01, 'max': 100000.0}, 'pr...   NEOBTC   \n",
       "QTUM/ETH  {'amount': {'min': 0.01, 'max': 90000000.0}, '...  QTUMETH   \n",
       "\n",
       "         lowercaseId    symbol  base quote baseId quoteId  \\\n",
       "ETH/BTC       ethbtc   ETH/BTC   ETH   BTC    ETH     BTC   \n",
       "LTC/BTC       ltcbtc   LTC/BTC   LTC   BTC    LTC     BTC   \n",
       "BNB/BTC       bnbbtc   BNB/BTC   BNB   BTC    BNB     BTC   \n",
       "NEO/BTC       neobtc   NEO/BTC   NEO   BTC    NEO     BTC   \n",
       "QTUM/ETH     qtumeth  QTUM/ETH  QTUM   ETH   QTUM     ETH   \n",
       "\n",
       "                                                       info  type  spot  \\\n",
       "ETH/BTC   {'symbol': 'ETHBTC', 'status': 'TRADING', 'bas...  spot  True   \n",
       "LTC/BTC   {'symbol': 'LTCBTC', 'status': 'TRADING', 'bas...  spot  True   \n",
       "BNB/BTC   {'symbol': 'BNBBTC', 'status': 'TRADING', 'bas...  spot  True   \n",
       "NEO/BTC   {'symbol': 'NEOBTC', 'status': 'TRADING', 'bas...  spot  True   \n",
       "QTUM/ETH  {'symbol': 'QTUMETH', 'status': 'TRADING', 'ba...  spot  True   \n",
       "\n",
       "         margin future active  \n",
       "ETH/BTC    True  False   True  \n",
       "LTC/BTC    True  False   True  \n",
       "BNB/BTC    True  False   True  \n",
       "NEO/BTC    True  False   True  \n",
       "QTUM/ETH  False  False   True  "
      ]
     },
     "execution_count": 45,
     "metadata": {},
     "output_type": "execute_result"
    }
   ],
   "source": [
    "#Data source CCXT\n",
    "import pandas_ta as ta\n",
    "#pull data from available exchange\n",
    "binance = ccxt.binance()\n",
    "# binance\n",
    "reloadedMarkets=binance.load_markets()\n",
    "reloadedMarkets\n",
    "crypto_df1 = pd.DataFrame.from_dict(reloadedMarkets)\n",
    "crypto_df1 = crypto_df1.T\n",
    "crypto_df1.head()"
   ]
  },
  {
   "cell_type": "code",
   "execution_count": 77,
   "metadata": {},
   "outputs": [
    {
     "data": {
      "text/plain": [
       "[Empty DataFrame\n",
       " Columns: []\n",
       " Index: [ETH/BTC, LTC/BTC, BNB/BTC, NEO/BTC, QTUM/ETH, EOS/ETH, SNT/ETH, BNT/ETH, BCC/BTC, GAS/BTC, BNB/ETH, BTC/USDT, ETH/USDT, HSR/BTC, OAX/ETH, DNT/ETH, MCO/ETH, ICN/ETH, MCO/BTC, WTC/BTC, WTC/ETH, LRC/BTC, LRC/ETH, QTUM/BTC, YOYOW/BTC, OMG/BTC, OMG/ETH, ZRX/BTC, ZRX/ETH, STRAT/BTC, STRAT/ETH, SNGLS/BTC, SNGLS/ETH, BQX/BTC, BQX/ETH, KNC/BTC, KNC/ETH, FUN/BTC, FUN/ETH, SNM/BTC, SNM/ETH, NEO/ETH, IOTA/BTC, IOTA/ETH, LINK/BTC, LINK/ETH, XVG/BTC, XVG/ETH, SALT/BTC, SALT/ETH, MDA/BTC, MDA/ETH, MTL/BTC, MTL/ETH, SUB/BTC, SUB/ETH, EOS/BTC, SNT/BTC, ETC/ETH, ETC/BTC, MTH/BTC, MTH/ETH, ENG/BTC, ENG/ETH, DNT/BTC, ZEC/BTC, ZEC/ETH, BNT/BTC, AST/BTC, AST/ETH, DASH/BTC, DASH/ETH, OAX/BTC, ICN/BTC, BTG/BTC, BTG/ETH, EVX/BTC, EVX/ETH, REQ/BTC, REQ/ETH, VIB/BTC, VIB/ETH, HSR/ETH, TRX/BTC, TRX/ETH, POWR/BTC, POWR/ETH, ARK/BTC, ARK/ETH, YOYOW/ETH, XRP/BTC, XRP/ETH, MOD/BTC, MOD/ETH, ENJ/BTC, ENJ/ETH, STORJ/BTC, STORJ/ETH, BNB/USDT, VEN/BNB, ...]\n",
       " \n",
       " [844 rows x 0 columns]]"
      ]
     },
     "execution_count": 77,
     "metadata": {},
     "output_type": "execute_result"
    }
   ],
   "source": [
    "listx=[crypto_df1.iloc[:,:0]]\n",
    "listx"
   ]
  },
  {
   "cell_type": "code",
   "execution_count": 65,
   "metadata": {},
   "outputs": [],
   "source": [
    "since = binance.parse8601('2019-01-01T00:00:00z')\n",
    "cols=['time','open','high','low','close','volume']\n",
    "symbols=['BTC/USDT','ETC/BTC']\n",
    "timeframe='4h'\n",
    "cryptos_df=[]\n",
    "for i in symbols:\n",
    "    price_batch = pd.DataFrame(binance.fetchOHLCV(i,timeframe, since, params = {}))\n",
    "    price_batch[6]=i\n",
    "    cryptos_df.append(price_batch)"
   ]
  },
  {
   "cell_type": "code",
   "execution_count": 84,
   "metadata": {},
   "outputs": [
    {
     "data": {
      "text/html": [
       "<div>\n",
       "<style scoped>\n",
       "    .dataframe tbody tr th:only-of-type {\n",
       "        vertical-align: middle;\n",
       "    }\n",
       "\n",
       "    .dataframe tbody tr th {\n",
       "        vertical-align: top;\n",
       "    }\n",
       "\n",
       "    .dataframe thead th {\n",
       "        text-align: right;\n",
       "    }\n",
       "</style>\n",
       "<table border=\"1\" class=\"dataframe\">\n",
       "  <thead>\n",
       "    <tr style=\"text-align: right;\">\n",
       "      <th></th>\n",
       "      <th>0</th>\n",
       "      <th>1</th>\n",
       "      <th>2</th>\n",
       "      <th>3</th>\n",
       "      <th>4</th>\n",
       "      <th>5</th>\n",
       "      <th>6</th>\n",
       "    </tr>\n",
       "  </thead>\n",
       "  <tbody>\n",
       "    <tr>\n",
       "      <th>0</th>\n",
       "      <td>1546300800000</td>\n",
       "      <td>3701.23</td>\n",
       "      <td>3713.00</td>\n",
       "      <td>3675.04</td>\n",
       "      <td>3693.13</td>\n",
       "      <td>2991.923534</td>\n",
       "      <td>BTC/USDT</td>\n",
       "    </tr>\n",
       "    <tr>\n",
       "      <th>1</th>\n",
       "      <td>1546315200000</td>\n",
       "      <td>3692.32</td>\n",
       "      <td>3726.64</td>\n",
       "      <td>3685.94</td>\n",
       "      <td>3713.83</td>\n",
       "      <td>3373.760399</td>\n",
       "      <td>BTC/USDT</td>\n",
       "    </tr>\n",
       "    <tr>\n",
       "      <th>2</th>\n",
       "      <td>1546329600000</td>\n",
       "      <td>3714.19</td>\n",
       "      <td>3732.00</td>\n",
       "      <td>3696.14</td>\n",
       "      <td>3707.54</td>\n",
       "      <td>2977.758983</td>\n",
       "      <td>BTC/USDT</td>\n",
       "    </tr>\n",
       "    <tr>\n",
       "      <th>3</th>\n",
       "      <td>1546344000000</td>\n",
       "      <td>3707.56</td>\n",
       "      <td>3756.94</td>\n",
       "      <td>3666.01</td>\n",
       "      <td>3682.61</td>\n",
       "      <td>3720.118569</td>\n",
       "      <td>BTC/USDT</td>\n",
       "    </tr>\n",
       "    <tr>\n",
       "      <th>4</th>\n",
       "      <td>1546358400000</td>\n",
       "      <td>3683.00</td>\n",
       "      <td>3701.68</td>\n",
       "      <td>3642.00</td>\n",
       "      <td>3696.73</td>\n",
       "      <td>3248.115975</td>\n",
       "      <td>BTC/USDT</td>\n",
       "    </tr>\n",
       "    <tr>\n",
       "      <th>...</th>\n",
       "      <td>...</td>\n",
       "      <td>...</td>\n",
       "      <td>...</td>\n",
       "      <td>...</td>\n",
       "      <td>...</td>\n",
       "      <td>...</td>\n",
       "      <td>...</td>\n",
       "    </tr>\n",
       "    <tr>\n",
       "      <th>495</th>\n",
       "      <td>1553443200000</td>\n",
       "      <td>3992.90</td>\n",
       "      <td>3995.21</td>\n",
       "      <td>3980.00</td>\n",
       "      <td>3983.45</td>\n",
       "      <td>2816.544020</td>\n",
       "      <td>BTC/USDT</td>\n",
       "    </tr>\n",
       "    <tr>\n",
       "      <th>496</th>\n",
       "      <td>1553457600000</td>\n",
       "      <td>3983.44</td>\n",
       "      <td>3995.38</td>\n",
       "      <td>3950.00</td>\n",
       "      <td>3992.18</td>\n",
       "      <td>3281.762151</td>\n",
       "      <td>BTC/USDT</td>\n",
       "    </tr>\n",
       "    <tr>\n",
       "      <th>497</th>\n",
       "      <td>1553472000000</td>\n",
       "      <td>3991.35</td>\n",
       "      <td>3999.30</td>\n",
       "      <td>3980.75</td>\n",
       "      <td>3996.63</td>\n",
       "      <td>2402.453879</td>\n",
       "      <td>BTC/USDT</td>\n",
       "    </tr>\n",
       "    <tr>\n",
       "      <th>498</th>\n",
       "      <td>1553486400000</td>\n",
       "      <td>3995.93</td>\n",
       "      <td>3998.58</td>\n",
       "      <td>3982.61</td>\n",
       "      <td>3993.72</td>\n",
       "      <td>6044.694741</td>\n",
       "      <td>BTC/USDT</td>\n",
       "    </tr>\n",
       "    <tr>\n",
       "      <th>499</th>\n",
       "      <td>1553500800000</td>\n",
       "      <td>3991.49</td>\n",
       "      <td>3999.00</td>\n",
       "      <td>3985.00</td>\n",
       "      <td>3986.39</td>\n",
       "      <td>3642.997294</td>\n",
       "      <td>BTC/USDT</td>\n",
       "    </tr>\n",
       "  </tbody>\n",
       "</table>\n",
       "<p>500 rows × 7 columns</p>\n",
       "</div>"
      ],
      "text/plain": [
       "                 0        1        2        3        4            5         6\n",
       "0    1546300800000  3701.23  3713.00  3675.04  3693.13  2991.923534  BTC/USDT\n",
       "1    1546315200000  3692.32  3726.64  3685.94  3713.83  3373.760399  BTC/USDT\n",
       "2    1546329600000  3714.19  3732.00  3696.14  3707.54  2977.758983  BTC/USDT\n",
       "3    1546344000000  3707.56  3756.94  3666.01  3682.61  3720.118569  BTC/USDT\n",
       "4    1546358400000  3683.00  3701.68  3642.00  3696.73  3248.115975  BTC/USDT\n",
       "..             ...      ...      ...      ...      ...          ...       ...\n",
       "495  1553443200000  3992.90  3995.21  3980.00  3983.45  2816.544020  BTC/USDT\n",
       "496  1553457600000  3983.44  3995.38  3950.00  3992.18  3281.762151  BTC/USDT\n",
       "497  1553472000000  3991.35  3999.30  3980.75  3996.63  2402.453879  BTC/USDT\n",
       "498  1553486400000  3995.93  3998.58  3982.61  3993.72  6044.694741  BTC/USDT\n",
       "499  1553500800000  3991.49  3999.00  3985.00  3986.39  3642.997294  BTC/USDT\n",
       "\n",
       "[500 rows x 7 columns]"
      ]
     },
     "execution_count": 84,
     "metadata": {},
     "output_type": "execute_result"
    }
   ],
   "source": [
    "cryptos_df[0]"
   ]
  },
  {
   "cell_type": "code",
   "execution_count": 54,
   "metadata": {},
   "outputs": [
    {
     "ename": "SyntaxError",
     "evalue": "unexpected EOF while parsing (<ipython-input-54-2f4a4ca34a71>, line 7)",
     "output_type": "error",
     "traceback": [
      "\u001b[1;36m  File \u001b[1;32m\"<ipython-input-54-2f4a4ca34a71>\"\u001b[1;36m, line \u001b[1;32m7\u001b[0m\n\u001b[1;33m    # flat_list\u001b[0m\n\u001b[1;37m               ^\u001b[0m\n\u001b[1;31mSyntaxError\u001b[0m\u001b[1;31m:\u001b[0m unexpected EOF while parsing\n"
     ]
    }
   ],
   "source": [
    "#flatten list of lists\n",
    "flat_list = []\n",
    "\n",
    "for i in range(len(cryptos_df)): #Traversing through the main list\n",
    "    for j in range (len(cryptos_df[i])): #Traversing through each sublist\n",
    "#         flat_list.append(cryptos_df[i][j]) #Appending elements into our flat_list\n",
    "# flat_list"
   ]
  },
  {
   "cell_type": "code",
   "execution_count": 55,
   "metadata": {},
   "outputs": [
    {
     "ename": "NameError",
     "evalue": "name 'date' is not defined",
     "output_type": "error",
     "traceback": [
      "\u001b[1;31m---------------------------------------------------------------------------\u001b[0m",
      "\u001b[1;31mNameError\u001b[0m                                 Traceback (most recent call last)",
      "\u001b[1;32m<ipython-input-55-5e8c0e57e579>\u001b[0m in \u001b[0;36m<module>\u001b[1;34m\u001b[0m\n\u001b[0;32m      9\u001b[0m         \u001b[1;31m#to convert a single currency\u001b[0m\u001b[1;33m\u001b[0m\u001b[1;33m\u001b[0m\u001b[1;33m\u001b[0m\u001b[0m\n\u001b[0;32m     10\u001b[0m \u001b[1;31m#         timestamp = int(timestamp_temp.utcnow().timestamp())\u001b[0m\u001b[1;33m\u001b[0m\u001b[1;33m\u001b[0m\u001b[1;33m\u001b[0m\u001b[0m\n\u001b[1;32m---> 11\u001b[1;33m         \u001b[0mdate\u001b[0m \u001b[1;33m=\u001b[0m \u001b[0mdate\u001b[0m\u001b[1;33m.\u001b[0m\u001b[0mfromtimestamp\u001b[0m\u001b[1;33m(\u001b[0m\u001b[0mtimestamp\u001b[0m\u001b[1;33m)\u001b[0m\u001b[1;33m\u001b[0m\u001b[1;33m\u001b[0m\u001b[0m\n\u001b[0m\u001b[0;32m     12\u001b[0m         \u001b[0mcrypto_df2\u001b[0m\u001b[1;33m[\u001b[0m\u001b[0mi\u001b[0m\u001b[1;33m]\u001b[0m\u001b[1;33m.\u001b[0m\u001b[0mat\u001b[0m\u001b[1;33m[\u001b[0m\u001b[0mj\u001b[0m\u001b[1;33m,\u001b[0m\u001b[1;36m0\u001b[0m\u001b[1;33m]\u001b[0m \u001b[1;33m=\u001b[0m \u001b[0mdate\u001b[0m\u001b[1;33m\u001b[0m\u001b[1;33m\u001b[0m\u001b[0m\n\u001b[0;32m     13\u001b[0m \u001b[1;31m#         print(type(timestamp_temp))\u001b[0m\u001b[1;33m\u001b[0m\u001b[1;33m\u001b[0m\u001b[1;33m\u001b[0m\u001b[0m\n",
      "\u001b[1;31mNameError\u001b[0m: name 'date' is not defined"
     ]
    }
   ],
   "source": [
    "#convert time format\n",
    "crypto_df2=[cryptos_df[0]]\n",
    "\n",
    "for i in range(len(crypto_df2)):\n",
    "    for j in range(len(crypto_df2[i])):\n",
    "        timestamp_temp= list(crypto_df2[i].iloc[j:j+1][0])[0]\n",
    "        #to convert more than one crypto\n",
    "        timestamp = timestamp_temp/1000\n",
    "        #to convert a single currency\n",
    "#         timestamp = int(timestamp_temp.utcnow().timestamp())\n",
    "        date = date.fromtimestamp(timestamp)\n",
    "        crypto_df2[i].at[j,0] = date\n",
    "#         print(type(timestamp_temp))\n",
    "        j=j+1"
   ]
  },
  {
   "cell_type": "code",
   "execution_count": 56,
   "metadata": {},
   "outputs": [
    {
     "data": {
      "text/plain": [
       "[                 0        1        2        3        4            5         6\n",
       " 0    1546300800000  3701.23  3713.00  3675.04  3693.13  2991.923534  BTC/USDT\n",
       " 1    1546315200000  3692.32  3726.64  3685.94  3713.83  3373.760399  BTC/USDT\n",
       " 2    1546329600000  3714.19  3732.00  3696.14  3707.54  2977.758983  BTC/USDT\n",
       " 3    1546344000000  3707.56  3756.94  3666.01  3682.61  3720.118569  BTC/USDT\n",
       " 4    1546358400000  3683.00  3701.68  3642.00  3696.73  3248.115975  BTC/USDT\n",
       " ..             ...      ...      ...      ...      ...          ...       ...\n",
       " 495  1553443200000  3992.90  3995.21  3980.00  3983.45  2816.544020  BTC/USDT\n",
       " 496  1553457600000  3983.44  3995.38  3950.00  3992.18  3281.762151  BTC/USDT\n",
       " 497  1553472000000  3991.35  3999.30  3980.75  3996.63  2402.453879  BTC/USDT\n",
       " 498  1553486400000  3995.93  3998.58  3982.61  3993.72  6044.694741  BTC/USDT\n",
       " 499  1553500800000  3991.49  3999.00  3985.00  3986.39  3642.997294  BTC/USDT\n",
       " \n",
       " [500 rows x 7 columns]]"
      ]
     },
     "execution_count": 56,
     "metadata": {},
     "output_type": "execute_result"
    }
   ],
   "source": [
    "crypto_df2"
   ]
  },
  {
   "cell_type": "code",
   "execution_count": 38,
   "metadata": {},
   "outputs": [
    {
     "ename": "TypeError",
     "evalue": "'coroutine' object is not iterable",
     "output_type": "error",
     "traceback": [
      "\u001b[1;31m---------------------------------------------------------------------------\u001b[0m",
      "\u001b[1;31mTypeError\u001b[0m                                 Traceback (most recent call last)",
      "\u001b[1;32m<ipython-input-38-c574d38a51e4>\u001b[0m in \u001b[0;36m<module>\u001b[1;34m\u001b[0m\n\u001b[0;32m      7\u001b[0m     \u001b[0mprice_batch\u001b[0m \u001b[1;33m=\u001b[0m \u001b[0mbinance\u001b[0m\u001b[1;33m.\u001b[0m\u001b[0mfetchOHLCV\u001b[0m\u001b[1;33m(\u001b[0m\u001b[0msymbol\u001b[0m\u001b[1;33m,\u001b[0m\u001b[0mtimeframe\u001b[0m\u001b[1;33m,\u001b[0m \u001b[0msince\u001b[0m\u001b[1;33m,\u001b[0m \u001b[0mparams\u001b[0m \u001b[1;33m=\u001b[0m \u001b[1;33m{\u001b[0m\u001b[1;33m}\u001b[0m\u001b[1;33m)\u001b[0m\u001b[1;33m\u001b[0m\u001b[1;33m\u001b[0m\u001b[0m\n\u001b[0;32m      8\u001b[0m     \u001b[1;32mif\u001b[0m \u001b[0mprice_batch\u001b[0m\u001b[1;33m:\u001b[0m\u001b[1;33m\u001b[0m\u001b[1;33m\u001b[0m\u001b[0m\n\u001b[1;32m----> 9\u001b[1;33m         \u001b[0mBTC_data\u001b[0m \u001b[1;33m+=\u001b[0m \u001b[0mprice_batch\u001b[0m\u001b[1;33m\u001b[0m\u001b[1;33m\u001b[0m\u001b[0m\n\u001b[0m\u001b[0;32m     10\u001b[0m         \u001b[0msince\u001b[0m \u001b[1;33m=\u001b[0m \u001b[0mmax\u001b[0m\u001b[1;33m(\u001b[0m\u001b[0mprice_batch\u001b[0m\u001b[1;33m)\u001b[0m\u001b[1;33m[\u001b[0m\u001b[1;36m0\u001b[0m\u001b[1;33m]\u001b[0m\u001b[1;33m+\u001b[0m\u001b[1;36m1\u001b[0m\u001b[1;33m\u001b[0m\u001b[1;33m\u001b[0m\u001b[0m\n\u001b[0;32m     11\u001b[0m     \u001b[1;32melse\u001b[0m\u001b[1;33m:\u001b[0m\u001b[1;33m\u001b[0m\u001b[1;33m\u001b[0m\u001b[0m\n",
      "\u001b[1;31mTypeError\u001b[0m: 'coroutine' object is not iterable"
     ]
    }
   ],
   "source": [
    "BTC_data= []\n",
    "cols=['time','open','high','low','close','volume']\n",
    "since = binance.parse8601('2019-01-01T00:00:00z')\n",
    "while since < binance.milliseconds():\n",
    "    symbol='BTC/USDT'\n",
    "    timeframe='4h'\n",
    "    price_batch = binance.fetchOHLCV(symbol,timeframe, since, params = {})\n",
    "    if price_batch:\n",
    "        BTC_data += price_batch\n",
    "        since = max(price_batch)[0]+1\n",
    "    else:\n",
    "        break\n",
    "BTC_data = pd.DataFrame(BTC_data)\n",
    "# BTC_data.columns=cols\n",
    "# BTC_data['symbol']=symbol\n",
    "BTC_data.head()"
   ]
  },
  {
   "cell_type": "code",
   "execution_count": 57,
   "metadata": {},
   "outputs": [
    {
     "data": {
      "text/html": [
       "<div>\n",
       "<style scoped>\n",
       "    .dataframe tbody tr th:only-of-type {\n",
       "        vertical-align: middle;\n",
       "    }\n",
       "\n",
       "    .dataframe tbody tr th {\n",
       "        vertical-align: top;\n",
       "    }\n",
       "\n",
       "    .dataframe thead th {\n",
       "        text-align: right;\n",
       "    }\n",
       "</style>\n",
       "<table border=\"1\" class=\"dataframe\">\n",
       "  <thead>\n",
       "    <tr style=\"text-align: right;\">\n",
       "      <th></th>\n",
       "      <th>0</th>\n",
       "      <th>1</th>\n",
       "      <th>2</th>\n",
       "      <th>3</th>\n",
       "      <th>4</th>\n",
       "      <th>5</th>\n",
       "    </tr>\n",
       "  </thead>\n",
       "  <tbody>\n",
       "    <tr>\n",
       "      <th>0</th>\n",
       "      <td>1546300800000</td>\n",
       "      <td>3701.23</td>\n",
       "      <td>3713.00</td>\n",
       "      <td>3675.04</td>\n",
       "      <td>3693.13</td>\n",
       "      <td>2991.923534</td>\n",
       "    </tr>\n",
       "    <tr>\n",
       "      <th>1</th>\n",
       "      <td>1546315200000</td>\n",
       "      <td>3692.32</td>\n",
       "      <td>3726.64</td>\n",
       "      <td>3685.94</td>\n",
       "      <td>3713.83</td>\n",
       "      <td>3373.760399</td>\n",
       "    </tr>\n",
       "    <tr>\n",
       "      <th>2</th>\n",
       "      <td>1546329600000</td>\n",
       "      <td>3714.19</td>\n",
       "      <td>3732.00</td>\n",
       "      <td>3696.14</td>\n",
       "      <td>3707.54</td>\n",
       "      <td>2977.758983</td>\n",
       "    </tr>\n",
       "    <tr>\n",
       "      <th>3</th>\n",
       "      <td>1546344000000</td>\n",
       "      <td>3707.56</td>\n",
       "      <td>3756.94</td>\n",
       "      <td>3666.01</td>\n",
       "      <td>3682.61</td>\n",
       "      <td>3720.118569</td>\n",
       "    </tr>\n",
       "    <tr>\n",
       "      <th>4</th>\n",
       "      <td>1546358400000</td>\n",
       "      <td>3683.00</td>\n",
       "      <td>3701.68</td>\n",
       "      <td>3642.00</td>\n",
       "      <td>3696.73</td>\n",
       "      <td>3248.115975</td>\n",
       "    </tr>\n",
       "  </tbody>\n",
       "</table>\n",
       "</div>"
      ],
      "text/plain": [
       "               0        1        2        3        4            5\n",
       "0  1546300800000  3701.23  3713.00  3675.04  3693.13  2991.923534\n",
       "1  1546315200000  3692.32  3726.64  3685.94  3713.83  3373.760399\n",
       "2  1546329600000  3714.19  3732.00  3696.14  3707.54  2977.758983\n",
       "3  1546344000000  3707.56  3756.94  3666.01  3682.61  3720.118569\n",
       "4  1546358400000  3683.00  3701.68  3642.00  3696.73  3248.115975"
      ]
     },
     "execution_count": 57,
     "metadata": {},
     "output_type": "execute_result"
    }
   ],
   "source": [
    "BTC_data= []\n",
    "cols=['time','open','high','low','close','volume']\n",
    "since = binance.parse8601('2019-01-01T00:00:00z')\n",
    "while since < binance.milliseconds():\n",
    "    symbol='BTC/USDT'\n",
    "    timeframe='4h'\n",
    "    price_batch = binance.fetchOHLCV(symbol,timeframe, since, params = {})\n",
    "    if price_batch:\n",
    "        BTC_data += price_batch\n",
    "        since = max(price_batch)[0]+1\n",
    "    else:\n",
    "        break\n",
    "BTC_data = pd.DataFrame(BTC_data)\n",
    "# BTC_data.columns=cols\n",
    "# BTC_data['symbol']=symbol\n",
    "BTC_data.head()"
   ]
  },
  {
   "cell_type": "code",
   "execution_count": 40,
   "metadata": {},
   "outputs": [],
   "source": [
    "#convert time format\n",
    "crypto_df2=[BTC_data]\n",
    "for i in range(len(crypto_df2)):\n",
    "    for j in range(len(crypto_df2[i])):\n",
    "        timestamp_temp= list(crypto_df2[i].iloc[j:j+1][0])[0]\n",
    "        #to convert more than one crypto\n",
    "        timestamp = timestamp_temp/1000\n",
    "        #to convert a single currency\n",
    "#         timestamp = int(timestamp_temp.utcnow().timestamp())\n",
    "        date = date.fromtimestamp(timestamp)\n",
    "        crypto_df2[i].at[j,0] = date\n",
    "#         print(type(timestamp_temp))\n",
    "        j=j+1"
   ]
  },
  {
   "cell_type": "code",
   "execution_count": 41,
   "metadata": {},
   "outputs": [
    {
     "data": {
      "text/plain": [
       "[]"
      ]
     },
     "execution_count": 41,
     "metadata": {},
     "output_type": "execute_result"
    }
   ],
   "source": [
    "crypto_df2[0]"
   ]
  },
  {
   "cell_type": "code",
   "execution_count": 42,
   "metadata": {},
   "outputs": [
    {
     "ename": "AttributeError",
     "evalue": "'list' object has no attribute 'time'",
     "output_type": "error",
     "traceback": [
      "\u001b[1;31m---------------------------------------------------------------------------\u001b[0m",
      "\u001b[1;31mAttributeError\u001b[0m                            Traceback (most recent call last)",
      "\u001b[1;32m<ipython-input-42-c0d19d6ac459>\u001b[0m in \u001b[0;36m<module>\u001b[1;34m\u001b[0m\n\u001b[0;32m      1\u001b[0m \u001b[1;32mimport\u001b[0m \u001b[0mdatetime\u001b[0m\u001b[1;33m\u001b[0m\u001b[1;33m\u001b[0m\u001b[0m\n\u001b[0;32m      2\u001b[0m \u001b[0mBTC_data2\u001b[0m \u001b[1;33m=\u001b[0m \u001b[0mBTC_data\u001b[0m\u001b[1;33m\u001b[0m\u001b[1;33m\u001b[0m\u001b[0m\n\u001b[1;32m----> 3\u001b[1;33m \u001b[0mBTC_data2\u001b[0m\u001b[1;33m[\u001b[0m\u001b[1;34m'time_adj'\u001b[0m\u001b[1;33m]\u001b[0m\u001b[1;33m=\u001b[0m\u001b[0mdatetime\u001b[0m\u001b[1;33m.\u001b[0m\u001b[0mdatetime\u001b[0m\u001b[1;33m.\u001b[0m\u001b[0mfromtimestamp\u001b[0m\u001b[1;33m(\u001b[0m\u001b[0mBTC_data2\u001b[0m\u001b[1;33m.\u001b[0m\u001b[0mtime\u001b[0m\u001b[1;33m)\u001b[0m\u001b[1;33m\u001b[0m\u001b[1;33m\u001b[0m\u001b[0m\n\u001b[0m\u001b[0;32m      4\u001b[0m \u001b[1;31m# BTC_data2['time_adj']=BTC_data2['time_adj'].astype(int)\u001b[0m\u001b[1;33m\u001b[0m\u001b[1;33m\u001b[0m\u001b[1;33m\u001b[0m\u001b[0m\n\u001b[0;32m      5\u001b[0m \u001b[1;31m# timestamp = int(BTC_data2.time.utcnow().timestamp())\u001b[0m\u001b[1;33m\u001b[0m\u001b[1;33m\u001b[0m\u001b[1;33m\u001b[0m\u001b[0m\n",
      "\u001b[1;31mAttributeError\u001b[0m: 'list' object has no attribute 'time'"
     ]
    }
   ],
   "source": [
    "import datetime\n",
    "BTC_data2 = BTC_data\n",
    "BTC_data2['time_adj']=datetime.datetime.fromtimestamp(BTC_data2.time)\n",
    "# BTC_data2['time_adj']=BTC_data2['time_adj'].astype(int)\n",
    "# timestamp = int(BTC_data2.time.utcnow().timestamp())\n",
    "# BTC_data2['time_adj'] = datetime.fromtimestamp(BTC_data2.time_adj)\n",
    "# BTC_data2['time_adj2'] = datetime.datetime.fromtimestamp(BTC_data2.time_adj)\n",
    "BTC_data2.dtypes"
   ]
  },
  {
   "cell_type": "code",
   "execution_count": 37,
   "metadata": {},
   "outputs": [
    {
     "ename": "TypeError",
     "evalue": "'coroutine' object is not iterable",
     "output_type": "error",
     "traceback": [
      "\u001b[1;31m---------------------------------------------------------------------------\u001b[0m",
      "\u001b[1;31mTypeError\u001b[0m                                 Traceback (most recent call last)",
      "\u001b[1;32m<ipython-input-37-781ee9f00dd9>\u001b[0m in \u001b[0;36m<module>\u001b[1;34m\u001b[0m\n\u001b[0;32m      7\u001b[0m     \u001b[0mprice_batch\u001b[0m \u001b[1;33m=\u001b[0m \u001b[0mbinance\u001b[0m\u001b[1;33m.\u001b[0m\u001b[0mfetchOHLCV\u001b[0m\u001b[1;33m(\u001b[0m\u001b[0msymbol\u001b[0m\u001b[1;33m,\u001b[0m\u001b[0mtimeframe\u001b[0m\u001b[1;33m,\u001b[0m \u001b[0msince\u001b[0m\u001b[1;33m,\u001b[0m \u001b[0mparams\u001b[0m \u001b[1;33m=\u001b[0m \u001b[1;33m{\u001b[0m\u001b[1;33m}\u001b[0m\u001b[1;33m)\u001b[0m\u001b[1;33m\u001b[0m\u001b[1;33m\u001b[0m\u001b[0m\n\u001b[0;32m      8\u001b[0m     \u001b[1;32mif\u001b[0m \u001b[0mprice_batch\u001b[0m\u001b[1;33m:\u001b[0m\u001b[1;33m\u001b[0m\u001b[1;33m\u001b[0m\u001b[0m\n\u001b[1;32m----> 9\u001b[1;33m         \u001b[0mETH_data\u001b[0m \u001b[1;33m+=\u001b[0m \u001b[0mprice_batch\u001b[0m\u001b[1;33m\u001b[0m\u001b[1;33m\u001b[0m\u001b[0m\n\u001b[0m\u001b[0;32m     10\u001b[0m         \u001b[0msince\u001b[0m \u001b[1;33m=\u001b[0m \u001b[0mmax\u001b[0m\u001b[1;33m(\u001b[0m\u001b[0mprice_batch\u001b[0m\u001b[1;33m)\u001b[0m\u001b[1;33m[\u001b[0m\u001b[1;36m0\u001b[0m\u001b[1;33m]\u001b[0m\u001b[1;33m+\u001b[0m\u001b[1;36m1\u001b[0m\u001b[1;33m\u001b[0m\u001b[1;33m\u001b[0m\u001b[0m\n\u001b[0;32m     11\u001b[0m     \u001b[1;32melse\u001b[0m\u001b[1;33m:\u001b[0m\u001b[1;33m\u001b[0m\u001b[1;33m\u001b[0m\u001b[0m\n",
      "\u001b[1;31mTypeError\u001b[0m: 'coroutine' object is not iterable"
     ]
    }
   ],
   "source": [
    "ETH_data= []\n",
    "cols=['time','open','high','low','close','volume']\n",
    "since = binance.parse8601('2019-01-01T00:00:00z')\n",
    "while since < binance.milliseconds():\n",
    "    symbol='ETC/USDT'\n",
    "    timeframe='4h'\n",
    "    price_batch = binance.fetchOHLCV(symbol,timeframe, since, params = {})\n",
    "    if price_batch:\n",
    "        ETH_data += price_batch\n",
    "        since = max(price_batch)[0]+1\n",
    "    else:\n",
    "        break\n",
    "ETH_data = pd.DataFrame(ETH_data)\n",
    "ETH_data.columns=cols\n",
    "ETH_data['symbol']=symbol\n",
    "ETH_data.head()"
   ]
  },
  {
   "cell_type": "code",
   "execution_count": 44,
   "metadata": {},
   "outputs": [
    {
     "name": "stderr",
     "output_type": "stream",
     "text": [
      "C:\\Users\\Kevin\\Anaconda3\\lib\\site-packages\\ipykernel_launcher.py:7: RuntimeWarning: coroutine 'binance.fetch_ohlcv' was never awaited\n",
      "  import sys\n"
     ]
    },
    {
     "ename": "TypeError",
     "evalue": "'coroutine' object is not iterable",
     "output_type": "error",
     "traceback": [
      "\u001b[1;31m---------------------------------------------------------------------------\u001b[0m",
      "\u001b[1;31mTypeError\u001b[0m                                 Traceback (most recent call last)",
      "\u001b[1;32m<ipython-input-44-e45fadfd1d78>\u001b[0m in \u001b[0;36m<module>\u001b[1;34m\u001b[0m\n\u001b[0;32m      7\u001b[0m     \u001b[0mprice_batch\u001b[0m \u001b[1;33m=\u001b[0m \u001b[0mbinance\u001b[0m\u001b[1;33m.\u001b[0m\u001b[0mfetchOHLCV\u001b[0m\u001b[1;33m(\u001b[0m\u001b[0msymbol\u001b[0m\u001b[1;33m,\u001b[0m\u001b[0mtimeframe\u001b[0m\u001b[1;33m,\u001b[0m \u001b[0msince\u001b[0m\u001b[1;33m,\u001b[0m \u001b[0mparams\u001b[0m \u001b[1;33m=\u001b[0m \u001b[1;33m{\u001b[0m\u001b[1;33m}\u001b[0m\u001b[1;33m)\u001b[0m\u001b[1;33m\u001b[0m\u001b[1;33m\u001b[0m\u001b[0m\n\u001b[0;32m      8\u001b[0m     \u001b[1;32mif\u001b[0m \u001b[0mprice_batch\u001b[0m\u001b[1;33m:\u001b[0m\u001b[1;33m\u001b[0m\u001b[1;33m\u001b[0m\u001b[0m\n\u001b[1;32m----> 9\u001b[1;33m         \u001b[0mLTC_data\u001b[0m \u001b[1;33m+=\u001b[0m \u001b[0mprice_batch\u001b[0m\u001b[1;33m\u001b[0m\u001b[1;33m\u001b[0m\u001b[0m\n\u001b[0m\u001b[0;32m     10\u001b[0m         \u001b[0msince\u001b[0m \u001b[1;33m=\u001b[0m \u001b[0mmax\u001b[0m\u001b[1;33m(\u001b[0m\u001b[0mprice_batch\u001b[0m\u001b[1;33m)\u001b[0m\u001b[1;33m[\u001b[0m\u001b[1;36m0\u001b[0m\u001b[1;33m]\u001b[0m\u001b[1;33m+\u001b[0m\u001b[1;36m1\u001b[0m\u001b[1;33m\u001b[0m\u001b[1;33m\u001b[0m\u001b[0m\n\u001b[0;32m     11\u001b[0m     \u001b[1;32melse\u001b[0m\u001b[1;33m:\u001b[0m\u001b[1;33m\u001b[0m\u001b[1;33m\u001b[0m\u001b[0m\n",
      "\u001b[1;31mTypeError\u001b[0m: 'coroutine' object is not iterable"
     ]
    }
   ],
   "source": [
    "LTC_data= []\n",
    "cols=['time','open','high','low','close','volume']\n",
    "since = binance.parse8601('2019-01-01T00:00:00z')\n",
    "while since < binance.milliseconds():\n",
    "    symbol='LTC/USDT'\n",
    "    timeframe='4h'\n",
    "    price_batch = binance.fetchOHLCV(symbol,timeframe, since, params = {})\n",
    "    if price_batch:\n",
    "        LTC_data += price_batch\n",
    "        since = max(price_batch)[0]+1\n",
    "    else:\n",
    "        break\n",
    "LTC_data = pd.DataFrame(LTC_data)\n",
    "LTC_data.columns=cols\n",
    "LTC_data['symbol']=symbol\n",
    "LTC_data.head()"
   ]
  },
  {
   "cell_type": "code",
   "execution_count": 45,
   "metadata": {},
   "outputs": [
    {
     "ename": "TypeError",
     "evalue": "cannot concatenate object of type '<class 'list'>'; only Series and DataFrame objs are valid",
     "output_type": "error",
     "traceback": [
      "\u001b[1;31m---------------------------------------------------------------------------\u001b[0m",
      "\u001b[1;31mTypeError\u001b[0m                                 Traceback (most recent call last)",
      "\u001b[1;32m<ipython-input-45-f40857fa3e16>\u001b[0m in \u001b[0;36m<module>\u001b[1;34m\u001b[0m\n\u001b[0;32m      1\u001b[0m \u001b[0mframes\u001b[0m \u001b[1;33m=\u001b[0m \u001b[1;33m[\u001b[0m\u001b[0mBTC_data\u001b[0m\u001b[1;33m,\u001b[0m \u001b[0mETH_data\u001b[0m\u001b[1;33m,\u001b[0m\u001b[0mLTC_data\u001b[0m\u001b[1;33m]\u001b[0m\u001b[1;33m\u001b[0m\u001b[1;33m\u001b[0m\u001b[0m\n\u001b[1;32m----> 2\u001b[1;33m \u001b[0mcryptos_his_df\u001b[0m\u001b[1;33m=\u001b[0m\u001b[0mpd\u001b[0m\u001b[1;33m.\u001b[0m\u001b[0mconcat\u001b[0m\u001b[1;33m(\u001b[0m\u001b[0mframes\u001b[0m\u001b[1;33m)\u001b[0m\u001b[1;33m\u001b[0m\u001b[1;33m\u001b[0m\u001b[0m\n\u001b[0m\u001b[0;32m      3\u001b[0m \u001b[0mcryptos_his_df\u001b[0m\u001b[1;33m[\u001b[0m\u001b[1;34m'time_conv'\u001b[0m\u001b[1;33m]\u001b[0m\u001b[1;33m=\u001b[0m\u001b[0mcryptos_his_df\u001b[0m\u001b[1;33m.\u001b[0m\u001b[0mtime\u001b[0m\u001b[1;33m/\u001b[0m\u001b[1;36m1000\u001b[0m\u001b[1;33m\u001b[0m\u001b[1;33m\u001b[0m\u001b[0m\n\u001b[0;32m      4\u001b[0m \u001b[0mcryptos_his_df\u001b[0m\u001b[1;33m.\u001b[0m\u001b[0mhead\u001b[0m\u001b[1;33m(\u001b[0m\u001b[1;33m)\u001b[0m\u001b[1;33m\u001b[0m\u001b[1;33m\u001b[0m\u001b[0m\n",
      "\u001b[1;32m~\\Anaconda3\\lib\\site-packages\\pandas\\core\\reshape\\concat.py\u001b[0m in \u001b[0;36mconcat\u001b[1;34m(objs, axis, join, ignore_index, keys, levels, names, verify_integrity, sort, copy)\u001b[0m\n\u001b[0;32m    279\u001b[0m         \u001b[0mverify_integrity\u001b[0m\u001b[1;33m=\u001b[0m\u001b[0mverify_integrity\u001b[0m\u001b[1;33m,\u001b[0m\u001b[1;33m\u001b[0m\u001b[1;33m\u001b[0m\u001b[0m\n\u001b[0;32m    280\u001b[0m         \u001b[0mcopy\u001b[0m\u001b[1;33m=\u001b[0m\u001b[0mcopy\u001b[0m\u001b[1;33m,\u001b[0m\u001b[1;33m\u001b[0m\u001b[1;33m\u001b[0m\u001b[0m\n\u001b[1;32m--> 281\u001b[1;33m         \u001b[0msort\u001b[0m\u001b[1;33m=\u001b[0m\u001b[0msort\u001b[0m\u001b[1;33m,\u001b[0m\u001b[1;33m\u001b[0m\u001b[1;33m\u001b[0m\u001b[0m\n\u001b[0m\u001b[0;32m    282\u001b[0m     )\n\u001b[0;32m    283\u001b[0m \u001b[1;33m\u001b[0m\u001b[0m\n",
      "\u001b[1;32m~\\Anaconda3\\lib\\site-packages\\pandas\\core\\reshape\\concat.py\u001b[0m in \u001b[0;36m__init__\u001b[1;34m(self, objs, axis, join, keys, levels, names, ignore_index, verify_integrity, copy, sort)\u001b[0m\n\u001b[0;32m    355\u001b[0m                     \u001b[1;34m\"only Series and DataFrame objs are valid\"\u001b[0m\u001b[1;33m.\u001b[0m\u001b[0mformat\u001b[0m\u001b[1;33m(\u001b[0m\u001b[0mtyp\u001b[0m\u001b[1;33m=\u001b[0m\u001b[0mtype\u001b[0m\u001b[1;33m(\u001b[0m\u001b[0mobj\u001b[0m\u001b[1;33m)\u001b[0m\u001b[1;33m)\u001b[0m\u001b[1;33m\u001b[0m\u001b[1;33m\u001b[0m\u001b[0m\n\u001b[0;32m    356\u001b[0m                 )\n\u001b[1;32m--> 357\u001b[1;33m                 \u001b[1;32mraise\u001b[0m \u001b[0mTypeError\u001b[0m\u001b[1;33m(\u001b[0m\u001b[0mmsg\u001b[0m\u001b[1;33m)\u001b[0m\u001b[1;33m\u001b[0m\u001b[1;33m\u001b[0m\u001b[0m\n\u001b[0m\u001b[0;32m    358\u001b[0m \u001b[1;33m\u001b[0m\u001b[0m\n\u001b[0;32m    359\u001b[0m             \u001b[1;31m# consolidate\u001b[0m\u001b[1;33m\u001b[0m\u001b[1;33m\u001b[0m\u001b[1;33m\u001b[0m\u001b[0m\n",
      "\u001b[1;31mTypeError\u001b[0m: cannot concatenate object of type '<class 'list'>'; only Series and DataFrame objs are valid"
     ]
    }
   ],
   "source": [
    "frames = [BTC_data, ETH_data,LTC_data]\n",
    "cryptos_his_df=pd.concat(frames)\n",
    "cryptos_his_df['time_conv']=cryptos_his_df.time/1000\n",
    "cryptos_his_df.head()"
   ]
  },
  {
   "cell_type": "code",
   "execution_count": 46,
   "metadata": {},
   "outputs": [
    {
     "ename": "NameError",
     "evalue": "name 'cryptos_his_df' is not defined",
     "output_type": "error",
     "traceback": [
      "\u001b[1;31m---------------------------------------------------------------------------\u001b[0m",
      "\u001b[1;31mNameError\u001b[0m                                 Traceback (most recent call last)",
      "\u001b[1;32m<ipython-input-46-be2179c62fca>\u001b[0m in \u001b[0;36m<module>\u001b[1;34m\u001b[0m\n\u001b[1;32m----> 1\u001b[1;33m \u001b[0mcryptos_his_df\u001b[0m\u001b[1;33m.\u001b[0m\u001b[0mdtypes\u001b[0m\u001b[1;33m\u001b[0m\u001b[1;33m\u001b[0m\u001b[0m\n\u001b[0m",
      "\u001b[1;31mNameError\u001b[0m: name 'cryptos_his_df' is not defined"
     ]
    }
   ],
   "source": [
    "cryptos_his_df.dtypes"
   ]
  },
  {
   "cell_type": "code",
   "execution_count": 47,
   "metadata": {},
   "outputs": [
    {
     "ename": "TypeError",
     "evalue": "cannot concatenate object of type '<class 'list'>'; only Series and DataFrame objs are valid",
     "output_type": "error",
     "traceback": [
      "\u001b[1;31m---------------------------------------------------------------------------\u001b[0m",
      "\u001b[1;31mTypeError\u001b[0m                                 Traceback (most recent call last)",
      "\u001b[1;32m<ipython-input-47-d28b2fca3b7a>\u001b[0m in \u001b[0;36m<module>\u001b[1;34m\u001b[0m\n\u001b[0;32m      1\u001b[0m \u001b[1;31m#merge crypto dfs\u001b[0m\u001b[1;33m\u001b[0m\u001b[1;33m\u001b[0m\u001b[1;33m\u001b[0m\u001b[0m\n\u001b[0;32m      2\u001b[0m \u001b[0mframes\u001b[0m \u001b[1;33m=\u001b[0m \u001b[1;33m[\u001b[0m\u001b[0mBTC_data\u001b[0m\u001b[1;33m,\u001b[0m \u001b[0mETH_data\u001b[0m\u001b[1;33m,\u001b[0m\u001b[0mLTC_data\u001b[0m\u001b[1;33m]\u001b[0m\u001b[1;33m\u001b[0m\u001b[1;33m\u001b[0m\u001b[0m\n\u001b[1;32m----> 3\u001b[1;33m \u001b[0mcryptos_his_df\u001b[0m\u001b[1;33m=\u001b[0m\u001b[0mpd\u001b[0m\u001b[1;33m.\u001b[0m\u001b[0mconcat\u001b[0m\u001b[1;33m(\u001b[0m\u001b[0mframes\u001b[0m\u001b[1;33m)\u001b[0m\u001b[1;33m\u001b[0m\u001b[1;33m\u001b[0m\u001b[0m\n\u001b[0m\u001b[0;32m      4\u001b[0m \u001b[0mcryptos_his_df\u001b[0m\u001b[1;33m\u001b[0m\u001b[1;33m\u001b[0m\u001b[0m\n",
      "\u001b[1;32m~\\Anaconda3\\lib\\site-packages\\pandas\\core\\reshape\\concat.py\u001b[0m in \u001b[0;36mconcat\u001b[1;34m(objs, axis, join, ignore_index, keys, levels, names, verify_integrity, sort, copy)\u001b[0m\n\u001b[0;32m    279\u001b[0m         \u001b[0mverify_integrity\u001b[0m\u001b[1;33m=\u001b[0m\u001b[0mverify_integrity\u001b[0m\u001b[1;33m,\u001b[0m\u001b[1;33m\u001b[0m\u001b[1;33m\u001b[0m\u001b[0m\n\u001b[0;32m    280\u001b[0m         \u001b[0mcopy\u001b[0m\u001b[1;33m=\u001b[0m\u001b[0mcopy\u001b[0m\u001b[1;33m,\u001b[0m\u001b[1;33m\u001b[0m\u001b[1;33m\u001b[0m\u001b[0m\n\u001b[1;32m--> 281\u001b[1;33m         \u001b[0msort\u001b[0m\u001b[1;33m=\u001b[0m\u001b[0msort\u001b[0m\u001b[1;33m,\u001b[0m\u001b[1;33m\u001b[0m\u001b[1;33m\u001b[0m\u001b[0m\n\u001b[0m\u001b[0;32m    282\u001b[0m     )\n\u001b[0;32m    283\u001b[0m \u001b[1;33m\u001b[0m\u001b[0m\n",
      "\u001b[1;32m~\\Anaconda3\\lib\\site-packages\\pandas\\core\\reshape\\concat.py\u001b[0m in \u001b[0;36m__init__\u001b[1;34m(self, objs, axis, join, keys, levels, names, ignore_index, verify_integrity, copy, sort)\u001b[0m\n\u001b[0;32m    355\u001b[0m                     \u001b[1;34m\"only Series and DataFrame objs are valid\"\u001b[0m\u001b[1;33m.\u001b[0m\u001b[0mformat\u001b[0m\u001b[1;33m(\u001b[0m\u001b[0mtyp\u001b[0m\u001b[1;33m=\u001b[0m\u001b[0mtype\u001b[0m\u001b[1;33m(\u001b[0m\u001b[0mobj\u001b[0m\u001b[1;33m)\u001b[0m\u001b[1;33m)\u001b[0m\u001b[1;33m\u001b[0m\u001b[1;33m\u001b[0m\u001b[0m\n\u001b[0;32m    356\u001b[0m                 )\n\u001b[1;32m--> 357\u001b[1;33m                 \u001b[1;32mraise\u001b[0m \u001b[0mTypeError\u001b[0m\u001b[1;33m(\u001b[0m\u001b[0mmsg\u001b[0m\u001b[1;33m)\u001b[0m\u001b[1;33m\u001b[0m\u001b[1;33m\u001b[0m\u001b[0m\n\u001b[0m\u001b[0;32m    358\u001b[0m \u001b[1;33m\u001b[0m\u001b[0m\n\u001b[0;32m    359\u001b[0m             \u001b[1;31m# consolidate\u001b[0m\u001b[1;33m\u001b[0m\u001b[1;33m\u001b[0m\u001b[1;33m\u001b[0m\u001b[0m\n",
      "\u001b[1;31mTypeError\u001b[0m: cannot concatenate object of type '<class 'list'>'; only Series and DataFrame objs are valid"
     ]
    }
   ],
   "source": [
    "#merge crypto dfs\n",
    "frames = [BTC_data, ETH_data,LTC_data]\n",
    "cryptos_his_df=pd.concat(frames)\n",
    "cryptos_his_df"
   ]
  },
  {
   "cell_type": "code",
   "execution_count": 48,
   "metadata": {},
   "outputs": [
    {
     "data": {
      "text/plain": [
       "[]"
      ]
     },
     "execution_count": 48,
     "metadata": {},
     "output_type": "execute_result"
    }
   ],
   "source": [
    "crypto_df2=[BTC_data, ETH_data]\n",
    "test=list(crypto_df2[0])#.iloc[0:1][0])[0]\n",
    "test"
   ]
  },
  {
   "cell_type": "code",
   "execution_count": 49,
   "metadata": {},
   "outputs": [],
   "source": [
    "#convert time format\n",
    "crypto_df2=[BTC_data, ETH_data]\n",
    "for i in range(len(crypto_df2)):\n",
    "    for j in range(len(crypto_df2[i])):\n",
    "        timestamp_temp= list(crypto_df2[i].iloc[j:j+1][0])[0]\n",
    "        #to convert more than one crypto\n",
    "        timestamp = timestamp_temp/1000\n",
    "        #to convert a single currency\n",
    "#         timestamp = int(timestamp_temp.utcnow().timestamp())\n",
    "        date = datetime.fromtimestamp(timestamp)\n",
    "        crypto_df2[i].at[j,0] = date\n",
    "#         print(type(timestamp_temp))\n",
    "        j=j+1"
   ]
  },
  {
   "cell_type": "code",
   "execution_count": 50,
   "metadata": {},
   "outputs": [
    {
     "data": {
      "text/plain": [
       "[[], []]"
      ]
     },
     "execution_count": 50,
     "metadata": {},
     "output_type": "execute_result"
    }
   ],
   "source": [
    "crypto_df2"
   ]
  },
  {
   "cell_type": "code",
   "execution_count": 51,
   "metadata": {},
   "outputs": [
    {
     "data": {
      "text/html": [
       "<div>\n",
       "<style scoped>\n",
       "    .dataframe tbody tr th:only-of-type {\n",
       "        vertical-align: middle;\n",
       "    }\n",
       "\n",
       "    .dataframe tbody tr th {\n",
       "        vertical-align: top;\n",
       "    }\n",
       "\n",
       "    .dataframe thead th {\n",
       "        text-align: right;\n",
       "    }\n",
       "</style>\n",
       "<table border=\"1\" class=\"dataframe\">\n",
       "  <thead>\n",
       "    <tr style=\"text-align: right;\">\n",
       "      <th></th>\n",
       "    </tr>\n",
       "  </thead>\n",
       "  <tbody>\n",
       "    <tr>\n",
       "      <th>0</th>\n",
       "    </tr>\n",
       "    <tr>\n",
       "      <th>1</th>\n",
       "    </tr>\n",
       "  </tbody>\n",
       "</table>\n",
       "</div>"
      ],
      "text/plain": [
       "Empty DataFrame\n",
       "Columns: []\n",
       "Index: [0, 1]"
      ]
     },
     "execution_count": 51,
     "metadata": {},
     "output_type": "execute_result"
    }
   ],
   "source": [
    "pd.DataFrame(crypto_df2)"
   ]
  },
  {
   "cell_type": "code",
   "execution_count": 52,
   "metadata": {},
   "outputs": [
    {
     "data": {
      "text/plain": [
       "[]"
      ]
     },
     "execution_count": 52,
     "metadata": {},
     "output_type": "execute_result"
    }
   ],
   "source": [
    "crypto_df2[-1]"
   ]
  },
  {
   "cell_type": "code",
   "execution_count": 53,
   "metadata": {},
   "outputs": [
    {
     "ename": "IndexError",
     "evalue": "list index out of range",
     "output_type": "error",
     "traceback": [
      "\u001b[1;31m---------------------------------------------------------------------------\u001b[0m",
      "\u001b[1;31mIndexError\u001b[0m                                Traceback (most recent call last)",
      "\u001b[1;32m<ipython-input-53-127c5cf6f3a7>\u001b[0m in \u001b[0;36m<module>\u001b[1;34m\u001b[0m\n\u001b[0;32m      1\u001b[0m \u001b[1;32mfor\u001b[0m \u001b[0mk\u001b[0m \u001b[1;32min\u001b[0m \u001b[0mrange\u001b[0m\u001b[1;33m(\u001b[0m\u001b[0mlen\u001b[0m\u001b[1;33m(\u001b[0m\u001b[0mcrypto_df2\u001b[0m\u001b[1;33m)\u001b[0m\u001b[1;33m)\u001b[0m\u001b[1;33m:\u001b[0m\u001b[1;33m\u001b[0m\u001b[1;33m\u001b[0m\u001b[0m\n\u001b[1;32m----> 2\u001b[1;33m     \u001b[0mcrypto_df2\u001b[0m\u001b[1;33m[\u001b[0m\u001b[0mk\u001b[0m\u001b[1;33m]\u001b[0m\u001b[1;33m[\u001b[0m\u001b[1;34m'TIME'\u001b[0m\u001b[1;33m]\u001b[0m\u001b[1;33m=\u001b[0m\u001b[0mcrypto_df2\u001b[0m\u001b[1;33m[\u001b[0m\u001b[0mk\u001b[0m\u001b[1;33m]\u001b[0m\u001b[1;33m[\u001b[0m\u001b[1;36m0\u001b[0m\u001b[1;33m]\u001b[0m\u001b[1;33m\u001b[0m\u001b[1;33m\u001b[0m\u001b[0m\n\u001b[0m\u001b[0;32m      3\u001b[0m     \u001b[0mcrypto_df2\u001b[0m\u001b[1;33m[\u001b[0m\u001b[0mk\u001b[0m\u001b[1;33m]\u001b[0m\u001b[1;33m[\u001b[0m\u001b[1;34m'OPEN'\u001b[0m\u001b[1;33m]\u001b[0m\u001b[1;33m=\u001b[0m\u001b[0mcrypto_df2\u001b[0m\u001b[1;33m[\u001b[0m\u001b[0mk\u001b[0m\u001b[1;33m]\u001b[0m\u001b[1;33m[\u001b[0m\u001b[1;36m1\u001b[0m\u001b[1;33m]\u001b[0m\u001b[1;33m\u001b[0m\u001b[1;33m\u001b[0m\u001b[0m\n\u001b[0;32m      4\u001b[0m     \u001b[0mcrypto_df2\u001b[0m\u001b[1;33m[\u001b[0m\u001b[0mk\u001b[0m\u001b[1;33m]\u001b[0m\u001b[1;33m[\u001b[0m\u001b[1;34m'HIGH'\u001b[0m\u001b[1;33m]\u001b[0m\u001b[1;33m=\u001b[0m\u001b[0mcrypto_df2\u001b[0m\u001b[1;33m[\u001b[0m\u001b[0mk\u001b[0m\u001b[1;33m]\u001b[0m\u001b[1;33m[\u001b[0m\u001b[1;36m2\u001b[0m\u001b[1;33m]\u001b[0m\u001b[1;33m\u001b[0m\u001b[1;33m\u001b[0m\u001b[0m\n\u001b[0;32m      5\u001b[0m     \u001b[0mcrypto_df2\u001b[0m\u001b[1;33m[\u001b[0m\u001b[0mk\u001b[0m\u001b[1;33m]\u001b[0m\u001b[1;33m[\u001b[0m\u001b[1;34m'LOW'\u001b[0m\u001b[1;33m]\u001b[0m\u001b[1;33m=\u001b[0m\u001b[0mcrypto_df2\u001b[0m\u001b[1;33m[\u001b[0m\u001b[0mk\u001b[0m\u001b[1;33m]\u001b[0m\u001b[1;33m[\u001b[0m\u001b[1;36m3\u001b[0m\u001b[1;33m]\u001b[0m\u001b[1;33m\u001b[0m\u001b[1;33m\u001b[0m\u001b[0m\n",
      "\u001b[1;31mIndexError\u001b[0m: list index out of range"
     ]
    }
   ],
   "source": [
    "for k in range(len(crypto_df2)):\n",
    "    crypto_df2[k]['TIME']=crypto_df2[k][0]\n",
    "    crypto_df2[k]['OPEN']=crypto_df2[k][1]\n",
    "    crypto_df2[k]['HIGH']=crypto_df2[k][2]\n",
    "    crypto_df2[k]['LOW']=crypto_df2[k][3]\n",
    "    crypto_df2[k]['CLOSE']=crypto_df2[k][4]\n",
    "    crypto_df2[k]['VOLUME']=crypto_df2[k][5]\n",
    "    crypto_df2[k]['SYMBOL']=crypto_df2[k][6]\n",
    "    crypto_df2[k].drop(columns =[0,1,2,3,4,5], axis=1, inplace=True)"
   ]
  },
  {
   "cell_type": "code",
   "execution_count": 54,
   "metadata": {},
   "outputs": [
    {
     "data": {
      "text/plain": [
       "[[], []]"
      ]
     },
     "execution_count": 54,
     "metadata": {},
     "output_type": "execute_result"
    }
   ],
   "source": [
    "crypto_df2"
   ]
  },
  {
   "cell_type": "code",
   "execution_count": null,
   "metadata": {},
   "outputs": [],
   "source": []
  }
 ],
 "metadata": {
  "kernelspec": {
   "display_name": "Python 3",
   "language": "python",
   "name": "python3"
  },
  "language_info": {
   "codemirror_mode": {
    "name": "ipython",
    "version": 3
   },
   "file_extension": ".py",
   "mimetype": "text/x-python",
   "name": "python",
   "nbconvert_exporter": "python",
   "pygments_lexer": "ipython3",
   "version": "3.7.1"
  }
 },
 "nbformat": 4,
 "nbformat_minor": 4
}
