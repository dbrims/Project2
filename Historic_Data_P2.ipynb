{
 "cells": [
  {
   "cell_type": "code",
   "execution_count": 1,
   "metadata": {},
   "outputs": [
    {
     "ename": "ModuleNotFoundError",
     "evalue": "No module named 'ccxt'",
     "output_type": "error",
     "traceback": [
      "\u001b[1;31m---------------------------------------------------------------------------\u001b[0m",
      "\u001b[1;31mModuleNotFoundError\u001b[0m                       Traceback (most recent call last)",
      "\u001b[1;32m<ipython-input-1-2eeb7d5dd73b>\u001b[0m in \u001b[0;36m<module>\u001b[1;34m\u001b[0m\n\u001b[0;32m      1\u001b[0m \u001b[1;32mimport\u001b[0m \u001b[0masyncio\u001b[0m\u001b[1;33m\u001b[0m\u001b[1;33m\u001b[0m\u001b[0m\n\u001b[1;32m----> 2\u001b[1;33m \u001b[1;32mimport\u001b[0m \u001b[0mccxt\u001b[0m\u001b[1;33m\u001b[0m\u001b[1;33m\u001b[0m\u001b[0m\n\u001b[0m\u001b[0;32m      3\u001b[0m \u001b[1;31m# import ccxt.async_support as ccxt # link against the asynchronous version of ccxt\u001b[0m\u001b[1;33m\u001b[0m\u001b[1;33m\u001b[0m\u001b[1;33m\u001b[0m\u001b[0m\n\u001b[0;32m      4\u001b[0m \u001b[1;32mimport\u001b[0m \u001b[0mpandas\u001b[0m \u001b[1;32mas\u001b[0m \u001b[0mpd\u001b[0m\u001b[1;33m\u001b[0m\u001b[1;33m\u001b[0m\u001b[0m\n\u001b[0;32m      5\u001b[0m \u001b[1;32mimport\u001b[0m \u001b[0mos\u001b[0m\u001b[1;33m\u001b[0m\u001b[1;33m\u001b[0m\u001b[0m\n",
      "\u001b[1;31mModuleNotFoundError\u001b[0m: No module named 'ccxt'"
     ]
    }
   ],
   "source": [
    "import asyncio\n",
    "import ccxt\n",
    "# import ccxt.async_support as ccxt # link against the asynchronous version of ccxt\n",
    "import pandas as pd\n",
    "import os\n",
    "import datetime\n",
    "import pandas_ta as ta\n",
    "from ccxt.base.exchange import Exchange\n",
    "import numpy as np"
   ]
  },
  {
   "cell_type": "code",
   "execution_count": 7,
   "metadata": {},
   "outputs": [],
   "source": [
    "# All available exchange classes\n",
    "# print(ccxt.exchanges) "
   ]
  },
  {
   "cell_type": "markdown",
   "metadata": {},
   "source": [
    "## Kraken Cryptos features (Part A)"
   ]
  },
  {
   "cell_type": "code",
   "execution_count": 6,
   "metadata": {},
   "outputs": [
    {
     "data": {
      "text/html": [
       "<div>\n",
       "<style scoped>\n",
       "    .dataframe tbody tr th:only-of-type {\n",
       "        vertical-align: middle;\n",
       "    }\n",
       "\n",
       "    .dataframe tbody tr th {\n",
       "        vertical-align: top;\n",
       "    }\n",
       "\n",
       "    .dataframe thead th {\n",
       "        text-align: right;\n",
       "    }\n",
       "</style>\n",
       "<table border=\"1\" class=\"dataframe\">\n",
       "  <thead>\n",
       "    <tr style=\"text-align: right;\">\n",
       "      <th></th>\n",
       "      <th>Symbol</th>\n",
       "      <th>market_cap</th>\n",
       "      <th>price</th>\n",
       "      <th>circulating_suppy</th>\n",
       "      <th>volume_24h</th>\n",
       "    </tr>\n",
       "  </thead>\n",
       "  <tbody>\n",
       "    <tr>\n",
       "      <th>0</th>\n",
       "      <td>BTC</td>\n",
       "      <td>1.709464e+11</td>\n",
       "      <td>9275.290000</td>\n",
       "      <td>1.843030e+07</td>\n",
       "      <td>1.325811e+10</td>\n",
       "    </tr>\n",
       "    <tr>\n",
       "      <th>1</th>\n",
       "      <td>ETH</td>\n",
       "      <td>2.689668e+10</td>\n",
       "      <td>240.750000</td>\n",
       "      <td>1.117204e+08</td>\n",
       "      <td>5.605297e+09</td>\n",
       "    </tr>\n",
       "    <tr>\n",
       "      <th>2</th>\n",
       "      <td>USDT</td>\n",
       "      <td>9.195400e+09</td>\n",
       "      <td>1.000000</td>\n",
       "      <td>9.195400e+09</td>\n",
       "      <td>1.683792e+10</td>\n",
       "    </tr>\n",
       "    <tr>\n",
       "      <th>3</th>\n",
       "      <td>XRP</td>\n",
       "      <td>8.934714e+09</td>\n",
       "      <td>0.201879</td>\n",
       "      <td>4.425777e+10</td>\n",
       "      <td>9.407886e+08</td>\n",
       "    </tr>\n",
       "    <tr>\n",
       "      <th>4</th>\n",
       "      <td>BCH</td>\n",
       "      <td>4.396195e+09</td>\n",
       "      <td>238.150000</td>\n",
       "      <td>1.845977e+07</td>\n",
       "      <td>8.456606e+08</td>\n",
       "    </tr>\n",
       "  </tbody>\n",
       "</table>\n",
       "</div>"
      ],
      "text/plain": [
       "  Symbol    market_cap        price  circulating_suppy    volume_24h\n",
       "0    BTC  1.709464e+11  9275.290000       1.843030e+07  1.325811e+10\n",
       "1    ETH  2.689668e+10   240.750000       1.117204e+08  5.605297e+09\n",
       "2   USDT  9.195400e+09     1.000000       9.195400e+09  1.683792e+10\n",
       "3    XRP  8.934714e+09     0.201879       4.425777e+10  9.407886e+08\n",
       "4    BCH  4.396195e+09   238.150000       1.845977e+07  8.456606e+08"
      ]
     },
     "execution_count": 6,
     "metadata": {},
     "output_type": "execute_result"
    }
   ],
   "source": [
    "#web scraping method\n",
    "url =\"https://coinmarketcap.com/all/views/all/\"\n",
    "coinmarket_url_df= pd.read_html(url)\n",
    "mc_df=coinmarket_url_df[2:]\n",
    "mc_df=mc_df[0]\n",
    "mc_df.dtypes\n",
    "mc_df['market_cap']=mc_df['Market Cap'].str.replace('$', '')\n",
    "mc_df['market_cap']=mc_df['market_cap'].str.replace(',', '').astype('float')\n",
    "mc_df['price']=mc_df['Price'].str.replace('$', '')\n",
    "mc_df['price']=mc_df['price'].str.replace(',', '').astype('float')\n",
    "mc_df['circulating_suppy']=mc_df.market_cap/mc_df.price\n",
    "mc_df['volume_24h']=mc_df['Volume (24h)'].str.replace('$', '')\n",
    "mc_df['volume_24h']=mc_df['volume_24h'].str.replace(',', '').astype('float')\n",
    "cm_crypto_features_df=mc_df.drop(columns=['Name','Rank','Market Cap','Price','Circulating Supply','Volume (24h)','% 1h','% 24h','% 7d','Unnamed: 10',],axis=1)\n",
    "cm_crypto_features_df.head()"
   ]
  },
  {
   "cell_type": "markdown",
   "metadata": {},
   "source": [
    "## Create list of tickers to pull data from Kraken"
   ]
  },
  {
   "cell_type": "code",
   "execution_count": 7,
   "metadata": {},
   "outputs": [
    {
     "data": {
      "text/plain": [
       "200"
      ]
     },
     "execution_count": 7,
     "metadata": {},
     "output_type": "execute_result"
    }
   ],
   "source": [
    "cm_crypto_features_df['ticker']=cm_crypto_features_df.Symbol+'/USD'\n",
    "tickers=cm_crypto_features_df.ticker.values.tolist()\n",
    "len(tickers)"
   ]
  },
  {
   "cell_type": "markdown",
   "metadata": {},
   "source": [
    "## Import data from Kraken"
   ]
  },
  {
   "cell_type": "code",
   "execution_count": 8,
   "metadata": {},
   "outputs": [],
   "source": [
    "# Import environment variables\n",
    "KRAKEN_PUBLIC_KEY = os.getenv('KRAKEN_PUBLIC_KEY')\n",
    "KRAKEN_SECRET_KEY = os.getenv('KRAKEN_SECRET_KEY')"
   ]
  },
  {
   "cell_type": "code",
   "execution_count": 9,
   "metadata": {},
   "outputs": [],
   "source": [
    "#Pull data from kraken\n",
    "# Set the public and private keys for the API\n",
    "exchange = ccxt.kraken({\n",
    "    'apiKey': KRAKEN_PUBLIC_KEY,\n",
    "    'secret': KRAKEN_SECRET_KEY,\n",
    "})\n",
    "since = exchange.parse8601('2020-01-01T00:00:00z')\n",
    "cols=['time','open','high','low','close','volume','ticker']\n",
    "symbols = tickers\n",
    "timeframe='1d'\n",
    "crypto_returns_df1= []\n",
    "for i in symbols:\n",
    "    try:\n",
    "        price_batch = pd.DataFrame(exchange.fetchOHLCV(i,timeframe, since, params = {}))\n",
    "        price_batch[6]=i\n",
    "        price_batch[0] = pd.to_datetime(price_batch[0], unit=\"ms\")\n",
    "        crypto_returns_df1.append(price_batch)\n",
    "    except Exception:\n",
    "        cryptos_historic_df_kraken = pd.concat(crypto_returns_df1)\n",
    "        cryptos_historic_df_kraken.columns=cols"
   ]
  },
  {
   "cell_type": "code",
   "execution_count": 10,
   "metadata": {},
   "outputs": [
    {
     "data": {
      "text/html": [
       "<div>\n",
       "<style scoped>\n",
       "    .dataframe tbody tr th:only-of-type {\n",
       "        vertical-align: middle;\n",
       "    }\n",
       "\n",
       "    .dataframe tbody tr th {\n",
       "        vertical-align: top;\n",
       "    }\n",
       "\n",
       "    .dataframe thead th {\n",
       "        text-align: right;\n",
       "    }\n",
       "</style>\n",
       "<table border=\"1\" class=\"dataframe\">\n",
       "  <thead>\n",
       "    <tr style=\"text-align: right;\">\n",
       "      <th></th>\n",
       "      <th>time</th>\n",
       "      <th>open</th>\n",
       "      <th>high</th>\n",
       "      <th>low</th>\n",
       "      <th>close</th>\n",
       "      <th>volume</th>\n",
       "      <th>ticker</th>\n",
       "    </tr>\n",
       "  </thead>\n",
       "  <tbody>\n",
       "    <tr>\n",
       "      <th>0</th>\n",
       "      <td>2020-01-01</td>\n",
       "      <td>7168.3</td>\n",
       "      <td>7235.0</td>\n",
       "      <td>7150.0</td>\n",
       "      <td>7174.4</td>\n",
       "      <td>1826.411607</td>\n",
       "      <td>BTC/USD</td>\n",
       "    </tr>\n",
       "    <tr>\n",
       "      <th>1</th>\n",
       "      <td>2020-01-02</td>\n",
       "      <td>7174.4</td>\n",
       "      <td>7185.8</td>\n",
       "      <td>6915.0</td>\n",
       "      <td>6942.3</td>\n",
       "      <td>4052.409028</td>\n",
       "      <td>BTC/USD</td>\n",
       "    </tr>\n",
       "    <tr>\n",
       "      <th>2</th>\n",
       "      <td>2020-01-03</td>\n",
       "      <td>6942.3</td>\n",
       "      <td>7397.3</td>\n",
       "      <td>6860.0</td>\n",
       "      <td>7334.8</td>\n",
       "      <td>8082.003268</td>\n",
       "      <td>BTC/USD</td>\n",
       "    </tr>\n",
       "    <tr>\n",
       "      <th>3</th>\n",
       "      <td>2020-01-04</td>\n",
       "      <td>7333.2</td>\n",
       "      <td>7396.4</td>\n",
       "      <td>7260.0</td>\n",
       "      <td>7350.2</td>\n",
       "      <td>2907.493439</td>\n",
       "      <td>BTC/USD</td>\n",
       "    </tr>\n",
       "    <tr>\n",
       "      <th>4</th>\n",
       "      <td>2020-01-05</td>\n",
       "      <td>7350.2</td>\n",
       "      <td>7493.3</td>\n",
       "      <td>7301.1</td>\n",
       "      <td>7346.9</td>\n",
       "      <td>2900.397843</td>\n",
       "      <td>BTC/USD</td>\n",
       "    </tr>\n",
       "  </tbody>\n",
       "</table>\n",
       "</div>"
      ],
      "text/plain": [
       "        time    open    high     low   close       volume   ticker\n",
       "0 2020-01-01  7168.3  7235.0  7150.0  7174.4  1826.411607  BTC/USD\n",
       "1 2020-01-02  7174.4  7185.8  6915.0  6942.3  4052.409028  BTC/USD\n",
       "2 2020-01-03  6942.3  7397.3  6860.0  7334.8  8082.003268  BTC/USD\n",
       "3 2020-01-04  7333.2  7396.4  7260.0  7350.2  2907.493439  BTC/USD\n",
       "4 2020-01-05  7350.2  7493.3  7301.1  7346.9  2900.397843  BTC/USD"
      ]
     },
     "execution_count": 10,
     "metadata": {},
     "output_type": "execute_result"
    }
   ],
   "source": [
    "cryptos_historic_df_kraken.head()"
   ]
  },
  {
   "cell_type": "code",
   "execution_count": 11,
   "metadata": {},
   "outputs": [
    {
     "data": {
      "text/plain": [
       "32"
      ]
     },
     "execution_count": 11,
     "metadata": {},
     "output_type": "execute_result"
    }
   ],
   "source": [
    "#Full df of cryptos\n",
    "crypto_close_kraken= cryptos_historic_df_kraken.drop(columns=['open','high','low','volume'],axis=1)\n",
    "crypto_close_kraken= crypto_close_kraken.pivot_table(index='time', columns='ticker', values='close', aggfunc='mean')\n",
    "crypto_close_kraken.sort_index(ascending=True).head(50)\n",
    "len(crypto_close_kraken.columns)"
   ]
  },
  {
   "cell_type": "code",
   "execution_count": 12,
   "metadata": {},
   "outputs": [
    {
     "data": {
      "text/plain": [
       "29"
      ]
     },
     "execution_count": 12,
     "metadata": {},
     "output_type": "execute_result"
    }
   ],
   "source": [
    "#cryptos df with same lenght of historic data\n",
    "filter_cryptos=pd.DataFrame(len(crypto_close_kraken) - crypto_close_kraken.count())\n",
    "filter_cryptos=list(filter_cryptos[filter_cryptos[0]==0].index.values)\n",
    "len(filter_cryptos)"
   ]
  },
  {
   "cell_type": "code",
   "execution_count": 13,
   "metadata": {},
   "outputs": [
    {
     "data": {
      "text/html": [
       "<div>\n",
       "<style scoped>\n",
       "    .dataframe tbody tr th:only-of-type {\n",
       "        vertical-align: middle;\n",
       "    }\n",
       "\n",
       "    .dataframe tbody tr th {\n",
       "        vertical-align: top;\n",
       "    }\n",
       "\n",
       "    .dataframe thead th {\n",
       "        text-align: right;\n",
       "    }\n",
       "</style>\n",
       "<table border=\"1\" class=\"dataframe\">\n",
       "  <thead>\n",
       "    <tr style=\"text-align: right;\">\n",
       "      <th>ticker</th>\n",
       "      <th>ADA/USD</th>\n",
       "      <th>ATOM/USD</th>\n",
       "      <th>BAT/USD</th>\n",
       "      <th>BCH/USD</th>\n",
       "      <th>BTC/USD</th>\n",
       "      <th>DAI/USD</th>\n",
       "      <th>DASH/USD</th>\n",
       "      <th>DOGE/USD</th>\n",
       "      <th>EOS/USD</th>\n",
       "      <th>ETC/USD</th>\n",
       "      <th>...</th>\n",
       "      <th>QTUM/USD</th>\n",
       "      <th>REP/USD</th>\n",
       "      <th>SC/USD</th>\n",
       "      <th>USDT/USD</th>\n",
       "      <th>WAVES/USD</th>\n",
       "      <th>XLM/USD</th>\n",
       "      <th>XMR/USD</th>\n",
       "      <th>XRP/USD</th>\n",
       "      <th>XTZ/USD</th>\n",
       "      <th>ZEC/USD</th>\n",
       "    </tr>\n",
       "    <tr>\n",
       "      <th>time</th>\n",
       "      <th></th>\n",
       "      <th></th>\n",
       "      <th></th>\n",
       "      <th></th>\n",
       "      <th></th>\n",
       "      <th></th>\n",
       "      <th></th>\n",
       "      <th></th>\n",
       "      <th></th>\n",
       "      <th></th>\n",
       "      <th></th>\n",
       "      <th></th>\n",
       "      <th></th>\n",
       "      <th></th>\n",
       "      <th></th>\n",
       "      <th></th>\n",
       "      <th></th>\n",
       "      <th></th>\n",
       "      <th></th>\n",
       "      <th></th>\n",
       "      <th></th>\n",
       "    </tr>\n",
       "  </thead>\n",
       "  <tbody>\n",
       "    <tr>\n",
       "      <th>2020-01-01</th>\n",
       "      <td>0.033411</td>\n",
       "      <td>4.3701</td>\n",
       "      <td>0.19543</td>\n",
       "      <td>203.5</td>\n",
       "      <td>7174.4</td>\n",
       "      <td>0.99482</td>\n",
       "      <td>41.811</td>\n",
       "      <td>0.002007</td>\n",
       "      <td>2.5788</td>\n",
       "      <td>4.489</td>\n",
       "      <td>...</td>\n",
       "      <td>1.59885</td>\n",
       "      <td>8.654</td>\n",
       "      <td>0.00130</td>\n",
       "      <td>0.9970</td>\n",
       "      <td>1.0457</td>\n",
       "      <td>0.045192</td>\n",
       "      <td>45.62</td>\n",
       "      <td>0.19269</td>\n",
       "      <td>1.3689</td>\n",
       "      <td>27.96</td>\n",
       "    </tr>\n",
       "    <tr>\n",
       "      <th>2020-01-02</th>\n",
       "      <td>0.032693</td>\n",
       "      <td>4.0624</td>\n",
       "      <td>0.18177</td>\n",
       "      <td>195.4</td>\n",
       "      <td>6942.3</td>\n",
       "      <td>0.99760</td>\n",
       "      <td>39.839</td>\n",
       "      <td>0.001991</td>\n",
       "      <td>2.4490</td>\n",
       "      <td>4.238</td>\n",
       "      <td>...</td>\n",
       "      <td>1.50101</td>\n",
       "      <td>8.477</td>\n",
       "      <td>0.00125</td>\n",
       "      <td>0.9970</td>\n",
       "      <td>0.9433</td>\n",
       "      <td>0.043520</td>\n",
       "      <td>45.28</td>\n",
       "      <td>0.18682</td>\n",
       "      <td>1.2300</td>\n",
       "      <td>26.97</td>\n",
       "    </tr>\n",
       "    <tr>\n",
       "      <th>2020-01-03</th>\n",
       "      <td>0.033847</td>\n",
       "      <td>4.2398</td>\n",
       "      <td>0.18645</td>\n",
       "      <td>221.6</td>\n",
       "      <td>7334.8</td>\n",
       "      <td>0.99750</td>\n",
       "      <td>43.726</td>\n",
       "      <td>0.002449</td>\n",
       "      <td>2.6325</td>\n",
       "      <td>4.562</td>\n",
       "      <td>...</td>\n",
       "      <td>1.61882</td>\n",
       "      <td>8.822</td>\n",
       "      <td>0.00131</td>\n",
       "      <td>0.9984</td>\n",
       "      <td>0.9489</td>\n",
       "      <td>0.045310</td>\n",
       "      <td>50.72</td>\n",
       "      <td>0.19286</td>\n",
       "      <td>1.2769</td>\n",
       "      <td>28.37</td>\n",
       "    </tr>\n",
       "    <tr>\n",
       "      <th>2020-01-04</th>\n",
       "      <td>0.034301</td>\n",
       "      <td>4.2315</td>\n",
       "      <td>0.18831</td>\n",
       "      <td>224.5</td>\n",
       "      <td>7350.2</td>\n",
       "      <td>0.99511</td>\n",
       "      <td>46.026</td>\n",
       "      <td>0.002060</td>\n",
       "      <td>2.6407</td>\n",
       "      <td>4.758</td>\n",
       "      <td>...</td>\n",
       "      <td>1.64227</td>\n",
       "      <td>9.090</td>\n",
       "      <td>0.00134</td>\n",
       "      <td>0.9979</td>\n",
       "      <td>0.9439</td>\n",
       "      <td>0.045513</td>\n",
       "      <td>50.37</td>\n",
       "      <td>0.19269</td>\n",
       "      <td>1.2541</td>\n",
       "      <td>29.88</td>\n",
       "    </tr>\n",
       "    <tr>\n",
       "      <th>2020-01-05</th>\n",
       "      <td>0.034487</td>\n",
       "      <td>4.1700</td>\n",
       "      <td>0.18706</td>\n",
       "      <td>222.6</td>\n",
       "      <td>7346.9</td>\n",
       "      <td>0.99781</td>\n",
       "      <td>51.055</td>\n",
       "      <td>0.002074</td>\n",
       "      <td>2.6777</td>\n",
       "      <td>4.878</td>\n",
       "      <td>...</td>\n",
       "      <td>1.61740</td>\n",
       "      <td>9.344</td>\n",
       "      <td>0.00135</td>\n",
       "      <td>0.9991</td>\n",
       "      <td>0.8914</td>\n",
       "      <td>0.045196</td>\n",
       "      <td>53.44</td>\n",
       "      <td>0.19443</td>\n",
       "      <td>1.2479</td>\n",
       "      <td>30.60</td>\n",
       "    </tr>\n",
       "  </tbody>\n",
       "</table>\n",
       "<p>5 rows × 29 columns</p>\n",
       "</div>"
      ],
      "text/plain": [
       "ticker       ADA/USD  ATOM/USD  BAT/USD  BCH/USD  BTC/USD  DAI/USD  DASH/USD  \\\n",
       "time                                                                           \n",
       "2020-01-01  0.033411    4.3701  0.19543    203.5   7174.4  0.99482    41.811   \n",
       "2020-01-02  0.032693    4.0624  0.18177    195.4   6942.3  0.99760    39.839   \n",
       "2020-01-03  0.033847    4.2398  0.18645    221.6   7334.8  0.99750    43.726   \n",
       "2020-01-04  0.034301    4.2315  0.18831    224.5   7350.2  0.99511    46.026   \n",
       "2020-01-05  0.034487    4.1700  0.18706    222.6   7346.9  0.99781    51.055   \n",
       "\n",
       "ticker      DOGE/USD  EOS/USD  ETC/USD  ...  QTUM/USD  REP/USD   SC/USD  \\\n",
       "time                                    ...                               \n",
       "2020-01-01  0.002007   2.5788    4.489  ...   1.59885    8.654  0.00130   \n",
       "2020-01-02  0.001991   2.4490    4.238  ...   1.50101    8.477  0.00125   \n",
       "2020-01-03  0.002449   2.6325    4.562  ...   1.61882    8.822  0.00131   \n",
       "2020-01-04  0.002060   2.6407    4.758  ...   1.64227    9.090  0.00134   \n",
       "2020-01-05  0.002074   2.6777    4.878  ...   1.61740    9.344  0.00135   \n",
       "\n",
       "ticker      USDT/USD  WAVES/USD   XLM/USD  XMR/USD  XRP/USD  XTZ/USD  ZEC/USD  \n",
       "time                                                                           \n",
       "2020-01-01    0.9970     1.0457  0.045192    45.62  0.19269   1.3689    27.96  \n",
       "2020-01-02    0.9970     0.9433  0.043520    45.28  0.18682   1.2300    26.97  \n",
       "2020-01-03    0.9984     0.9489  0.045310    50.72  0.19286   1.2769    28.37  \n",
       "2020-01-04    0.9979     0.9439  0.045513    50.37  0.19269   1.2541    29.88  \n",
       "2020-01-05    0.9991     0.8914  0.045196    53.44  0.19443   1.2479    30.60  \n",
       "\n",
       "[5 rows x 29 columns]"
      ]
     },
     "execution_count": 13,
     "metadata": {},
     "output_type": "execute_result"
    }
   ],
   "source": [
    "crypto_close_df=crypto_close_kraken[filter_cryptos]\n",
    "crypto_close_df.head()"
   ]
  },
  {
   "cell_type": "markdown",
   "metadata": {},
   "source": [
    "## Crypto Historic Returns"
   ]
  },
  {
   "cell_type": "code",
   "execution_count": 14,
   "metadata": {},
   "outputs": [
    {
     "data": {
      "text/html": [
       "<div>\n",
       "<style scoped>\n",
       "    .dataframe tbody tr th:only-of-type {\n",
       "        vertical-align: middle;\n",
       "    }\n",
       "\n",
       "    .dataframe tbody tr th {\n",
       "        vertical-align: top;\n",
       "    }\n",
       "\n",
       "    .dataframe thead th {\n",
       "        text-align: right;\n",
       "    }\n",
       "</style>\n",
       "<table border=\"1\" class=\"dataframe\">\n",
       "  <thead>\n",
       "    <tr style=\"text-align: right;\">\n",
       "      <th>ticker</th>\n",
       "      <th>ADA/USD</th>\n",
       "      <th>ATOM/USD</th>\n",
       "      <th>BAT/USD</th>\n",
       "      <th>BCH/USD</th>\n",
       "      <th>BTC/USD</th>\n",
       "      <th>DAI/USD</th>\n",
       "      <th>DASH/USD</th>\n",
       "      <th>DOGE/USD</th>\n",
       "      <th>EOS/USD</th>\n",
       "      <th>ETC/USD</th>\n",
       "      <th>...</th>\n",
       "      <th>QTUM/USD</th>\n",
       "      <th>REP/USD</th>\n",
       "      <th>SC/USD</th>\n",
       "      <th>USDT/USD</th>\n",
       "      <th>WAVES/USD</th>\n",
       "      <th>XLM/USD</th>\n",
       "      <th>XMR/USD</th>\n",
       "      <th>XRP/USD</th>\n",
       "      <th>XTZ/USD</th>\n",
       "      <th>ZEC/USD</th>\n",
       "    </tr>\n",
       "    <tr>\n",
       "      <th>time</th>\n",
       "      <th></th>\n",
       "      <th></th>\n",
       "      <th></th>\n",
       "      <th></th>\n",
       "      <th></th>\n",
       "      <th></th>\n",
       "      <th></th>\n",
       "      <th></th>\n",
       "      <th></th>\n",
       "      <th></th>\n",
       "      <th></th>\n",
       "      <th></th>\n",
       "      <th></th>\n",
       "      <th></th>\n",
       "      <th></th>\n",
       "      <th></th>\n",
       "      <th></th>\n",
       "      <th></th>\n",
       "      <th></th>\n",
       "      <th></th>\n",
       "      <th></th>\n",
       "    </tr>\n",
       "  </thead>\n",
       "  <tbody>\n",
       "    <tr>\n",
       "      <th>2020-01-02</th>\n",
       "      <td>-0.021490</td>\n",
       "      <td>-0.070410</td>\n",
       "      <td>-0.069897</td>\n",
       "      <td>-0.039803</td>\n",
       "      <td>-0.032351</td>\n",
       "      <td>0.002794</td>\n",
       "      <td>-0.047165</td>\n",
       "      <td>-0.007924</td>\n",
       "      <td>-0.050333</td>\n",
       "      <td>-0.055914</td>\n",
       "      <td>...</td>\n",
       "      <td>-0.061194</td>\n",
       "      <td>-0.020453</td>\n",
       "      <td>-0.038462</td>\n",
       "      <td>0.000000</td>\n",
       "      <td>-0.097925</td>\n",
       "      <td>-0.036998</td>\n",
       "      <td>-0.007453</td>\n",
       "      <td>-0.030463</td>\n",
       "      <td>-0.101468</td>\n",
       "      <td>-0.035408</td>\n",
       "    </tr>\n",
       "    <tr>\n",
       "      <th>2020-01-03</th>\n",
       "      <td>0.035298</td>\n",
       "      <td>0.043669</td>\n",
       "      <td>0.025747</td>\n",
       "      <td>0.134084</td>\n",
       "      <td>0.056537</td>\n",
       "      <td>-0.000100</td>\n",
       "      <td>0.097568</td>\n",
       "      <td>0.230483</td>\n",
       "      <td>0.074929</td>\n",
       "      <td>0.076451</td>\n",
       "      <td>...</td>\n",
       "      <td>0.078487</td>\n",
       "      <td>0.040698</td>\n",
       "      <td>0.048000</td>\n",
       "      <td>0.001404</td>\n",
       "      <td>0.005937</td>\n",
       "      <td>0.041131</td>\n",
       "      <td>0.120141</td>\n",
       "      <td>0.032331</td>\n",
       "      <td>0.038130</td>\n",
       "      <td>0.051910</td>\n",
       "    </tr>\n",
       "    <tr>\n",
       "      <th>2020-01-04</th>\n",
       "      <td>0.013413</td>\n",
       "      <td>-0.001958</td>\n",
       "      <td>0.009976</td>\n",
       "      <td>0.013087</td>\n",
       "      <td>0.002100</td>\n",
       "      <td>-0.002396</td>\n",
       "      <td>0.052600</td>\n",
       "      <td>-0.159059</td>\n",
       "      <td>0.003115</td>\n",
       "      <td>0.042964</td>\n",
       "      <td>...</td>\n",
       "      <td>0.014486</td>\n",
       "      <td>0.030379</td>\n",
       "      <td>0.022901</td>\n",
       "      <td>-0.000501</td>\n",
       "      <td>-0.005269</td>\n",
       "      <td>0.004480</td>\n",
       "      <td>-0.006901</td>\n",
       "      <td>-0.000881</td>\n",
       "      <td>-0.017856</td>\n",
       "      <td>0.053225</td>\n",
       "    </tr>\n",
       "    <tr>\n",
       "      <th>2020-01-05</th>\n",
       "      <td>0.005423</td>\n",
       "      <td>-0.014534</td>\n",
       "      <td>-0.006638</td>\n",
       "      <td>-0.008463</td>\n",
       "      <td>-0.000449</td>\n",
       "      <td>0.002713</td>\n",
       "      <td>0.109264</td>\n",
       "      <td>0.006797</td>\n",
       "      <td>0.014011</td>\n",
       "      <td>0.025221</td>\n",
       "      <td>...</td>\n",
       "      <td>-0.015144</td>\n",
       "      <td>0.027943</td>\n",
       "      <td>0.007463</td>\n",
       "      <td>0.001203</td>\n",
       "      <td>-0.055620</td>\n",
       "      <td>-0.006965</td>\n",
       "      <td>0.060949</td>\n",
       "      <td>0.009030</td>\n",
       "      <td>-0.004944</td>\n",
       "      <td>0.024096</td>\n",
       "    </tr>\n",
       "    <tr>\n",
       "      <th>2020-01-06</th>\n",
       "      <td>0.083858</td>\n",
       "      <td>-0.015228</td>\n",
       "      <td>0.014755</td>\n",
       "      <td>0.097035</td>\n",
       "      <td>0.055860</td>\n",
       "      <td>-0.000712</td>\n",
       "      <td>0.111194</td>\n",
       "      <td>0.029511</td>\n",
       "      <td>0.065205</td>\n",
       "      <td>0.029315</td>\n",
       "      <td>...</td>\n",
       "      <td>0.069197</td>\n",
       "      <td>0.031999</td>\n",
       "      <td>0.037037</td>\n",
       "      <td>0.001301</td>\n",
       "      <td>0.003365</td>\n",
       "      <td>0.118595</td>\n",
       "      <td>0.102171</td>\n",
       "      <td>0.148485</td>\n",
       "      <td>0.042792</td>\n",
       "      <td>0.067320</td>\n",
       "    </tr>\n",
       "  </tbody>\n",
       "</table>\n",
       "<p>5 rows × 29 columns</p>\n",
       "</div>"
      ],
      "text/plain": [
       "ticker       ADA/USD  ATOM/USD   BAT/USD   BCH/USD   BTC/USD   DAI/USD  \\\n",
       "time                                                                     \n",
       "2020-01-02 -0.021490 -0.070410 -0.069897 -0.039803 -0.032351  0.002794   \n",
       "2020-01-03  0.035298  0.043669  0.025747  0.134084  0.056537 -0.000100   \n",
       "2020-01-04  0.013413 -0.001958  0.009976  0.013087  0.002100 -0.002396   \n",
       "2020-01-05  0.005423 -0.014534 -0.006638 -0.008463 -0.000449  0.002713   \n",
       "2020-01-06  0.083858 -0.015228  0.014755  0.097035  0.055860 -0.000712   \n",
       "\n",
       "ticker      DASH/USD  DOGE/USD   EOS/USD   ETC/USD  ...  QTUM/USD   REP/USD  \\\n",
       "time                                                ...                       \n",
       "2020-01-02 -0.047165 -0.007924 -0.050333 -0.055914  ... -0.061194 -0.020453   \n",
       "2020-01-03  0.097568  0.230483  0.074929  0.076451  ...  0.078487  0.040698   \n",
       "2020-01-04  0.052600 -0.159059  0.003115  0.042964  ...  0.014486  0.030379   \n",
       "2020-01-05  0.109264  0.006797  0.014011  0.025221  ... -0.015144  0.027943   \n",
       "2020-01-06  0.111194  0.029511  0.065205  0.029315  ...  0.069197  0.031999   \n",
       "\n",
       "ticker        SC/USD  USDT/USD  WAVES/USD   XLM/USD   XMR/USD   XRP/USD  \\\n",
       "time                                                                      \n",
       "2020-01-02 -0.038462  0.000000  -0.097925 -0.036998 -0.007453 -0.030463   \n",
       "2020-01-03  0.048000  0.001404   0.005937  0.041131  0.120141  0.032331   \n",
       "2020-01-04  0.022901 -0.000501  -0.005269  0.004480 -0.006901 -0.000881   \n",
       "2020-01-05  0.007463  0.001203  -0.055620 -0.006965  0.060949  0.009030   \n",
       "2020-01-06  0.037037  0.001301   0.003365  0.118595  0.102171  0.148485   \n",
       "\n",
       "ticker       XTZ/USD   ZEC/USD  \n",
       "time                            \n",
       "2020-01-02 -0.101468 -0.035408  \n",
       "2020-01-03  0.038130  0.051910  \n",
       "2020-01-04 -0.017856  0.053225  \n",
       "2020-01-05 -0.004944  0.024096  \n",
       "2020-01-06  0.042792  0.067320  \n",
       "\n",
       "[5 rows x 29 columns]"
      ]
     },
     "execution_count": 14,
     "metadata": {},
     "output_type": "execute_result"
    }
   ],
   "source": [
    "# Calculate Daily Returns \n",
    "crypto_returns = (crypto_close_df - crypto_close_df.shift(1)) / crypto_close_df.shift(1)\n",
    "crypto_returns = crypto_returns.dropna()\n",
    "crypto_returns.head()"
   ]
  },
  {
   "cell_type": "code",
   "execution_count": 15,
   "metadata": {},
   "outputs": [
    {
     "data": {
      "text/html": [
       "<div>\n",
       "<style scoped>\n",
       "    .dataframe tbody tr th:only-of-type {\n",
       "        vertical-align: middle;\n",
       "    }\n",
       "\n",
       "    .dataframe tbody tr th {\n",
       "        vertical-align: top;\n",
       "    }\n",
       "\n",
       "    .dataframe thead th {\n",
       "        text-align: right;\n",
       "    }\n",
       "</style>\n",
       "<table border=\"1\" class=\"dataframe\">\n",
       "  <thead>\n",
       "    <tr style=\"text-align: right;\">\n",
       "      <th></th>\n",
       "      <th>SD</th>\n",
       "    </tr>\n",
       "    <tr>\n",
       "      <th>ticker</th>\n",
       "      <th></th>\n",
       "    </tr>\n",
       "  </thead>\n",
       "  <tbody>\n",
       "    <tr>\n",
       "      <th>ADA/USD</th>\n",
       "      <td>1.007010</td>\n",
       "    </tr>\n",
       "    <tr>\n",
       "      <th>ATOM/USD</th>\n",
       "      <td>0.956552</td>\n",
       "    </tr>\n",
       "    <tr>\n",
       "      <th>BAT/USD</th>\n",
       "      <td>0.967987</td>\n",
       "    </tr>\n",
       "    <tr>\n",
       "      <th>BCH/USD</th>\n",
       "      <td>1.034626</td>\n",
       "    </tr>\n",
       "    <tr>\n",
       "      <th>BTC/USD</th>\n",
       "      <td>0.744387</td>\n",
       "    </tr>\n",
       "  </tbody>\n",
       "</table>\n",
       "</div>"
      ],
      "text/plain": [
       "                SD\n",
       "ticker            \n",
       "ADA/USD   1.007010\n",
       "ATOM/USD  0.956552\n",
       "BAT/USD   0.967987\n",
       "BCH/USD   1.034626\n",
       "BTC/USD   0.744387"
      ]
     },
     "execution_count": 15,
     "metadata": {},
     "output_type": "execute_result"
    }
   ],
   "source": [
    "# Annualized Standard Deviations\n",
    "annualized_std = crypto_returns.std()* np.sqrt(252)\n",
    "annualized_std = annualized_std.to_frame()\n",
    "annualized_std.columns=['SD']\n",
    "annualized_std.head()"
   ]
  },
  {
   "cell_type": "code",
   "execution_count": 16,
   "metadata": {},
   "outputs": [
    {
     "data": {
      "text/html": [
       "<div>\n",
       "<style scoped>\n",
       "    .dataframe tbody tr th:only-of-type {\n",
       "        vertical-align: middle;\n",
       "    }\n",
       "\n",
       "    .dataframe tbody tr th {\n",
       "        vertical-align: top;\n",
       "    }\n",
       "\n",
       "    .dataframe thead th {\n",
       "        text-align: right;\n",
       "    }\n",
       "</style>\n",
       "<table border=\"1\" class=\"dataframe\">\n",
       "  <thead>\n",
       "    <tr style=\"text-align: right;\">\n",
       "      <th></th>\n",
       "      <th>sharpe_ratio</th>\n",
       "    </tr>\n",
       "    <tr>\n",
       "      <th>ticker</th>\n",
       "      <th></th>\n",
       "    </tr>\n",
       "  </thead>\n",
       "  <tbody>\n",
       "    <tr>\n",
       "      <th>ADA/USD</th>\n",
       "      <td>2.266720</td>\n",
       "    </tr>\n",
       "    <tr>\n",
       "      <th>ATOM/USD</th>\n",
       "      <td>0.434251</td>\n",
       "    </tr>\n",
       "    <tr>\n",
       "      <th>BAT/USD</th>\n",
       "      <td>0.915694</td>\n",
       "    </tr>\n",
       "    <tr>\n",
       "      <th>BCH/USD</th>\n",
       "      <td>0.756624</td>\n",
       "    </tr>\n",
       "    <tr>\n",
       "      <th>BTC/USD</th>\n",
       "      <td>0.865659</td>\n",
       "    </tr>\n",
       "  </tbody>\n",
       "</table>\n",
       "</div>"
      ],
      "text/plain": [
       "          sharpe_ratio\n",
       "ticker                \n",
       "ADA/USD       2.266720\n",
       "ATOM/USD      0.434251\n",
       "BAT/USD       0.915694\n",
       "BCH/USD       0.756624\n",
       "BTC/USD       0.865659"
      ]
     },
     "execution_count": 16,
     "metadata": {},
     "output_type": "execute_result"
    }
   ],
   "source": [
    "# Annualzied Sharpe Ratios\n",
    "sharpe_ratios = (crypto_returns.mean() * 252) / (crypto_returns.std() * np.sqrt(252))\n",
    "sharpe_ratios = sharpe_ratios.to_frame()\n",
    "sharpe_ratios.columns = ['sharpe_ratio']\n",
    "sharpe_ratios.head()"
   ]
  },
  {
   "cell_type": "markdown",
   "metadata": {},
   "source": [
    "## Kraken Cryptos features (Part B)"
   ]
  },
  {
   "cell_type": "code",
   "execution_count": 17,
   "metadata": {},
   "outputs": [],
   "source": [
    "cm_crypto_features_df['ticker']=cm_crypto_features_df.Symbol+'/USD'\n",
    "crypto_features_df=cm_crypto_features_df.set_index('ticker')\n",
    "crypto_features_df=crypto_features_df.drop('Symbol',axis=1)"
   ]
  },
  {
   "cell_type": "code",
   "execution_count": 18,
   "metadata": {},
   "outputs": [
    {
     "data": {
      "text/html": [
       "<div>\n",
       "<style scoped>\n",
       "    .dataframe tbody tr th:only-of-type {\n",
       "        vertical-align: middle;\n",
       "    }\n",
       "\n",
       "    .dataframe tbody tr th {\n",
       "        vertical-align: top;\n",
       "    }\n",
       "\n",
       "    .dataframe thead th {\n",
       "        text-align: right;\n",
       "    }\n",
       "</style>\n",
       "<table border=\"1\" class=\"dataframe\">\n",
       "  <thead>\n",
       "    <tr style=\"text-align: right;\">\n",
       "      <th></th>\n",
       "      <th>market_cap</th>\n",
       "      <th>price</th>\n",
       "      <th>circulating_suppy</th>\n",
       "      <th>volume_24h</th>\n",
       "      <th>sharpe_ratio</th>\n",
       "      <th>SD</th>\n",
       "    </tr>\n",
       "    <tr>\n",
       "      <th>ticker</th>\n",
       "      <th></th>\n",
       "      <th></th>\n",
       "      <th></th>\n",
       "      <th></th>\n",
       "      <th></th>\n",
       "      <th></th>\n",
       "    </tr>\n",
       "  </thead>\n",
       "  <tbody>\n",
       "    <tr>\n",
       "      <th>BTC/USD</th>\n",
       "      <td>1.709464e+11</td>\n",
       "      <td>9275.290000</td>\n",
       "      <td>1.843030e+07</td>\n",
       "      <td>1.325811e+10</td>\n",
       "      <td>0.865659</td>\n",
       "      <td>0.744387</td>\n",
       "    </tr>\n",
       "    <tr>\n",
       "      <th>ETH/USD</th>\n",
       "      <td>2.689668e+10</td>\n",
       "      <td>240.750000</td>\n",
       "      <td>1.117204e+08</td>\n",
       "      <td>5.605297e+09</td>\n",
       "      <td>1.368957</td>\n",
       "      <td>0.944758</td>\n",
       "    </tr>\n",
       "    <tr>\n",
       "      <th>USDT/USD</th>\n",
       "      <td>9.195400e+09</td>\n",
       "      <td>1.000000</td>\n",
       "      <td>9.195400e+09</td>\n",
       "      <td>1.683792e+10</td>\n",
       "      <td>0.164821</td>\n",
       "      <td>0.025821</td>\n",
       "    </tr>\n",
       "    <tr>\n",
       "      <th>XRP/USD</th>\n",
       "      <td>8.934714e+09</td>\n",
       "      <td>0.201879</td>\n",
       "      <td>4.425777e+10</td>\n",
       "      <td>9.407886e+08</td>\n",
       "      <td>0.486732</td>\n",
       "      <td>0.763476</td>\n",
       "    </tr>\n",
       "    <tr>\n",
       "      <th>BCH/USD</th>\n",
       "      <td>4.396195e+09</td>\n",
       "      <td>238.150000</td>\n",
       "      <td>1.845977e+07</td>\n",
       "      <td>8.456606e+08</td>\n",
       "      <td>0.756624</td>\n",
       "      <td>1.034626</td>\n",
       "    </tr>\n",
       "  </tbody>\n",
       "</table>\n",
       "</div>"
      ],
      "text/plain": [
       "            market_cap        price  circulating_suppy    volume_24h  \\\n",
       "ticker                                                                 \n",
       "BTC/USD   1.709464e+11  9275.290000       1.843030e+07  1.325811e+10   \n",
       "ETH/USD   2.689668e+10   240.750000       1.117204e+08  5.605297e+09   \n",
       "USDT/USD  9.195400e+09     1.000000       9.195400e+09  1.683792e+10   \n",
       "XRP/USD   8.934714e+09     0.201879       4.425777e+10  9.407886e+08   \n",
       "BCH/USD   4.396195e+09   238.150000       1.845977e+07  8.456606e+08   \n",
       "\n",
       "          sharpe_ratio        SD  \n",
       "ticker                            \n",
       "BTC/USD       0.865659  0.744387  \n",
       "ETH/USD       1.368957  0.944758  \n",
       "USDT/USD      0.164821  0.025821  \n",
       "XRP/USD       0.486732  0.763476  \n",
       "BCH/USD       0.756624  1.034626  "
      ]
     },
     "execution_count": 18,
     "metadata": {},
     "output_type": "execute_result"
    }
   ],
   "source": [
    "left_merge=crypto_features_df.join(sharpe_ratios,how='inner')\n",
    "crypto_features_df=left_merge.join(annualized_std,how='inner')\n",
    "crypto_features_df.head()"
   ]
  },
  {
   "cell_type": "markdown",
   "metadata": {},
   "source": [
    "## Standarize Data"
   ]
  },
  {
   "cell_type": "code",
   "execution_count": 19,
   "metadata": {},
   "outputs": [
    {
     "name": "stdout",
     "output_type": "stream",
     "text": [
      "[[ 5.21861481  5.19231934 -0.37584443  3.04526555 -0.55057602 -0.57821324]]\n"
     ]
    }
   ],
   "source": [
    "# Standardize data\n",
    "from sklearn.preprocessing import StandardScaler, MinMaxScaler\n",
    "crypto_df_scaled = StandardScaler().fit_transform(crypto_features_df)\n",
    "print(crypto_df_scaled[0:1])"
   ]
  },
  {
   "cell_type": "code",
   "execution_count": 23,
   "metadata": {},
   "outputs": [
    {
     "data": {
      "text/plain": [
       "array([ 7.31020875e+00,  3.22177804e+00, -2.05223780e-03])"
      ]
     },
     "execution_count": 23,
     "metadata": {},
     "output_type": "execute_result"
    }
   ],
   "source": [
    "# Initialize PCA model to reduce dimension to 3 principal components\n",
    "from sklearn.decomposition import PCA\n",
    "pca = PCA(n_components=3)\n",
    "\n",
    "# Get three principal components for the data.\n",
    "crypto_pca = pca.fit_transform(crypto_df_scaled)\n",
    "crypto_pca[0]"
   ]
  },
  {
   "cell_type": "code",
   "execution_count": 24,
   "metadata": {},
   "outputs": [
    {
     "data": {
      "text/html": [
       "<div>\n",
       "<style scoped>\n",
       "    .dataframe tbody tr th:only-of-type {\n",
       "        vertical-align: middle;\n",
       "    }\n",
       "\n",
       "    .dataframe tbody tr th {\n",
       "        vertical-align: top;\n",
       "    }\n",
       "\n",
       "    .dataframe thead th {\n",
       "        text-align: right;\n",
       "    }\n",
       "</style>\n",
       "<table border=\"1\" class=\"dataframe\">\n",
       "  <thead>\n",
       "    <tr style=\"text-align: right;\">\n",
       "      <th></th>\n",
       "      <th>PC1</th>\n",
       "      <th>PC2</th>\n",
       "      <th>PC3</th>\n",
       "    </tr>\n",
       "    <tr>\n",
       "      <th>ticker</th>\n",
       "      <th></th>\n",
       "      <th></th>\n",
       "      <th></th>\n",
       "    </tr>\n",
       "  </thead>\n",
       "  <tbody>\n",
       "    <tr>\n",
       "      <th>BTC/USD</th>\n",
       "      <td>7.310209</td>\n",
       "      <td>3.221778</td>\n",
       "      <td>-0.002052</td>\n",
       "    </tr>\n",
       "    <tr>\n",
       "      <th>ETH/USD</th>\n",
       "      <td>0.693717</td>\n",
       "      <td>0.383108</td>\n",
       "      <td>-0.273008</td>\n",
       "    </tr>\n",
       "    <tr>\n",
       "      <th>USDT/USD</th>\n",
       "      <td>3.482463</td>\n",
       "      <td>-3.160614</td>\n",
       "      <td>0.754479</td>\n",
       "    </tr>\n",
       "    <tr>\n",
       "      <th>XRP/USD</th>\n",
       "      <td>0.217656</td>\n",
       "      <td>-0.997794</td>\n",
       "      <td>1.463341</td>\n",
       "    </tr>\n",
       "    <tr>\n",
       "      <th>BCH/USD</th>\n",
       "      <td>-0.086939</td>\n",
       "      <td>-0.331636</td>\n",
       "      <td>-0.400857</td>\n",
       "    </tr>\n",
       "  </tbody>\n",
       "</table>\n",
       "</div>"
      ],
      "text/plain": [
       "               PC1       PC2       PC3\n",
       "ticker                                \n",
       "BTC/USD   7.310209  3.221778 -0.002052\n",
       "ETH/USD   0.693717  0.383108 -0.273008\n",
       "USDT/USD  3.482463 -3.160614  0.754479\n",
       "XRP/USD   0.217656 -0.997794  1.463341\n",
       "BCH/USD  -0.086939 -0.331636 -0.400857"
      ]
     },
     "execution_count": 24,
     "metadata": {},
     "output_type": "execute_result"
    }
   ],
   "source": [
    "# Transform PCA data to a DataFrame\n",
    "df_crypto_pca = pd.DataFrame(\n",
    "    data=crypto_pca, columns=[\"PC1\", \"PC2\",\"PC3\"],index=crypto_features_df.index)\n",
    "# df_crypto_pca['symbol']=df_crypto_pca.index.values-'/USD'\n",
    "df_crypto_pca.head()"
   ]
  },
  {
   "cell_type": "code",
   "execution_count": 25,
   "metadata": {},
   "outputs": [
    {
     "data": {
      "text/plain": [
       "array([0.45868977, 0.24009862, 0.16398322])"
      ]
     },
     "execution_count": 25,
     "metadata": {},
     "output_type": "execute_result"
    }
   ],
   "source": [
    "#Explained variance\n",
    "pca.explained_variance_ratio_"
   ]
  },
  {
   "cell_type": "markdown",
   "metadata": {},
   "source": [
    "## Clustering Crytocurrencies Using Spectral Clustering"
   ]
  },
  {
   "cell_type": "code",
   "execution_count": 26,
   "metadata": {},
   "outputs": [],
   "source": [
    "from sklearn.cluster import SpectralClustering\n",
    "# Initialize the Spectral Clustering model\n",
    "model = SpectralClustering(n_clusters=3, random_state=5)"
   ]
  },
  {
   "cell_type": "code",
   "execution_count": 27,
   "metadata": {},
   "outputs": [
    {
     "data": {
      "text/plain": [
       "SpectralClustering(affinity='rbf', assign_labels='kmeans', coef0=1, degree=3,\n",
       "                   eigen_solver=None, eigen_tol=0.0, gamma=1.0,\n",
       "                   kernel_params=None, n_clusters=3, n_components=None,\n",
       "                   n_init=10, n_jobs=None, n_neighbors=10, random_state=5)"
      ]
     },
     "execution_count": 27,
     "metadata": {},
     "output_type": "execute_result"
    }
   ],
   "source": [
    "# Fit the model\n",
    "model.fit(df_crypto_pca)"
   ]
  },
  {
   "cell_type": "code",
   "execution_count": 28,
   "metadata": {},
   "outputs": [
    {
     "name": "stdout",
     "output_type": "stream",
     "text": [
      "[0 0 1 0 0 2 0 0 0 0 0 0 0 0 0 0 1 0 0 0 0 0 2 0 2 0 0 0 0]\n"
     ]
    }
   ],
   "source": [
    "# Predict clusters\n",
    "predictions = model.fit_predict(df_crypto_pca)\n",
    "print(predictions)"
   ]
  },
  {
   "cell_type": "code",
   "execution_count": 29,
   "metadata": {},
   "outputs": [
    {
     "data": {
      "text/html": [
       "<div>\n",
       "<style scoped>\n",
       "    .dataframe tbody tr th:only-of-type {\n",
       "        vertical-align: middle;\n",
       "    }\n",
       "\n",
       "    .dataframe tbody tr th {\n",
       "        vertical-align: top;\n",
       "    }\n",
       "\n",
       "    .dataframe thead th {\n",
       "        text-align: right;\n",
       "    }\n",
       "</style>\n",
       "<table border=\"1\" class=\"dataframe\">\n",
       "  <thead>\n",
       "    <tr style=\"text-align: right;\">\n",
       "      <th></th>\n",
       "      <th>market_cap</th>\n",
       "      <th>price</th>\n",
       "      <th>circulating_suppy</th>\n",
       "      <th>volume_24h</th>\n",
       "      <th>sharpe_ratio</th>\n",
       "      <th>SD</th>\n",
       "      <th>PC1</th>\n",
       "      <th>PC2</th>\n",
       "      <th>PC3</th>\n",
       "      <th>Class</th>\n",
       "      <th>symbol</th>\n",
       "    </tr>\n",
       "    <tr>\n",
       "      <th>ticker</th>\n",
       "      <th></th>\n",
       "      <th></th>\n",
       "      <th></th>\n",
       "      <th></th>\n",
       "      <th></th>\n",
       "      <th></th>\n",
       "      <th></th>\n",
       "      <th></th>\n",
       "      <th></th>\n",
       "      <th></th>\n",
       "      <th></th>\n",
       "    </tr>\n",
       "  </thead>\n",
       "  <tbody>\n",
       "    <tr>\n",
       "      <th>BTC/USD</th>\n",
       "      <td>1.709464e+11</td>\n",
       "      <td>9275.290000</td>\n",
       "      <td>1.843030e+07</td>\n",
       "      <td>1.325811e+10</td>\n",
       "      <td>0.865659</td>\n",
       "      <td>0.744387</td>\n",
       "      <td>7.310209</td>\n",
       "      <td>3.221778</td>\n",
       "      <td>-0.002052</td>\n",
       "      <td>0</td>\n",
       "      <td>BTC/USD</td>\n",
       "    </tr>\n",
       "    <tr>\n",
       "      <th>ETH/USD</th>\n",
       "      <td>2.689668e+10</td>\n",
       "      <td>240.750000</td>\n",
       "      <td>1.117204e+08</td>\n",
       "      <td>5.605297e+09</td>\n",
       "      <td>1.368957</td>\n",
       "      <td>0.944758</td>\n",
       "      <td>0.693717</td>\n",
       "      <td>0.383108</td>\n",
       "      <td>-0.273008</td>\n",
       "      <td>0</td>\n",
       "      <td>ETH/USD</td>\n",
       "    </tr>\n",
       "    <tr>\n",
       "      <th>USDT/USD</th>\n",
       "      <td>9.195400e+09</td>\n",
       "      <td>1.000000</td>\n",
       "      <td>9.195400e+09</td>\n",
       "      <td>1.683792e+10</td>\n",
       "      <td>0.164821</td>\n",
       "      <td>0.025821</td>\n",
       "      <td>3.482463</td>\n",
       "      <td>-3.160614</td>\n",
       "      <td>0.754479</td>\n",
       "      <td>1</td>\n",
       "      <td>USDT/USD</td>\n",
       "    </tr>\n",
       "    <tr>\n",
       "      <th>XRP/USD</th>\n",
       "      <td>8.934714e+09</td>\n",
       "      <td>0.201879</td>\n",
       "      <td>4.425777e+10</td>\n",
       "      <td>9.407886e+08</td>\n",
       "      <td>0.486732</td>\n",
       "      <td>0.763476</td>\n",
       "      <td>0.217656</td>\n",
       "      <td>-0.997794</td>\n",
       "      <td>1.463341</td>\n",
       "      <td>0</td>\n",
       "      <td>XRP/USD</td>\n",
       "    </tr>\n",
       "    <tr>\n",
       "      <th>BCH/USD</th>\n",
       "      <td>4.396195e+09</td>\n",
       "      <td>238.150000</td>\n",
       "      <td>1.845977e+07</td>\n",
       "      <td>8.456606e+08</td>\n",
       "      <td>0.756624</td>\n",
       "      <td>1.034626</td>\n",
       "      <td>-0.086939</td>\n",
       "      <td>-0.331636</td>\n",
       "      <td>-0.400857</td>\n",
       "      <td>0</td>\n",
       "      <td>BCH/USD</td>\n",
       "    </tr>\n",
       "  </tbody>\n",
       "</table>\n",
       "</div>"
      ],
      "text/plain": [
       "            market_cap        price  circulating_suppy    volume_24h  \\\n",
       "ticker                                                                 \n",
       "BTC/USD   1.709464e+11  9275.290000       1.843030e+07  1.325811e+10   \n",
       "ETH/USD   2.689668e+10   240.750000       1.117204e+08  5.605297e+09   \n",
       "USDT/USD  9.195400e+09     1.000000       9.195400e+09  1.683792e+10   \n",
       "XRP/USD   8.934714e+09     0.201879       4.425777e+10  9.407886e+08   \n",
       "BCH/USD   4.396195e+09   238.150000       1.845977e+07  8.456606e+08   \n",
       "\n",
       "          sharpe_ratio        SD       PC1       PC2       PC3  Class  \\\n",
       "ticker                                                                  \n",
       "BTC/USD       0.865659  0.744387  7.310209  3.221778 -0.002052      0   \n",
       "ETH/USD       1.368957  0.944758  0.693717  0.383108 -0.273008      0   \n",
       "USDT/USD      0.164821  0.025821  3.482463 -3.160614  0.754479      1   \n",
       "XRP/USD       0.486732  0.763476  0.217656 -0.997794  1.463341      0   \n",
       "BCH/USD       0.756624  1.034626 -0.086939 -0.331636 -0.400857      0   \n",
       "\n",
       "            symbol  \n",
       "ticker              \n",
       "BTC/USD    BTC/USD  \n",
       "ETH/USD    ETH/USD  \n",
       "USDT/USD  USDT/USD  \n",
       "XRP/USD    XRP/USD  \n",
       "BCH/USD    BCH/USD  "
      ]
     },
     "execution_count": 29,
     "metadata": {},
     "output_type": "execute_result"
    }
   ],
   "source": [
    "# Create a new DataFrame including predicted clusters and cryptocurrencies features\n",
    "# df_crypto_pca[\"CoinName\"] = crypto_names\n",
    "df_crypto_pca[\"Class\"] = model.labels_\n",
    "\n",
    "clustered_df = crypto_features_df.join(df_crypto_pca)\n",
    "clustered_df['symbol']=clustered_df.index.values\n",
    "clustered_df.head()\n"
   ]
  },
  {
   "cell_type": "code",
   "execution_count": 32,
   "metadata": {},
   "outputs": [
    {
     "data": {
      "application/vnd.plotly.v1+json": {
       "config": {
        "plotlyServerURL": "https://plot.ly"
       },
       "data": [
        {
         "customdata": [
          [
           0.8656588818815978
          ],
          [
           1.36895734784328
          ],
          [
           0.4867322648713686
          ],
          [
           0.756623692885696
          ],
          [
           0.5877816552769468
          ],
          [
           0.5240830781920158
          ],
          [
           2.161885347667907
          ],
          [
           1.412903883575219
          ],
          [
           1.5824229680720152
          ],
          [
           1.12266879851423
          ],
          [
           0.4342510710820228
          ],
          [
           1.0257631894641792
          ],
          [
           1.1822396496188394
          ],
          [
           1.4333069371497849
          ],
          [
           0.9156944278694097
          ],
          [
           1.9533283285512717
          ],
          [
           1.6102226169025038
          ],
          [
           1.432931606706558
          ],
          [
           0.897432381338962
          ],
          [
           1.5362395357848815
          ],
          [
           1.1067776873596153
          ],
          [
           0.7011409145295924
          ],
          [
           1.004523593768755
          ],
          [
           1.7787420283800301
          ]
         ],
         "hovertemplate": "<b>%{hovertext}</b><br><br>Class=%{marker.color}<br>PC1=%{x}<br>PC2=%{y}<br>PC3=%{z}<br>sharpe_ratio=%{customdata[0]}<extra></extra>",
         "hovertext": [
          "BTC/USD",
          "ETH/USD",
          "XRP/USD",
          "BCH/USD",
          "LTC/USD",
          "EOS/USD",
          "LINK/USD",
          "XTZ/USD",
          "XLM/USD",
          "XMR/USD",
          "ATOM/USD",
          "ETC/USD",
          "DASH/USD",
          "ZEC/USD",
          "BAT/USD",
          "ICX/USD",
          "OMG/USD",
          "REP/USD",
          "QTUM/USD",
          "LSK/USD",
          "NANO/USD",
          "WAVES/USD",
          "PAXG/USD",
          "GNO/USD"
         ],
         "legendgroup": "0",
         "marker": {
          "color": [
           0,
           0,
           0,
           0,
           0,
           0,
           0,
           0,
           0,
           0,
           0,
           0,
           0,
           0,
           0,
           0,
           0,
           0,
           0,
           0,
           0,
           0,
           0,
           0
          ],
          "coloraxis": "coloraxis",
          "symbol": "circle"
         },
         "mode": "markers",
         "name": "0",
         "scene": "scene",
         "showlegend": true,
         "type": "scatter3d",
         "x": [
          7.310208746847646,
          0.6937166926216242,
          0.2176562401612008,
          -0.08693873811820263,
          0.22305298942607799,
          0.07655656355483355,
          -0.9765877551150969,
          -0.6504270823921852,
          -0.5736285647129293,
          -0.2779645234838187,
          -0.03366248872362061,
          -0.38734646128473477,
          -0.6837281053010366,
          -0.6232135096711204,
          -0.33588856112473897,
          -1.190278545268677,
          -0.9589016122268696,
          -0.9207830177253752,
          -0.28199847506412723,
          -0.903360393546851,
          -0.5831174777022243,
          -0.2402851649774023,
          0.942314626115309,
          -0.7116441256853336
         ],
         "y": [
          3.221778036580623,
          0.3831080267796839,
          -0.9977944510996448,
          -0.33163649019570013,
          -0.8868173749836892,
          -0.8912814553879828,
          1.1012403992872815,
          0.33536006843412486,
          0.26002123955773465,
          -0.3421052544322442,
          -0.9275225932903465,
          -0.15175112602716456,
          0.35488681430616537,
          0.2782642624509048,
          -0.3706065316651461,
          1.2534329700904643,
          0.8044138790414048,
          0.7051495293433594,
          -0.4310218177471524,
          0.6789779477487468,
          0.052808202493599826,
          -0.6016353898802059,
          -1.214827835633095,
          0.4220298445101921
         ],
         "z": [
          -0.002052237796659858,
          -0.2730084629640429,
          1.4633414911580886,
          -0.40085709971733796,
          -0.3129529365008449,
          -0.3088303768888946,
          -0.4801861685103763,
          -0.43371408863278516,
          0.400914567507479,
          -0.38624876685674125,
          -0.3634426085461579,
          -0.41768346465378087,
          -0.4935960515022586,
          -0.4527907313589764,
          -0.3507362725747572,
          -0.536602374662957,
          -0.5184599903277369,
          -0.5292299755381648,
          -0.39478091818685823,
          -0.508942356611019,
          -0.4559282103397462,
          -0.3964400503169045,
          -0.21006124013814081,
          -0.4418084739159237
         ]
        },
        {
         "customdata": [
          [
           0.1648214398788701
          ],
          [
           1.2837233355981856
          ]
         ],
         "hovertemplate": "<b>%{hovertext}</b><br><br>Class=%{marker.color}<br>PC1=%{x}<br>PC2=%{y}<br>PC3=%{z}<br>sharpe_ratio=%{customdata[0]}<extra></extra>",
         "hovertext": [
          "USDT/USD",
          "DOGE/USD"
         ],
         "legendgroup": "1",
         "marker": {
          "color": [
           1,
           1
          ],
          "coloraxis": "coloraxis",
          "symbol": "diamond"
         },
         "mode": "markers",
         "name": "1",
         "scene": "scene",
         "showlegend": true,
         "type": "scatter3d",
         "x": [
          3.4824629697244975,
          -1.065492049773881
         ],
         "y": [
          -3.1606140880633222,
          0.5668077669054785
         ],
         "z": [
          0.7544790898778047,
          4.521113970492545
         ]
        },
        {
         "customdata": [
          [
           2.2667198636479933
          ],
          [
           0.36010426887892893
          ],
          [
           1.6796871593335503
          ]
         ],
         "hovertemplate": "<b>%{hovertext}</b><br><br>Class=%{marker.color}<br>PC1=%{x}<br>PC2=%{y}<br>PC3=%{z}<br>sharpe_ratio=%{customdata[0]}<extra></extra>",
         "hovertext": [
          "ADA/USD",
          "DAI/USD",
          "SC/USD"
         ],
         "legendgroup": "2",
         "marker": {
          "color": [
           2,
           2,
           2
          ],
          "coloraxis": "coloraxis",
          "symbol": "square"
         },
         "mode": "markers",
         "name": "2",
         "scene": "scene",
         "showlegend": true,
         "type": "scatter3d",
         "x": [
          -1.116822247094034,
          0.9319140516733557,
          -1.2758139811322857
         ],
         "y": [
          1.3171968979204915,
          -2.6354155757992914,
          1.2075540987547304
         ],
         "z": [
          0.5271073924629289,
          -0.09568030479773747,
          1.0970766498399576
         ]
        }
       ],
       "layout": {
        "autosize": true,
        "coloraxis": {
         "colorbar": {
          "title": {
           "text": "Class"
          }
         },
         "colorscale": [
          [
           0,
           "#0d0887"
          ],
          [
           0.1111111111111111,
           "#46039f"
          ],
          [
           0.2222222222222222,
           "#7201a8"
          ],
          [
           0.3333333333333333,
           "#9c179e"
          ],
          [
           0.4444444444444444,
           "#bd3786"
          ],
          [
           0.5555555555555556,
           "#d8576b"
          ],
          [
           0.6666666666666666,
           "#ed7953"
          ],
          [
           0.7777777777777778,
           "#fb9f3a"
          ],
          [
           0.8888888888888888,
           "#fdca26"
          ],
          [
           1,
           "#f0f921"
          ]
         ]
        },
        "legend": {
         "title": {
          "text": "Class"
         },
         "tracegroupgap": 0,
         "x": 0,
         "y": 1
        },
        "margin": {
         "t": 60
        },
        "scene": {
         "aspectmode": "auto",
         "aspectratio": {
          "x": 1.3168875905150745,
          "y": 0.9789041157968381,
          "z": 0.7757309877104841
         },
         "domain": {
          "x": [
           0,
           1
          ],
          "y": [
           0,
           1
          ]
         },
         "xaxis": {
          "title": {
           "text": "PC1"
          },
          "type": "linear"
         },
         "yaxis": {
          "title": {
           "text": "PC2"
          },
          "type": "linear"
         },
         "zaxis": {
          "title": {
           "text": "PC3"
          },
          "type": "linear"
         }
        },
        "template": {
         "data": {
          "bar": [
           {
            "error_x": {
             "color": "#2a3f5f"
            },
            "error_y": {
             "color": "#2a3f5f"
            },
            "marker": {
             "line": {
              "color": "#E5ECF6",
              "width": 0.5
             }
            },
            "type": "bar"
           }
          ],
          "barpolar": [
           {
            "marker": {
             "line": {
              "color": "#E5ECF6",
              "width": 0.5
             }
            },
            "type": "barpolar"
           }
          ],
          "carpet": [
           {
            "aaxis": {
             "endlinecolor": "#2a3f5f",
             "gridcolor": "white",
             "linecolor": "white",
             "minorgridcolor": "white",
             "startlinecolor": "#2a3f5f"
            },
            "baxis": {
             "endlinecolor": "#2a3f5f",
             "gridcolor": "white",
             "linecolor": "white",
             "minorgridcolor": "white",
             "startlinecolor": "#2a3f5f"
            },
            "type": "carpet"
           }
          ],
          "choropleth": [
           {
            "colorbar": {
             "outlinewidth": 0,
             "ticks": ""
            },
            "type": "choropleth"
           }
          ],
          "contour": [
           {
            "colorbar": {
             "outlinewidth": 0,
             "ticks": ""
            },
            "colorscale": [
             [
              0,
              "#0d0887"
             ],
             [
              0.1111111111111111,
              "#46039f"
             ],
             [
              0.2222222222222222,
              "#7201a8"
             ],
             [
              0.3333333333333333,
              "#9c179e"
             ],
             [
              0.4444444444444444,
              "#bd3786"
             ],
             [
              0.5555555555555556,
              "#d8576b"
             ],
             [
              0.6666666666666666,
              "#ed7953"
             ],
             [
              0.7777777777777778,
              "#fb9f3a"
             ],
             [
              0.8888888888888888,
              "#fdca26"
             ],
             [
              1,
              "#f0f921"
             ]
            ],
            "type": "contour"
           }
          ],
          "contourcarpet": [
           {
            "colorbar": {
             "outlinewidth": 0,
             "ticks": ""
            },
            "type": "contourcarpet"
           }
          ],
          "heatmap": [
           {
            "colorbar": {
             "outlinewidth": 0,
             "ticks": ""
            },
            "colorscale": [
             [
              0,
              "#0d0887"
             ],
             [
              0.1111111111111111,
              "#46039f"
             ],
             [
              0.2222222222222222,
              "#7201a8"
             ],
             [
              0.3333333333333333,
              "#9c179e"
             ],
             [
              0.4444444444444444,
              "#bd3786"
             ],
             [
              0.5555555555555556,
              "#d8576b"
             ],
             [
              0.6666666666666666,
              "#ed7953"
             ],
             [
              0.7777777777777778,
              "#fb9f3a"
             ],
             [
              0.8888888888888888,
              "#fdca26"
             ],
             [
              1,
              "#f0f921"
             ]
            ],
            "type": "heatmap"
           }
          ],
          "heatmapgl": [
           {
            "colorbar": {
             "outlinewidth": 0,
             "ticks": ""
            },
            "colorscale": [
             [
              0,
              "#0d0887"
             ],
             [
              0.1111111111111111,
              "#46039f"
             ],
             [
              0.2222222222222222,
              "#7201a8"
             ],
             [
              0.3333333333333333,
              "#9c179e"
             ],
             [
              0.4444444444444444,
              "#bd3786"
             ],
             [
              0.5555555555555556,
              "#d8576b"
             ],
             [
              0.6666666666666666,
              "#ed7953"
             ],
             [
              0.7777777777777778,
              "#fb9f3a"
             ],
             [
              0.8888888888888888,
              "#fdca26"
             ],
             [
              1,
              "#f0f921"
             ]
            ],
            "type": "heatmapgl"
           }
          ],
          "histogram": [
           {
            "marker": {
             "colorbar": {
              "outlinewidth": 0,
              "ticks": ""
             }
            },
            "type": "histogram"
           }
          ],
          "histogram2d": [
           {
            "colorbar": {
             "outlinewidth": 0,
             "ticks": ""
            },
            "colorscale": [
             [
              0,
              "#0d0887"
             ],
             [
              0.1111111111111111,
              "#46039f"
             ],
             [
              0.2222222222222222,
              "#7201a8"
             ],
             [
              0.3333333333333333,
              "#9c179e"
             ],
             [
              0.4444444444444444,
              "#bd3786"
             ],
             [
              0.5555555555555556,
              "#d8576b"
             ],
             [
              0.6666666666666666,
              "#ed7953"
             ],
             [
              0.7777777777777778,
              "#fb9f3a"
             ],
             [
              0.8888888888888888,
              "#fdca26"
             ],
             [
              1,
              "#f0f921"
             ]
            ],
            "type": "histogram2d"
           }
          ],
          "histogram2dcontour": [
           {
            "colorbar": {
             "outlinewidth": 0,
             "ticks": ""
            },
            "colorscale": [
             [
              0,
              "#0d0887"
             ],
             [
              0.1111111111111111,
              "#46039f"
             ],
             [
              0.2222222222222222,
              "#7201a8"
             ],
             [
              0.3333333333333333,
              "#9c179e"
             ],
             [
              0.4444444444444444,
              "#bd3786"
             ],
             [
              0.5555555555555556,
              "#d8576b"
             ],
             [
              0.6666666666666666,
              "#ed7953"
             ],
             [
              0.7777777777777778,
              "#fb9f3a"
             ],
             [
              0.8888888888888888,
              "#fdca26"
             ],
             [
              1,
              "#f0f921"
             ]
            ],
            "type": "histogram2dcontour"
           }
          ],
          "mesh3d": [
           {
            "colorbar": {
             "outlinewidth": 0,
             "ticks": ""
            },
            "type": "mesh3d"
           }
          ],
          "parcoords": [
           {
            "line": {
             "colorbar": {
              "outlinewidth": 0,
              "ticks": ""
             }
            },
            "type": "parcoords"
           }
          ],
          "pie": [
           {
            "automargin": true,
            "type": "pie"
           }
          ],
          "scatter": [
           {
            "marker": {
             "colorbar": {
              "outlinewidth": 0,
              "ticks": ""
             }
            },
            "type": "scatter"
           }
          ],
          "scatter3d": [
           {
            "line": {
             "colorbar": {
              "outlinewidth": 0,
              "ticks": ""
             }
            },
            "marker": {
             "colorbar": {
              "outlinewidth": 0,
              "ticks": ""
             }
            },
            "type": "scatter3d"
           }
          ],
          "scattercarpet": [
           {
            "marker": {
             "colorbar": {
              "outlinewidth": 0,
              "ticks": ""
             }
            },
            "type": "scattercarpet"
           }
          ],
          "scattergeo": [
           {
            "marker": {
             "colorbar": {
              "outlinewidth": 0,
              "ticks": ""
             }
            },
            "type": "scattergeo"
           }
          ],
          "scattergl": [
           {
            "marker": {
             "colorbar": {
              "outlinewidth": 0,
              "ticks": ""
             }
            },
            "type": "scattergl"
           }
          ],
          "scattermapbox": [
           {
            "marker": {
             "colorbar": {
              "outlinewidth": 0,
              "ticks": ""
             }
            },
            "type": "scattermapbox"
           }
          ],
          "scatterpolar": [
           {
            "marker": {
             "colorbar": {
              "outlinewidth": 0,
              "ticks": ""
             }
            },
            "type": "scatterpolar"
           }
          ],
          "scatterpolargl": [
           {
            "marker": {
             "colorbar": {
              "outlinewidth": 0,
              "ticks": ""
             }
            },
            "type": "scatterpolargl"
           }
          ],
          "scatterternary": [
           {
            "marker": {
             "colorbar": {
              "outlinewidth": 0,
              "ticks": ""
             }
            },
            "type": "scatterternary"
           }
          ],
          "surface": [
           {
            "colorbar": {
             "outlinewidth": 0,
             "ticks": ""
            },
            "colorscale": [
             [
              0,
              "#0d0887"
             ],
             [
              0.1111111111111111,
              "#46039f"
             ],
             [
              0.2222222222222222,
              "#7201a8"
             ],
             [
              0.3333333333333333,
              "#9c179e"
             ],
             [
              0.4444444444444444,
              "#bd3786"
             ],
             [
              0.5555555555555556,
              "#d8576b"
             ],
             [
              0.6666666666666666,
              "#ed7953"
             ],
             [
              0.7777777777777778,
              "#fb9f3a"
             ],
             [
              0.8888888888888888,
              "#fdca26"
             ],
             [
              1,
              "#f0f921"
             ]
            ],
            "type": "surface"
           }
          ],
          "table": [
           {
            "cells": {
             "fill": {
              "color": "#EBF0F8"
             },
             "line": {
              "color": "white"
             }
            },
            "header": {
             "fill": {
              "color": "#C8D4E3"
             },
             "line": {
              "color": "white"
             }
            },
            "type": "table"
           }
          ]
         },
         "layout": {
          "annotationdefaults": {
           "arrowcolor": "#2a3f5f",
           "arrowhead": 0,
           "arrowwidth": 1
          },
          "coloraxis": {
           "colorbar": {
            "outlinewidth": 0,
            "ticks": ""
           }
          },
          "colorscale": {
           "diverging": [
            [
             0,
             "#8e0152"
            ],
            [
             0.1,
             "#c51b7d"
            ],
            [
             0.2,
             "#de77ae"
            ],
            [
             0.3,
             "#f1b6da"
            ],
            [
             0.4,
             "#fde0ef"
            ],
            [
             0.5,
             "#f7f7f7"
            ],
            [
             0.6,
             "#e6f5d0"
            ],
            [
             0.7,
             "#b8e186"
            ],
            [
             0.8,
             "#7fbc41"
            ],
            [
             0.9,
             "#4d9221"
            ],
            [
             1,
             "#276419"
            ]
           ],
           "sequential": [
            [
             0,
             "#0d0887"
            ],
            [
             0.1111111111111111,
             "#46039f"
            ],
            [
             0.2222222222222222,
             "#7201a8"
            ],
            [
             0.3333333333333333,
             "#9c179e"
            ],
            [
             0.4444444444444444,
             "#bd3786"
            ],
            [
             0.5555555555555556,
             "#d8576b"
            ],
            [
             0.6666666666666666,
             "#ed7953"
            ],
            [
             0.7777777777777778,
             "#fb9f3a"
            ],
            [
             0.8888888888888888,
             "#fdca26"
            ],
            [
             1,
             "#f0f921"
            ]
           ],
           "sequentialminus": [
            [
             0,
             "#0d0887"
            ],
            [
             0.1111111111111111,
             "#46039f"
            ],
            [
             0.2222222222222222,
             "#7201a8"
            ],
            [
             0.3333333333333333,
             "#9c179e"
            ],
            [
             0.4444444444444444,
             "#bd3786"
            ],
            [
             0.5555555555555556,
             "#d8576b"
            ],
            [
             0.6666666666666666,
             "#ed7953"
            ],
            [
             0.7777777777777778,
             "#fb9f3a"
            ],
            [
             0.8888888888888888,
             "#fdca26"
            ],
            [
             1,
             "#f0f921"
            ]
           ]
          },
          "colorway": [
           "#636efa",
           "#EF553B",
           "#00cc96",
           "#ab63fa",
           "#FFA15A",
           "#19d3f3",
           "#FF6692",
           "#B6E880",
           "#FF97FF",
           "#FECB52"
          ],
          "font": {
           "color": "#2a3f5f"
          },
          "geo": {
           "bgcolor": "white",
           "lakecolor": "white",
           "landcolor": "#E5ECF6",
           "showlakes": true,
           "showland": true,
           "subunitcolor": "white"
          },
          "hoverlabel": {
           "align": "left"
          },
          "hovermode": "closest",
          "mapbox": {
           "style": "light"
          },
          "paper_bgcolor": "white",
          "plot_bgcolor": "#E5ECF6",
          "polar": {
           "angularaxis": {
            "gridcolor": "white",
            "linecolor": "white",
            "ticks": ""
           },
           "bgcolor": "#E5ECF6",
           "radialaxis": {
            "gridcolor": "white",
            "linecolor": "white",
            "ticks": ""
           }
          },
          "scene": {
           "xaxis": {
            "backgroundcolor": "#E5ECF6",
            "gridcolor": "white",
            "gridwidth": 2,
            "linecolor": "white",
            "showbackground": true,
            "ticks": "",
            "zerolinecolor": "white"
           },
           "yaxis": {
            "backgroundcolor": "#E5ECF6",
            "gridcolor": "white",
            "gridwidth": 2,
            "linecolor": "white",
            "showbackground": true,
            "ticks": "",
            "zerolinecolor": "white"
           },
           "zaxis": {
            "backgroundcolor": "#E5ECF6",
            "gridcolor": "white",
            "gridwidth": 2,
            "linecolor": "white",
            "showbackground": true,
            "ticks": "",
            "zerolinecolor": "white"
           }
          },
          "shapedefaults": {
           "line": {
            "color": "#2a3f5f"
           }
          },
          "ternary": {
           "aaxis": {
            "gridcolor": "white",
            "linecolor": "white",
            "ticks": ""
           },
           "baxis": {
            "gridcolor": "white",
            "linecolor": "white",
            "ticks": ""
           },
           "bgcolor": "#E5ECF6",
           "caxis": {
            "gridcolor": "white",
            "linecolor": "white",
            "ticks": ""
           }
          },
          "title": {
           "x": 0.05
          },
          "xaxis": {
           "automargin": true,
           "gridcolor": "white",
           "linecolor": "white",
           "ticks": "",
           "title": {
            "standoff": 15
           },
           "zerolinecolor": "white",
           "zerolinewidth": 2
          },
          "yaxis": {
           "automargin": true,
           "gridcolor": "white",
           "linecolor": "white",
           "ticks": "",
           "title": {
            "standoff": 15
           },
           "zerolinecolor": "white",
           "zerolinewidth": 2
          }
         }
        }
       }
      },
      "image/png": "[encoded data removed]",
      "text/html": [
       "<div>\n",
       "        \n",
       "        \n",
       "            <div id=\"20393381-b7a9-4c4b-858f-a0361061cfe1\" class=\"plotly-graph-div\" style=\"height:525px; width:800px;\"></div>\n",
       "            <script type=\"text/javascript\">\n",
       "                require([\"plotly\"], function(Plotly) {\n",
       "                    window.PLOTLYENV=window.PLOTLYENV || {};\n",
       "                    \n",
       "                if (document.getElementById(\"20393381-b7a9-4c4b-858f-a0361061cfe1\")) {\n",
       "                    Plotly.newPlot(\n",
       "                        '20393381-b7a9-4c4b-858f-a0361061cfe1',\n",
       "                        [{\"customdata\": [[0.8656588818815978], [1.36895734784328], [0.4867322648713686], [0.756623692885696], [0.5877816552769468], [0.5240830781920158], [2.161885347667907], [1.412903883575219], [1.5824229680720152], [1.12266879851423], [0.4342510710820228], [1.0257631894641792], [1.1822396496188394], [1.4333069371497849], [0.9156944278694097], [1.9533283285512717], [1.6102226169025038], [1.432931606706558], [0.897432381338962], [1.5362395357848815], [1.1067776873596153], [0.7011409145295924], [1.004523593768755], [1.7787420283800301]], \"hovertemplate\": \"<b>%{hovertext}</b><br><br>Class=%{marker.color}<br>PC1=%{x}<br>PC2=%{y}<br>PC3=%{z}<br>sharpe_ratio=%{customdata[0]}<extra></extra>\", \"hovertext\": [\"BTC/USD\", \"ETH/USD\", \"XRP/USD\", \"BCH/USD\", \"LTC/USD\", \"EOS/USD\", \"LINK/USD\", \"XTZ/USD\", \"XLM/USD\", \"XMR/USD\", \"ATOM/USD\", \"ETC/USD\", \"DASH/USD\", \"ZEC/USD\", \"BAT/USD\", \"ICX/USD\", \"OMG/USD\", \"REP/USD\", \"QTUM/USD\", \"LSK/USD\", \"NANO/USD\", \"WAVES/USD\", \"PAXG/USD\", \"GNO/USD\"], \"legendgroup\": \"0\", \"marker\": {\"color\": [0, 0, 0, 0, 0, 0, 0, 0, 0, 0, 0, 0, 0, 0, 0, 0, 0, 0, 0, 0, 0, 0, 0, 0], \"coloraxis\": \"coloraxis\", \"symbol\": \"circle\"}, \"mode\": \"markers\", \"name\": \"0\", \"scene\": \"scene\", \"showlegend\": true, \"type\": \"scatter3d\", \"x\": [7.310208746847646, 0.6937166926216242, 0.2176562401612008, -0.08693873811820263, 0.22305298942607799, 0.07655656355483355, -0.9765877551150969, -0.6504270823921852, -0.5736285647129293, -0.2779645234838187, -0.03366248872362061, -0.38734646128473477, -0.6837281053010366, -0.6232135096711204, -0.33588856112473897, -1.190278545268677, -0.9589016122268696, -0.9207830177253752, -0.28199847506412723, -0.903360393546851, -0.5831174777022243, -0.2402851649774023, 0.942314626115309, -0.7116441256853336], \"y\": [3.221778036580623, 0.3831080267796839, -0.9977944510996448, -0.33163649019570013, -0.8868173749836892, -0.8912814553879828, 1.1012403992872815, 0.33536006843412486, 0.26002123955773465, -0.3421052544322442, -0.9275225932903465, -0.15175112602716456, 0.35488681430616537, 0.2782642624509048, -0.3706065316651461, 1.2534329700904643, 0.8044138790414048, 0.7051495293433594, -0.4310218177471524, 0.6789779477487468, 0.052808202493599826, -0.6016353898802059, -1.214827835633095, 0.4220298445101921], \"z\": [-0.002052237796659858, -0.2730084629640429, 1.4633414911580886, -0.40085709971733796, -0.3129529365008449, -0.3088303768888946, -0.4801861685103763, -0.43371408863278516, 0.400914567507479, -0.38624876685674125, -0.3634426085461579, -0.41768346465378087, -0.4935960515022586, -0.4527907313589764, -0.3507362725747572, -0.536602374662957, -0.5184599903277369, -0.5292299755381648, -0.39478091818685823, -0.508942356611019, -0.4559282103397462, -0.3964400503169045, -0.21006124013814081, -0.4418084739159237]}, {\"customdata\": [[0.1648214398788701], [1.2837233355981856]], \"hovertemplate\": \"<b>%{hovertext}</b><br><br>Class=%{marker.color}<br>PC1=%{x}<br>PC2=%{y}<br>PC3=%{z}<br>sharpe_ratio=%{customdata[0]}<extra></extra>\", \"hovertext\": [\"USDT/USD\", \"DOGE/USD\"], \"legendgroup\": \"1\", \"marker\": {\"color\": [1, 1], \"coloraxis\": \"coloraxis\", \"symbol\": \"diamond\"}, \"mode\": \"markers\", \"name\": \"1\", \"scene\": \"scene\", \"showlegend\": true, \"type\": \"scatter3d\", \"x\": [3.4824629697244975, -1.065492049773881], \"y\": [-3.1606140880633222, 0.5668077669054785], \"z\": [0.7544790898778047, 4.521113970492545]}, {\"customdata\": [[2.2667198636479933], [0.36010426887892893], [1.6796871593335503]], \"hovertemplate\": \"<b>%{hovertext}</b><br><br>Class=%{marker.color}<br>PC1=%{x}<br>PC2=%{y}<br>PC3=%{z}<br>sharpe_ratio=%{customdata[0]}<extra></extra>\", \"hovertext\": [\"ADA/USD\", \"DAI/USD\", \"SC/USD\"], \"legendgroup\": \"2\", \"marker\": {\"color\": [2, 2, 2], \"coloraxis\": \"coloraxis\", \"symbol\": \"square\"}, \"mode\": \"markers\", \"name\": \"2\", \"scene\": \"scene\", \"showlegend\": true, \"type\": \"scatter3d\", \"x\": [-1.116822247094034, 0.9319140516733557, -1.2758139811322857], \"y\": [1.3171968979204915, -2.6354155757992914, 1.2075540987547304], \"z\": [0.5271073924629289, -0.09568030479773747, 1.0970766498399576]}],\n",
       "                        {\"coloraxis\": {\"colorbar\": {\"title\": {\"text\": \"Class\"}}, \"colorscale\": [[0.0, \"#0d0887\"], [0.1111111111111111, \"#46039f\"], [0.2222222222222222, \"#7201a8\"], [0.3333333333333333, \"#9c179e\"], [0.4444444444444444, \"#bd3786\"], [0.5555555555555556, \"#d8576b\"], [0.6666666666666666, \"#ed7953\"], [0.7777777777777778, \"#fb9f3a\"], [0.8888888888888888, \"#fdca26\"], [1.0, \"#f0f921\"]]}, \"legend\": {\"title\": {\"text\": \"Class\"}, \"tracegroupgap\": 0, \"x\": 0, \"y\": 1}, \"margin\": {\"t\": 60}, \"scene\": {\"domain\": {\"x\": [0.0, 1.0], \"y\": [0.0, 1.0]}, \"xaxis\": {\"title\": {\"text\": \"PC1\"}}, \"yaxis\": {\"title\": {\"text\": \"PC2\"}}, \"zaxis\": {\"title\": {\"text\": \"PC3\"}}}, \"template\": {\"data\": {\"bar\": [{\"error_x\": {\"color\": \"#2a3f5f\"}, \"error_y\": {\"color\": \"#2a3f5f\"}, \"marker\": {\"line\": {\"color\": \"#E5ECF6\", \"width\": 0.5}}, \"type\": \"bar\"}], \"barpolar\": [{\"marker\": {\"line\": {\"color\": \"#E5ECF6\", \"width\": 0.5}}, \"type\": \"barpolar\"}], \"carpet\": [{\"aaxis\": {\"endlinecolor\": \"#2a3f5f\", \"gridcolor\": \"white\", \"linecolor\": \"white\", \"minorgridcolor\": \"white\", \"startlinecolor\": \"#2a3f5f\"}, \"baxis\": {\"endlinecolor\": \"#2a3f5f\", \"gridcolor\": \"white\", \"linecolor\": \"white\", \"minorgridcolor\": \"white\", \"startlinecolor\": \"#2a3f5f\"}, \"type\": \"carpet\"}], \"choropleth\": [{\"colorbar\": {\"outlinewidth\": 0, \"ticks\": \"\"}, \"type\": \"choropleth\"}], \"contour\": [{\"colorbar\": {\"outlinewidth\": 0, \"ticks\": \"\"}, \"colorscale\": [[0.0, \"#0d0887\"], [0.1111111111111111, \"#46039f\"], [0.2222222222222222, \"#7201a8\"], [0.3333333333333333, \"#9c179e\"], [0.4444444444444444, \"#bd3786\"], [0.5555555555555556, \"#d8576b\"], [0.6666666666666666, \"#ed7953\"], [0.7777777777777778, \"#fb9f3a\"], [0.8888888888888888, \"#fdca26\"], [1.0, \"#f0f921\"]], \"type\": \"contour\"}], \"contourcarpet\": [{\"colorbar\": {\"outlinewidth\": 0, \"ticks\": \"\"}, \"type\": \"contourcarpet\"}], \"heatmap\": [{\"colorbar\": {\"outlinewidth\": 0, \"ticks\": \"\"}, \"colorscale\": [[0.0, \"#0d0887\"], [0.1111111111111111, \"#46039f\"], [0.2222222222222222, \"#7201a8\"], [0.3333333333333333, \"#9c179e\"], [0.4444444444444444, \"#bd3786\"], [0.5555555555555556, \"#d8576b\"], [0.6666666666666666, \"#ed7953\"], [0.7777777777777778, \"#fb9f3a\"], [0.8888888888888888, \"#fdca26\"], [1.0, \"#f0f921\"]], \"type\": \"heatmap\"}], \"heatmapgl\": [{\"colorbar\": {\"outlinewidth\": 0, \"ticks\": \"\"}, \"colorscale\": [[0.0, \"#0d0887\"], [0.1111111111111111, \"#46039f\"], [0.2222222222222222, \"#7201a8\"], [0.3333333333333333, \"#9c179e\"], [0.4444444444444444, \"#bd3786\"], [0.5555555555555556, \"#d8576b\"], [0.6666666666666666, \"#ed7953\"], [0.7777777777777778, \"#fb9f3a\"], [0.8888888888888888, \"#fdca26\"], [1.0, \"#f0f921\"]], \"type\": \"heatmapgl\"}], \"histogram\": [{\"marker\": {\"colorbar\": {\"outlinewidth\": 0, \"ticks\": \"\"}}, \"type\": \"histogram\"}], \"histogram2d\": [{\"colorbar\": {\"outlinewidth\": 0, \"ticks\": \"\"}, \"colorscale\": [[0.0, \"#0d0887\"], [0.1111111111111111, \"#46039f\"], [0.2222222222222222, \"#7201a8\"], [0.3333333333333333, \"#9c179e\"], [0.4444444444444444, \"#bd3786\"], [0.5555555555555556, \"#d8576b\"], [0.6666666666666666, \"#ed7953\"], [0.7777777777777778, \"#fb9f3a\"], [0.8888888888888888, \"#fdca26\"], [1.0, \"#f0f921\"]], \"type\": \"histogram2d\"}], \"histogram2dcontour\": [{\"colorbar\": {\"outlinewidth\": 0, \"ticks\": \"\"}, \"colorscale\": [[0.0, \"#0d0887\"], [0.1111111111111111, \"#46039f\"], [0.2222222222222222, \"#7201a8\"], [0.3333333333333333, \"#9c179e\"], [0.4444444444444444, \"#bd3786\"], [0.5555555555555556, \"#d8576b\"], [0.6666666666666666, \"#ed7953\"], [0.7777777777777778, \"#fb9f3a\"], [0.8888888888888888, \"#fdca26\"], [1.0, \"#f0f921\"]], \"type\": \"histogram2dcontour\"}], \"mesh3d\": [{\"colorbar\": {\"outlinewidth\": 0, \"ticks\": \"\"}, \"type\": \"mesh3d\"}], \"parcoords\": [{\"line\": {\"colorbar\": {\"outlinewidth\": 0, \"ticks\": \"\"}}, \"type\": \"parcoords\"}], \"pie\": [{\"automargin\": true, \"type\": \"pie\"}], \"scatter\": [{\"marker\": {\"colorbar\": {\"outlinewidth\": 0, \"ticks\": \"\"}}, \"type\": \"scatter\"}], \"scatter3d\": [{\"line\": {\"colorbar\": {\"outlinewidth\": 0, \"ticks\": \"\"}}, \"marker\": {\"colorbar\": {\"outlinewidth\": 0, \"ticks\": \"\"}}, \"type\": \"scatter3d\"}], \"scattercarpet\": [{\"marker\": {\"colorbar\": {\"outlinewidth\": 0, \"ticks\": \"\"}}, \"type\": \"scattercarpet\"}], \"scattergeo\": [{\"marker\": {\"colorbar\": {\"outlinewidth\": 0, \"ticks\": \"\"}}, \"type\": \"scattergeo\"}], \"scattergl\": [{\"marker\": {\"colorbar\": {\"outlinewidth\": 0, \"ticks\": \"\"}}, \"type\": \"scattergl\"}], \"scattermapbox\": [{\"marker\": {\"colorbar\": {\"outlinewidth\": 0, \"ticks\": \"\"}}, \"type\": \"scattermapbox\"}], \"scatterpolar\": [{\"marker\": {\"colorbar\": {\"outlinewidth\": 0, \"ticks\": \"\"}}, \"type\": \"scatterpolar\"}], \"scatterpolargl\": [{\"marker\": {\"colorbar\": {\"outlinewidth\": 0, \"ticks\": \"\"}}, \"type\": \"scatterpolargl\"}], \"scatterternary\": [{\"marker\": {\"colorbar\": {\"outlinewidth\": 0, \"ticks\": \"\"}}, \"type\": \"scatterternary\"}], \"surface\": [{\"colorbar\": {\"outlinewidth\": 0, \"ticks\": \"\"}, \"colorscale\": [[0.0, \"#0d0887\"], [0.1111111111111111, \"#46039f\"], [0.2222222222222222, \"#7201a8\"], [0.3333333333333333, \"#9c179e\"], [0.4444444444444444, \"#bd3786\"], [0.5555555555555556, \"#d8576b\"], [0.6666666666666666, \"#ed7953\"], [0.7777777777777778, \"#fb9f3a\"], [0.8888888888888888, \"#fdca26\"], [1.0, \"#f0f921\"]], \"type\": \"surface\"}], \"table\": [{\"cells\": {\"fill\": {\"color\": \"#EBF0F8\"}, \"line\": {\"color\": \"white\"}}, \"header\": {\"fill\": {\"color\": \"#C8D4E3\"}, \"line\": {\"color\": \"white\"}}, \"type\": \"table\"}]}, \"layout\": {\"annotationdefaults\": {\"arrowcolor\": \"#2a3f5f\", \"arrowhead\": 0, \"arrowwidth\": 1}, \"coloraxis\": {\"colorbar\": {\"outlinewidth\": 0, \"ticks\": \"\"}}, \"colorscale\": {\"diverging\": [[0, \"#8e0152\"], [0.1, \"#c51b7d\"], [0.2, \"#de77ae\"], [0.3, \"#f1b6da\"], [0.4, \"#fde0ef\"], [0.5, \"#f7f7f7\"], [0.6, \"#e6f5d0\"], [0.7, \"#b8e186\"], [0.8, \"#7fbc41\"], [0.9, \"#4d9221\"], [1, \"#276419\"]], \"sequential\": [[0.0, \"#0d0887\"], [0.1111111111111111, \"#46039f\"], [0.2222222222222222, \"#7201a8\"], [0.3333333333333333, \"#9c179e\"], [0.4444444444444444, \"#bd3786\"], [0.5555555555555556, \"#d8576b\"], [0.6666666666666666, \"#ed7953\"], [0.7777777777777778, \"#fb9f3a\"], [0.8888888888888888, \"#fdca26\"], [1.0, \"#f0f921\"]], \"sequentialminus\": [[0.0, \"#0d0887\"], [0.1111111111111111, \"#46039f\"], [0.2222222222222222, \"#7201a8\"], [0.3333333333333333, \"#9c179e\"], [0.4444444444444444, \"#bd3786\"], [0.5555555555555556, \"#d8576b\"], [0.6666666666666666, \"#ed7953\"], [0.7777777777777778, \"#fb9f3a\"], [0.8888888888888888, \"#fdca26\"], [1.0, \"#f0f921\"]]}, \"colorway\": [\"#636efa\", \"#EF553B\", \"#00cc96\", \"#ab63fa\", \"#FFA15A\", \"#19d3f3\", \"#FF6692\", \"#B6E880\", \"#FF97FF\", \"#FECB52\"], \"font\": {\"color\": \"#2a3f5f\"}, \"geo\": {\"bgcolor\": \"white\", \"lakecolor\": \"white\", \"landcolor\": \"#E5ECF6\", \"showlakes\": true, \"showland\": true, \"subunitcolor\": \"white\"}, \"hoverlabel\": {\"align\": \"left\"}, \"hovermode\": \"closest\", \"mapbox\": {\"style\": \"light\"}, \"paper_bgcolor\": \"white\", \"plot_bgcolor\": \"#E5ECF6\", \"polar\": {\"angularaxis\": {\"gridcolor\": \"white\", \"linecolor\": \"white\", \"ticks\": \"\"}, \"bgcolor\": \"#E5ECF6\", \"radialaxis\": {\"gridcolor\": \"white\", \"linecolor\": \"white\", \"ticks\": \"\"}}, \"scene\": {\"xaxis\": {\"backgroundcolor\": \"#E5ECF6\", \"gridcolor\": \"white\", \"gridwidth\": 2, \"linecolor\": \"white\", \"showbackground\": true, \"ticks\": \"\", \"zerolinecolor\": \"white\"}, \"yaxis\": {\"backgroundcolor\": \"#E5ECF6\", \"gridcolor\": \"white\", \"gridwidth\": 2, \"linecolor\": \"white\", \"showbackground\": true, \"ticks\": \"\", \"zerolinecolor\": \"white\"}, \"zaxis\": {\"backgroundcolor\": \"#E5ECF6\", \"gridcolor\": \"white\", \"gridwidth\": 2, \"linecolor\": \"white\", \"showbackground\": true, \"ticks\": \"\", \"zerolinecolor\": \"white\"}}, \"shapedefaults\": {\"line\": {\"color\": \"#2a3f5f\"}}, \"ternary\": {\"aaxis\": {\"gridcolor\": \"white\", \"linecolor\": \"white\", \"ticks\": \"\"}, \"baxis\": {\"gridcolor\": \"white\", \"linecolor\": \"white\", \"ticks\": \"\"}, \"bgcolor\": \"#E5ECF6\", \"caxis\": {\"gridcolor\": \"white\", \"linecolor\": \"white\", \"ticks\": \"\"}}, \"title\": {\"x\": 0.05}, \"xaxis\": {\"automargin\": true, \"gridcolor\": \"white\", \"linecolor\": \"white\", \"ticks\": \"\", \"title\": {\"standoff\": 15}, \"zerolinecolor\": \"white\", \"zerolinewidth\": 2}, \"yaxis\": {\"automargin\": true, \"gridcolor\": \"white\", \"linecolor\": \"white\", \"ticks\": \"\", \"title\": {\"standoff\": 15}, \"zerolinecolor\": \"white\", \"zerolinewidth\": 2}}}, \"width\": 800},\n",
       "                        {\"responsive\": true}\n",
       "                    ).then(function(){\n",
       "                            \n",
       "var gd = document.getElementById('20393381-b7a9-4c4b-858f-a0361061cfe1');\n",
       "var x = new MutationObserver(function (mutations, observer) {{\n",
       "        var display = window.getComputedStyle(gd).display;\n",
       "        if (!display || display === 'none') {{\n",
       "            console.log([gd, 'removed!']);\n",
       "            Plotly.purge(gd);\n",
       "            observer.disconnect();\n",
       "        }}\n",
       "}});\n",
       "\n",
       "// Listen for the removal of the full notebook cells\n",
       "var notebookContainer = gd.closest('#notebook-container');\n",
       "if (notebookContainer) {{\n",
       "    x.observe(notebookContainer, {childList: true});\n",
       "}}\n",
       "\n",
       "// Listen for the clearing of the current output cell\n",
       "var outputEl = gd.closest('.output');\n",
       "if (outputEl) {{\n",
       "    x.observe(outputEl, {childList: true});\n",
       "}}\n",
       "\n",
       "                        })\n",
       "                };\n",
       "                });\n",
       "            </script>\n",
       "        </div>"
      ]
     },
     "metadata": {},
     "output_type": "display_data"
    }
   ],
   "source": [
    "# Create a 3D-Scatter with the PCA data and the clusters\n",
    "import plotly.express as px\n",
    "fig = px.scatter_3d(\n",
    "    clustered_df,\n",
    "    x=\"PC1\",\n",
    "    y=\"PC2\",\n",
    "    z=\"PC3\",\n",
    "    hover_name='symbol',#need to add \n",
    "    hover_data=[\"sharpe_ratio\"],\n",
    "    color=\"Class\",\n",
    "    symbol=\"Class\",\n",
    "    width=800,\n",
    ")\n",
    "fig.update_layout(legend=dict(x=0, y=1))\n",
    "fig.show()"
   ]
  },
  {
   "cell_type": "code",
   "execution_count": null,
   "metadata": {},
   "outputs": [],
   "source": []
  }
 ],
 "metadata": {
  "kernelspec": {
   "display_name": "Python 3",
   "language": "python",
   "name": "python3"
  },
  "language_info": {
   "codemirror_mode": {
    "name": "ipython",
    "version": 3
   },
   "file_extension": ".py",
   "mimetype": "text/x-python",
   "name": "python",
   "nbconvert_exporter": "python",
   "pygments_lexer": "ipython3",
   "version": "3.7.6"
  }
 },
 "nbformat": 4,
 "nbformat_minor": 4
}
