{
 "cells": [
  {
   "cell_type": "code",
   "execution_count": null,
   "metadata": {},
   "outputs": [],
   "source": [
    "intent_request={\n",
    "  \"messageVersion\": \"1.0\",\n",
    "  \"invocationSource\": \"DialogCodeHook\",\n",
    "  \"userId\": \"John\",\n",
    "  \"sessionAttributes\": {},\n",
    "  \"bot\": {\n",
    "    \"name\": \"coinBot\",\n",
    "    \"alias\": \"$LATEST\",\n",
    "    \"version\": \"$LATEST\"\n",
    "  },\n",
    "  \"outputDialogMode\": \"Text\",\n",
    "  \"currentIntent\": {\n",
    "    \"name\": \"coinBot_test\",\n",
    "    \"slots\": {\n",
    "      \"retire\": \"90\",\n",
    "      \"income\": \"10000000\",\n",
    "      \"risk\": \"low\",\n",
    "      \"bday\": \"1980-11-08\",\n",
    "      \"amount\": \"1000000\"\n",
    "    },\n",
    "    \"confirmationStatus\": \"None\"\n",
    "  }\n",
    "}"
   ]
  }
 ],
 "metadata": {
  "kernelspec": {
   "display_name": "Python 3",
   "language": "python",
   "name": "python3"
  },
  "language_info": {
   "codemirror_mode": {
    "name": "ipython",
    "version": 3
   },
   "file_extension": ".py",
   "mimetype": "text/x-python",
   "name": "python",
   "nbconvert_exporter": "python",
   "pygments_lexer": "ipython3",
   "version": "3.7.7"
  }
 },
 "nbformat": 4,
 "nbformat_minor": 4
}
