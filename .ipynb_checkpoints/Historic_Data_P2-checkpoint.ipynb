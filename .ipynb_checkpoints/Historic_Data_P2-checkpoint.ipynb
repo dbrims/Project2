{
 "cells": [
  {
   "cell_type": "code",
   "execution_count": 503,
   "metadata": {},
   "outputs": [],
   "source": [
    "import asyncio\n",
    "import ccxt\n",
    "# import ccxt.async_support as ccxt # link against the asynchronous version of ccxt\n",
    "import pandas as pd\n",
    "import os\n",
    "import datetime\n",
    "import pandas_ta as ta\n",
    "from ccxt.base.exchange import Exchange\n",
    "import numpy as np"
   ]
  },
  {
   "cell_type": "code",
   "execution_count": 427,
   "metadata": {},
   "outputs": [],
   "source": [
    "# All available exchange classes\n",
    "# print(ccxt.exchanges) "
   ]
  },
  {
   "cell_type": "markdown",
   "metadata": {},
   "source": [
    "## Kraken Cryptos features (Part A)"
   ]
  },
  {
   "cell_type": "code",
   "execution_count": 563,
   "metadata": {},
   "outputs": [
    {
     "data": {
      "text/html": [
       "<div>\n",
       "<style scoped>\n",
       "    .dataframe tbody tr th:only-of-type {\n",
       "        vertical-align: middle;\n",
       "    }\n",
       "\n",
       "    .dataframe tbody tr th {\n",
       "        vertical-align: top;\n",
       "    }\n",
       "\n",
       "    .dataframe thead th {\n",
       "        text-align: right;\n",
       "    }\n",
       "</style>\n",
       "<table border=\"1\" class=\"dataframe\">\n",
       "  <thead>\n",
       "    <tr style=\"text-align: right;\">\n",
       "      <th></th>\n",
       "      <th>Symbol</th>\n",
       "      <th>market_cap</th>\n",
       "      <th>price</th>\n",
       "      <th>circulating_suppy</th>\n",
       "      <th>volume_24h</th>\n",
       "    </tr>\n",
       "  </thead>\n",
       "  <tbody>\n",
       "    <tr>\n",
       "      <th>0</th>\n",
       "      <td>BTC</td>\n",
       "      <td>1.703749e+11</td>\n",
       "      <td>9244.320000</td>\n",
       "      <td>1.843023e+07</td>\n",
       "      <td>1.335552e+10</td>\n",
       "    </tr>\n",
       "    <tr>\n",
       "      <th>1</th>\n",
       "      <td>ETH</td>\n",
       "      <td>2.678885e+10</td>\n",
       "      <td>239.790000</td>\n",
       "      <td>1.117179e+08</td>\n",
       "      <td>5.663512e+09</td>\n",
       "    </tr>\n",
       "    <tr>\n",
       "      <th>2</th>\n",
       "      <td>USDT</td>\n",
       "      <td>9.193431e+09</td>\n",
       "      <td>1.000000</td>\n",
       "      <td>9.193431e+09</td>\n",
       "      <td>1.695382e+10</td>\n",
       "    </tr>\n",
       "    <tr>\n",
       "      <th>3</th>\n",
       "      <td>XRP</td>\n",
       "      <td>8.916319e+09</td>\n",
       "      <td>0.201463</td>\n",
       "      <td>4.425785e+10</td>\n",
       "      <td>1.004685e+09</td>\n",
       "    </tr>\n",
       "    <tr>\n",
       "      <th>4</th>\n",
       "      <td>BCH</td>\n",
       "      <td>4.370658e+09</td>\n",
       "      <td>236.770000</td>\n",
       "      <td>1.845951e+07</td>\n",
       "      <td>8.468725e+08</td>\n",
       "    </tr>\n",
       "  </tbody>\n",
       "</table>\n",
       "</div>"
      ],
      "text/plain": [
       "  Symbol    market_cap        price  circulating_suppy    volume_24h\n",
       "0    BTC  1.703749e+11  9244.320000       1.843023e+07  1.335552e+10\n",
       "1    ETH  2.678885e+10   239.790000       1.117179e+08  5.663512e+09\n",
       "2   USDT  9.193431e+09     1.000000       9.193431e+09  1.695382e+10\n",
       "3    XRP  8.916319e+09     0.201463       4.425785e+10  1.004685e+09\n",
       "4    BCH  4.370658e+09   236.770000       1.845951e+07  8.468725e+08"
      ]
     },
     "execution_count": 563,
     "metadata": {},
     "output_type": "execute_result"
    }
   ],
   "source": [
    "#web scraping method\n",
    "url =\"https://coinmarketcap.com/all/views/all/\"\n",
    "coinmarket_url_df=pd.read_html(url)\n",
    "mc_df=coinmarket_url_df[2:]\n",
    "mc_df=mc_df[0]\n",
    "mc_df.dtypes\n",
    "mc_df['market_cap']=mc_df['Market Cap'].str.replace('$', '')\n",
    "mc_df['market_cap']=mc_df['market_cap'].str.replace(',', '').astype('float')\n",
    "mc_df['price']=mc_df['Price'].str.replace('$', '')\n",
    "mc_df['price']=mc_df['price'].str.replace(',', '').astype('float')\n",
    "mc_df['circulating_suppy']=mc_df.market_cap/mc_df.price\n",
    "mc_df['volume_24h']=mc_df['Volume (24h)'].str.replace('$', '')\n",
    "mc_df['volume_24h']=mc_df['volume_24h'].str.replace(',', '').astype('float')\n",
    "cm_crypto_features_df=mc_df.drop(columns=['Name','Rank','Market Cap','Price','Circulating Supply','Volume (24h)','% 1h','% 24h','% 7d','Unnamed: 10',],axis=1)\n",
    "cm_crypto_features_df.head()"
   ]
  },
  {
   "cell_type": "markdown",
   "metadata": {},
   "source": [
    "## Create list of tickers to pull data from Kraken"
   ]
  },
  {
   "cell_type": "code",
   "execution_count": 564,
   "metadata": {},
   "outputs": [
    {
     "data": {
      "text/plain": [
       "200"
      ]
     },
     "execution_count": 564,
     "metadata": {},
     "output_type": "execute_result"
    }
   ],
   "source": [
    "cm_crypto_features_df['ticker']=cm_crypto_features_df.Symbol+'/USD'\n",
    "tickers=cm_crypto_features_df.ticker.values.tolist()\n",
    "len(tickers)"
   ]
  },
  {
   "cell_type": "markdown",
   "metadata": {},
   "source": [
    "## Import data from Kraken"
   ]
  },
  {
   "cell_type": "code",
   "execution_count": 565,
   "metadata": {},
   "outputs": [],
   "source": [
    "# Import environment variables\n",
    "KRAKEN_PUBLIC_KEY = os.getenv('KRAKEN_PUBLIC_KEY')\n",
    "KRAKEN_SECRET_KEY = os.getenv('KRAKEN_SECRET_KEY')"
   ]
  },
  {
   "cell_type": "code",
   "execution_count": 566,
   "metadata": {},
   "outputs": [],
   "source": [
    "#Pull data from kraken\n",
    "# Set the public and private keys for the API\n",
    "exchange = ccxt.kraken({\n",
    "    'apiKey': KRAKEN_PUBLIC_KEY,\n",
    "    'secret': KRAKEN_SECRET_KEY,\n",
    "})\n",
    "since = exchange.parse8601('2020-01-01T00:00:00z')\n",
    "cols=['time','open','high','low','close','volume','ticker']\n",
    "symbols = tickers\n",
    "timeframe='1d'\n",
    "crypto_returns_df1= []\n",
    "for i in symbols:\n",
    "    try:\n",
    "        price_batch = pd.DataFrame(exchange.fetchOHLCV(i,timeframe, since, params = {}))\n",
    "        price_batch[6]=i\n",
    "        price_batch[0] = pd.to_datetime(price_batch[0], unit=\"ms\")\n",
    "        crypto_returns_df1.append(price_batch)\n",
    "    except Exception:\n",
    "        cryptos_historic_df_kraken = pd.concat(crypto_returns_df1)\n",
    "        cryptos_historic_df_kraken.columns=cols"
   ]
  },
  {
   "cell_type": "code",
   "execution_count": 567,
   "metadata": {},
   "outputs": [
    {
     "data": {
      "text/html": [
       "<div>\n",
       "<style scoped>\n",
       "    .dataframe tbody tr th:only-of-type {\n",
       "        vertical-align: middle;\n",
       "    }\n",
       "\n",
       "    .dataframe tbody tr th {\n",
       "        vertical-align: top;\n",
       "    }\n",
       "\n",
       "    .dataframe thead th {\n",
       "        text-align: right;\n",
       "    }\n",
       "</style>\n",
       "<table border=\"1\" class=\"dataframe\">\n",
       "  <thead>\n",
       "    <tr style=\"text-align: right;\">\n",
       "      <th></th>\n",
       "      <th>time</th>\n",
       "      <th>open</th>\n",
       "      <th>high</th>\n",
       "      <th>low</th>\n",
       "      <th>close</th>\n",
       "      <th>volume</th>\n",
       "      <th>ticker</th>\n",
       "    </tr>\n",
       "  </thead>\n",
       "  <tbody>\n",
       "    <tr>\n",
       "      <th>0</th>\n",
       "      <td>2020-01-01</td>\n",
       "      <td>7168.3</td>\n",
       "      <td>7235.0</td>\n",
       "      <td>7150.0</td>\n",
       "      <td>7174.4</td>\n",
       "      <td>1718.343670</td>\n",
       "      <td>BTC/USD</td>\n",
       "    </tr>\n",
       "    <tr>\n",
       "      <th>1</th>\n",
       "      <td>2020-01-02</td>\n",
       "      <td>7174.4</td>\n",
       "      <td>7185.8</td>\n",
       "      <td>6915.0</td>\n",
       "      <td>6942.3</td>\n",
       "      <td>3781.585794</td>\n",
       "      <td>BTC/USD</td>\n",
       "    </tr>\n",
       "    <tr>\n",
       "      <th>2</th>\n",
       "      <td>2020-01-03</td>\n",
       "      <td>6942.3</td>\n",
       "      <td>7397.3</td>\n",
       "      <td>6860.0</td>\n",
       "      <td>7334.8</td>\n",
       "      <td>7378.843309</td>\n",
       "      <td>BTC/USD</td>\n",
       "    </tr>\n",
       "    <tr>\n",
       "      <th>3</th>\n",
       "      <td>2020-01-04</td>\n",
       "      <td>7334.8</td>\n",
       "      <td>7396.4</td>\n",
       "      <td>7260.1</td>\n",
       "      <td>7350.2</td>\n",
       "      <td>2739.261173</td>\n",
       "      <td>BTC/USD</td>\n",
       "    </tr>\n",
       "    <tr>\n",
       "      <th>4</th>\n",
       "      <td>2020-01-05</td>\n",
       "      <td>7350.2</td>\n",
       "      <td>7493.3</td>\n",
       "      <td>7301.1</td>\n",
       "      <td>7346.9</td>\n",
       "      <td>2673.471636</td>\n",
       "      <td>BTC/USD</td>\n",
       "    </tr>\n",
       "  </tbody>\n",
       "</table>\n",
       "</div>"
      ],
      "text/plain": [
       "        time    open    high     low   close       volume   ticker\n",
       "0 2020-01-01  7168.3  7235.0  7150.0  7174.4  1718.343670  BTC/USD\n",
       "1 2020-01-02  7174.4  7185.8  6915.0  6942.3  3781.585794  BTC/USD\n",
       "2 2020-01-03  6942.3  7397.3  6860.0  7334.8  7378.843309  BTC/USD\n",
       "3 2020-01-04  7334.8  7396.4  7260.1  7350.2  2739.261173  BTC/USD\n",
       "4 2020-01-05  7350.2  7493.3  7301.1  7346.9  2673.471636  BTC/USD"
      ]
     },
     "execution_count": 567,
     "metadata": {},
     "output_type": "execute_result"
    }
   ],
   "source": [
    "cryptos_historic_df_kraken.head()"
   ]
  },
  {
   "cell_type": "code",
   "execution_count": 568,
   "metadata": {},
   "outputs": [
    {
     "data": {
      "text/plain": [
       "32"
      ]
     },
     "execution_count": 568,
     "metadata": {},
     "output_type": "execute_result"
    }
   ],
   "source": [
    "#Full df of cryptos\n",
    "crypto_close_kraken= cryptos_historic_df_kraken.drop(columns=['open','high','low','volume'],axis=1)\n",
    "crypto_close_kraken= crypto_close_kraken.pivot_table(index='time', columns='ticker', values='close', aggfunc='mean')\n",
    "crypto_close_kraken.sort_index(ascending=True).head(50)\n",
    "len(crypto_close_kraken.columns)"
   ]
  },
  {
   "cell_type": "code",
   "execution_count": 569,
   "metadata": {},
   "outputs": [
    {
     "data": {
      "text/plain": [
       "29"
      ]
     },
     "execution_count": 569,
     "metadata": {},
     "output_type": "execute_result"
    }
   ],
   "source": [
    "#cryptos df with same lenght of historic data\n",
    "filter_cryptos=pd.DataFrame(len(crypto_close_kraken) - crypto_close_kraken.count())\n",
    "filter_cryptos=list(filter_cryptos[filter_cryptos[0]==0].index.values)\n",
    "len(filter_cryptos)"
   ]
  },
  {
   "cell_type": "code",
   "execution_count": 570,
   "metadata": {},
   "outputs": [
    {
     "data": {
      "text/html": [
       "<div>\n",
       "<style scoped>\n",
       "    .dataframe tbody tr th:only-of-type {\n",
       "        vertical-align: middle;\n",
       "    }\n",
       "\n",
       "    .dataframe tbody tr th {\n",
       "        vertical-align: top;\n",
       "    }\n",
       "\n",
       "    .dataframe thead th {\n",
       "        text-align: right;\n",
       "    }\n",
       "</style>\n",
       "<table border=\"1\" class=\"dataframe\">\n",
       "  <thead>\n",
       "    <tr style=\"text-align: right;\">\n",
       "      <th>ticker</th>\n",
       "      <th>ADA/USD</th>\n",
       "      <th>ATOM/USD</th>\n",
       "      <th>BAT/USD</th>\n",
       "      <th>BCH/USD</th>\n",
       "      <th>BTC/USD</th>\n",
       "      <th>DAI/USD</th>\n",
       "      <th>DASH/USD</th>\n",
       "      <th>DOGE/USD</th>\n",
       "      <th>EOS/USD</th>\n",
       "      <th>ETC/USD</th>\n",
       "      <th>...</th>\n",
       "      <th>QTUM/USD</th>\n",
       "      <th>REP/USD</th>\n",
       "      <th>SC/USD</th>\n",
       "      <th>USDT/USD</th>\n",
       "      <th>WAVES/USD</th>\n",
       "      <th>XLM/USD</th>\n",
       "      <th>XMR/USD</th>\n",
       "      <th>XRP/USD</th>\n",
       "      <th>XTZ/USD</th>\n",
       "      <th>ZEC/USD</th>\n",
       "    </tr>\n",
       "    <tr>\n",
       "      <th>time</th>\n",
       "      <th></th>\n",
       "      <th></th>\n",
       "      <th></th>\n",
       "      <th></th>\n",
       "      <th></th>\n",
       "      <th></th>\n",
       "      <th></th>\n",
       "      <th></th>\n",
       "      <th></th>\n",
       "      <th></th>\n",
       "      <th></th>\n",
       "      <th></th>\n",
       "      <th></th>\n",
       "      <th></th>\n",
       "      <th></th>\n",
       "      <th></th>\n",
       "      <th></th>\n",
       "      <th></th>\n",
       "      <th></th>\n",
       "      <th></th>\n",
       "      <th></th>\n",
       "    </tr>\n",
       "  </thead>\n",
       "  <tbody>\n",
       "    <tr>\n",
       "      <th>2020-01-01</th>\n",
       "      <td>0.033411</td>\n",
       "      <td>4.3701</td>\n",
       "      <td>0.19543</td>\n",
       "      <td>203.5</td>\n",
       "      <td>7174.4</td>\n",
       "      <td>0.99482</td>\n",
       "      <td>41.811</td>\n",
       "      <td>0.002007</td>\n",
       "      <td>2.5788</td>\n",
       "      <td>4.489</td>\n",
       "      <td>...</td>\n",
       "      <td>1.59885</td>\n",
       "      <td>8.654</td>\n",
       "      <td>0.00130</td>\n",
       "      <td>0.9970</td>\n",
       "      <td>1.0457</td>\n",
       "      <td>0.045192</td>\n",
       "      <td>45.62</td>\n",
       "      <td>0.19269</td>\n",
       "      <td>1.3689</td>\n",
       "      <td>27.96</td>\n",
       "    </tr>\n",
       "    <tr>\n",
       "      <th>2020-01-02</th>\n",
       "      <td>0.032693</td>\n",
       "      <td>4.0624</td>\n",
       "      <td>0.18144</td>\n",
       "      <td>195.4</td>\n",
       "      <td>6942.3</td>\n",
       "      <td>0.99760</td>\n",
       "      <td>39.839</td>\n",
       "      <td>0.001991</td>\n",
       "      <td>2.4490</td>\n",
       "      <td>4.238</td>\n",
       "      <td>...</td>\n",
       "      <td>1.50101</td>\n",
       "      <td>8.477</td>\n",
       "      <td>0.00125</td>\n",
       "      <td>0.9970</td>\n",
       "      <td>0.9433</td>\n",
       "      <td>0.043520</td>\n",
       "      <td>45.28</td>\n",
       "      <td>0.18682</td>\n",
       "      <td>1.2300</td>\n",
       "      <td>26.97</td>\n",
       "    </tr>\n",
       "    <tr>\n",
       "      <th>2020-01-03</th>\n",
       "      <td>0.033847</td>\n",
       "      <td>4.2398</td>\n",
       "      <td>0.18645</td>\n",
       "      <td>221.6</td>\n",
       "      <td>7334.8</td>\n",
       "      <td>0.99750</td>\n",
       "      <td>43.726</td>\n",
       "      <td>0.002449</td>\n",
       "      <td>2.6325</td>\n",
       "      <td>4.562</td>\n",
       "      <td>...</td>\n",
       "      <td>1.61882</td>\n",
       "      <td>8.822</td>\n",
       "      <td>0.00131</td>\n",
       "      <td>0.9984</td>\n",
       "      <td>0.9489</td>\n",
       "      <td>0.045310</td>\n",
       "      <td>50.72</td>\n",
       "      <td>0.19286</td>\n",
       "      <td>1.2769</td>\n",
       "      <td>28.37</td>\n",
       "    </tr>\n",
       "    <tr>\n",
       "      <th>2020-01-04</th>\n",
       "      <td>0.034301</td>\n",
       "      <td>4.2315</td>\n",
       "      <td>0.18831</td>\n",
       "      <td>224.5</td>\n",
       "      <td>7350.2</td>\n",
       "      <td>0.99511</td>\n",
       "      <td>46.026</td>\n",
       "      <td>0.002060</td>\n",
       "      <td>2.6407</td>\n",
       "      <td>4.758</td>\n",
       "      <td>...</td>\n",
       "      <td>1.64227</td>\n",
       "      <td>9.090</td>\n",
       "      <td>0.00134</td>\n",
       "      <td>0.9979</td>\n",
       "      <td>0.9470</td>\n",
       "      <td>0.045513</td>\n",
       "      <td>50.37</td>\n",
       "      <td>0.19269</td>\n",
       "      <td>1.2541</td>\n",
       "      <td>29.88</td>\n",
       "    </tr>\n",
       "    <tr>\n",
       "      <th>2020-01-05</th>\n",
       "      <td>0.034487</td>\n",
       "      <td>4.1700</td>\n",
       "      <td>0.18706</td>\n",
       "      <td>222.6</td>\n",
       "      <td>7346.9</td>\n",
       "      <td>0.99781</td>\n",
       "      <td>51.055</td>\n",
       "      <td>0.002074</td>\n",
       "      <td>2.6777</td>\n",
       "      <td>4.878</td>\n",
       "      <td>...</td>\n",
       "      <td>1.61740</td>\n",
       "      <td>9.344</td>\n",
       "      <td>0.00135</td>\n",
       "      <td>0.9991</td>\n",
       "      <td>0.8914</td>\n",
       "      <td>0.045264</td>\n",
       "      <td>53.44</td>\n",
       "      <td>0.19443</td>\n",
       "      <td>1.2479</td>\n",
       "      <td>30.60</td>\n",
       "    </tr>\n",
       "  </tbody>\n",
       "</table>\n",
       "<p>5 rows × 29 columns</p>\n",
       "</div>"
      ],
      "text/plain": [
       "ticker       ADA/USD  ATOM/USD  BAT/USD  BCH/USD  BTC/USD  DAI/USD  DASH/USD  \\\n",
       "time                                                                           \n",
       "2020-01-01  0.033411    4.3701  0.19543    203.5   7174.4  0.99482    41.811   \n",
       "2020-01-02  0.032693    4.0624  0.18144    195.4   6942.3  0.99760    39.839   \n",
       "2020-01-03  0.033847    4.2398  0.18645    221.6   7334.8  0.99750    43.726   \n",
       "2020-01-04  0.034301    4.2315  0.18831    224.5   7350.2  0.99511    46.026   \n",
       "2020-01-05  0.034487    4.1700  0.18706    222.6   7346.9  0.99781    51.055   \n",
       "\n",
       "ticker      DOGE/USD  EOS/USD  ETC/USD  ...  QTUM/USD  REP/USD   SC/USD  \\\n",
       "time                                    ...                               \n",
       "2020-01-01  0.002007   2.5788    4.489  ...   1.59885    8.654  0.00130   \n",
       "2020-01-02  0.001991   2.4490    4.238  ...   1.50101    8.477  0.00125   \n",
       "2020-01-03  0.002449   2.6325    4.562  ...   1.61882    8.822  0.00131   \n",
       "2020-01-04  0.002060   2.6407    4.758  ...   1.64227    9.090  0.00134   \n",
       "2020-01-05  0.002074   2.6777    4.878  ...   1.61740    9.344  0.00135   \n",
       "\n",
       "ticker      USDT/USD  WAVES/USD   XLM/USD  XMR/USD  XRP/USD  XTZ/USD  ZEC/USD  \n",
       "time                                                                           \n",
       "2020-01-01    0.9970     1.0457  0.045192    45.62  0.19269   1.3689    27.96  \n",
       "2020-01-02    0.9970     0.9433  0.043520    45.28  0.18682   1.2300    26.97  \n",
       "2020-01-03    0.9984     0.9489  0.045310    50.72  0.19286   1.2769    28.37  \n",
       "2020-01-04    0.9979     0.9470  0.045513    50.37  0.19269   1.2541    29.88  \n",
       "2020-01-05    0.9991     0.8914  0.045264    53.44  0.19443   1.2479    30.60  \n",
       "\n",
       "[5 rows x 29 columns]"
      ]
     },
     "execution_count": 570,
     "metadata": {},
     "output_type": "execute_result"
    }
   ],
   "source": [
    "crypto_close_df=crypto_close_kraken[filter_cryptos]\n",
    "crypto_close_df.head()"
   ]
  },
  {
   "cell_type": "markdown",
   "metadata": {},
   "source": [
    "## Crypto Historic Returns"
   ]
  },
  {
   "cell_type": "code",
   "execution_count": 571,
   "metadata": {},
   "outputs": [
    {
     "data": {
      "text/html": [
       "<div>\n",
       "<style scoped>\n",
       "    .dataframe tbody tr th:only-of-type {\n",
       "        vertical-align: middle;\n",
       "    }\n",
       "\n",
       "    .dataframe tbody tr th {\n",
       "        vertical-align: top;\n",
       "    }\n",
       "\n",
       "    .dataframe thead th {\n",
       "        text-align: right;\n",
       "    }\n",
       "</style>\n",
       "<table border=\"1\" class=\"dataframe\">\n",
       "  <thead>\n",
       "    <tr style=\"text-align: right;\">\n",
       "      <th>ticker</th>\n",
       "      <th>ADA/USD</th>\n",
       "      <th>ATOM/USD</th>\n",
       "      <th>BAT/USD</th>\n",
       "      <th>BCH/USD</th>\n",
       "      <th>BTC/USD</th>\n",
       "      <th>DAI/USD</th>\n",
       "      <th>DASH/USD</th>\n",
       "      <th>DOGE/USD</th>\n",
       "      <th>EOS/USD</th>\n",
       "      <th>ETC/USD</th>\n",
       "      <th>...</th>\n",
       "      <th>QTUM/USD</th>\n",
       "      <th>REP/USD</th>\n",
       "      <th>SC/USD</th>\n",
       "      <th>USDT/USD</th>\n",
       "      <th>WAVES/USD</th>\n",
       "      <th>XLM/USD</th>\n",
       "      <th>XMR/USD</th>\n",
       "      <th>XRP/USD</th>\n",
       "      <th>XTZ/USD</th>\n",
       "      <th>ZEC/USD</th>\n",
       "    </tr>\n",
       "    <tr>\n",
       "      <th>time</th>\n",
       "      <th></th>\n",
       "      <th></th>\n",
       "      <th></th>\n",
       "      <th></th>\n",
       "      <th></th>\n",
       "      <th></th>\n",
       "      <th></th>\n",
       "      <th></th>\n",
       "      <th></th>\n",
       "      <th></th>\n",
       "      <th></th>\n",
       "      <th></th>\n",
       "      <th></th>\n",
       "      <th></th>\n",
       "      <th></th>\n",
       "      <th></th>\n",
       "      <th></th>\n",
       "      <th></th>\n",
       "      <th></th>\n",
       "      <th></th>\n",
       "      <th></th>\n",
       "    </tr>\n",
       "  </thead>\n",
       "  <tbody>\n",
       "    <tr>\n",
       "      <th>2020-01-02</th>\n",
       "      <td>-0.021490</td>\n",
       "      <td>-0.070410</td>\n",
       "      <td>-0.071586</td>\n",
       "      <td>-0.039803</td>\n",
       "      <td>-0.032351</td>\n",
       "      <td>0.002794</td>\n",
       "      <td>-0.047165</td>\n",
       "      <td>-0.007924</td>\n",
       "      <td>-0.050333</td>\n",
       "      <td>-0.055914</td>\n",
       "      <td>...</td>\n",
       "      <td>-0.061194</td>\n",
       "      <td>-0.020453</td>\n",
       "      <td>-0.038462</td>\n",
       "      <td>0.000000</td>\n",
       "      <td>-0.097925</td>\n",
       "      <td>-0.036998</td>\n",
       "      <td>-0.007453</td>\n",
       "      <td>-0.030463</td>\n",
       "      <td>-0.101468</td>\n",
       "      <td>-0.035408</td>\n",
       "    </tr>\n",
       "    <tr>\n",
       "      <th>2020-01-03</th>\n",
       "      <td>0.035298</td>\n",
       "      <td>0.043669</td>\n",
       "      <td>0.027612</td>\n",
       "      <td>0.134084</td>\n",
       "      <td>0.056537</td>\n",
       "      <td>-0.000100</td>\n",
       "      <td>0.097568</td>\n",
       "      <td>0.230483</td>\n",
       "      <td>0.074929</td>\n",
       "      <td>0.076451</td>\n",
       "      <td>...</td>\n",
       "      <td>0.078487</td>\n",
       "      <td>0.040698</td>\n",
       "      <td>0.048000</td>\n",
       "      <td>0.001404</td>\n",
       "      <td>0.005937</td>\n",
       "      <td>0.041131</td>\n",
       "      <td>0.120141</td>\n",
       "      <td>0.032331</td>\n",
       "      <td>0.038130</td>\n",
       "      <td>0.051910</td>\n",
       "    </tr>\n",
       "    <tr>\n",
       "      <th>2020-01-04</th>\n",
       "      <td>0.013413</td>\n",
       "      <td>-0.001958</td>\n",
       "      <td>0.009976</td>\n",
       "      <td>0.013087</td>\n",
       "      <td>0.002100</td>\n",
       "      <td>-0.002396</td>\n",
       "      <td>0.052600</td>\n",
       "      <td>-0.159059</td>\n",
       "      <td>0.003115</td>\n",
       "      <td>0.042964</td>\n",
       "      <td>...</td>\n",
       "      <td>0.014486</td>\n",
       "      <td>0.030379</td>\n",
       "      <td>0.022901</td>\n",
       "      <td>-0.000501</td>\n",
       "      <td>-0.002002</td>\n",
       "      <td>0.004480</td>\n",
       "      <td>-0.006901</td>\n",
       "      <td>-0.000881</td>\n",
       "      <td>-0.017856</td>\n",
       "      <td>0.053225</td>\n",
       "    </tr>\n",
       "    <tr>\n",
       "      <th>2020-01-05</th>\n",
       "      <td>0.005423</td>\n",
       "      <td>-0.014534</td>\n",
       "      <td>-0.006638</td>\n",
       "      <td>-0.008463</td>\n",
       "      <td>-0.000449</td>\n",
       "      <td>0.002713</td>\n",
       "      <td>0.109264</td>\n",
       "      <td>0.006797</td>\n",
       "      <td>0.014011</td>\n",
       "      <td>0.025221</td>\n",
       "      <td>...</td>\n",
       "      <td>-0.015144</td>\n",
       "      <td>0.027943</td>\n",
       "      <td>0.007463</td>\n",
       "      <td>0.001203</td>\n",
       "      <td>-0.058712</td>\n",
       "      <td>-0.005471</td>\n",
       "      <td>0.060949</td>\n",
       "      <td>0.009030</td>\n",
       "      <td>-0.004944</td>\n",
       "      <td>0.024096</td>\n",
       "    </tr>\n",
       "    <tr>\n",
       "      <th>2020-01-06</th>\n",
       "      <td>0.083858</td>\n",
       "      <td>-0.015228</td>\n",
       "      <td>0.014755</td>\n",
       "      <td>0.097035</td>\n",
       "      <td>0.055860</td>\n",
       "      <td>-0.000712</td>\n",
       "      <td>0.111194</td>\n",
       "      <td>0.029511</td>\n",
       "      <td>0.065205</td>\n",
       "      <td>0.029315</td>\n",
       "      <td>...</td>\n",
       "      <td>0.069197</td>\n",
       "      <td>0.032962</td>\n",
       "      <td>0.037037</td>\n",
       "      <td>0.001301</td>\n",
       "      <td>0.003365</td>\n",
       "      <td>0.116914</td>\n",
       "      <td>0.102171</td>\n",
       "      <td>0.148485</td>\n",
       "      <td>0.042792</td>\n",
       "      <td>0.067320</td>\n",
       "    </tr>\n",
       "  </tbody>\n",
       "</table>\n",
       "<p>5 rows × 29 columns</p>\n",
       "</div>"
      ],
      "text/plain": [
       "ticker       ADA/USD  ATOM/USD   BAT/USD   BCH/USD   BTC/USD   DAI/USD  \\\n",
       "time                                                                     \n",
       "2020-01-02 -0.021490 -0.070410 -0.071586 -0.039803 -0.032351  0.002794   \n",
       "2020-01-03  0.035298  0.043669  0.027612  0.134084  0.056537 -0.000100   \n",
       "2020-01-04  0.013413 -0.001958  0.009976  0.013087  0.002100 -0.002396   \n",
       "2020-01-05  0.005423 -0.014534 -0.006638 -0.008463 -0.000449  0.002713   \n",
       "2020-01-06  0.083858 -0.015228  0.014755  0.097035  0.055860 -0.000712   \n",
       "\n",
       "ticker      DASH/USD  DOGE/USD   EOS/USD   ETC/USD  ...  QTUM/USD   REP/USD  \\\n",
       "time                                                ...                       \n",
       "2020-01-02 -0.047165 -0.007924 -0.050333 -0.055914  ... -0.061194 -0.020453   \n",
       "2020-01-03  0.097568  0.230483  0.074929  0.076451  ...  0.078487  0.040698   \n",
       "2020-01-04  0.052600 -0.159059  0.003115  0.042964  ...  0.014486  0.030379   \n",
       "2020-01-05  0.109264  0.006797  0.014011  0.025221  ... -0.015144  0.027943   \n",
       "2020-01-06  0.111194  0.029511  0.065205  0.029315  ...  0.069197  0.032962   \n",
       "\n",
       "ticker        SC/USD  USDT/USD  WAVES/USD   XLM/USD   XMR/USD   XRP/USD  \\\n",
       "time                                                                      \n",
       "2020-01-02 -0.038462  0.000000  -0.097925 -0.036998 -0.007453 -0.030463   \n",
       "2020-01-03  0.048000  0.001404   0.005937  0.041131  0.120141  0.032331   \n",
       "2020-01-04  0.022901 -0.000501  -0.002002  0.004480 -0.006901 -0.000881   \n",
       "2020-01-05  0.007463  0.001203  -0.058712 -0.005471  0.060949  0.009030   \n",
       "2020-01-06  0.037037  0.001301   0.003365  0.116914  0.102171  0.148485   \n",
       "\n",
       "ticker       XTZ/USD   ZEC/USD  \n",
       "time                            \n",
       "2020-01-02 -0.101468 -0.035408  \n",
       "2020-01-03  0.038130  0.051910  \n",
       "2020-01-04 -0.017856  0.053225  \n",
       "2020-01-05 -0.004944  0.024096  \n",
       "2020-01-06  0.042792  0.067320  \n",
       "\n",
       "[5 rows x 29 columns]"
      ]
     },
     "execution_count": 571,
     "metadata": {},
     "output_type": "execute_result"
    }
   ],
   "source": [
    "# Calculate Daily Returns \n",
    "crypto_returns = (crypto_close_df - crypto_close_df.shift(1)) / crypto_close_df.shift(1)\n",
    "crypto_returns = crypto_returns.dropna()\n",
    "crypto_returns.head()"
   ]
  },
  {
   "cell_type": "code",
   "execution_count": 572,
   "metadata": {},
   "outputs": [
    {
     "data": {
      "text/html": [
       "<div>\n",
       "<style scoped>\n",
       "    .dataframe tbody tr th:only-of-type {\n",
       "        vertical-align: middle;\n",
       "    }\n",
       "\n",
       "    .dataframe tbody tr th {\n",
       "        vertical-align: top;\n",
       "    }\n",
       "\n",
       "    .dataframe thead th {\n",
       "        text-align: right;\n",
       "    }\n",
       "</style>\n",
       "<table border=\"1\" class=\"dataframe\">\n",
       "  <thead>\n",
       "    <tr style=\"text-align: right;\">\n",
       "      <th></th>\n",
       "      <th>SD</th>\n",
       "    </tr>\n",
       "    <tr>\n",
       "      <th>ticker</th>\n",
       "      <th></th>\n",
       "    </tr>\n",
       "  </thead>\n",
       "  <tbody>\n",
       "    <tr>\n",
       "      <th>ADA/USD</th>\n",
       "      <td>1.009366</td>\n",
       "    </tr>\n",
       "    <tr>\n",
       "      <th>ATOM/USD</th>\n",
       "      <td>0.958364</td>\n",
       "    </tr>\n",
       "    <tr>\n",
       "      <th>BAT/USD</th>\n",
       "      <td>0.987412</td>\n",
       "    </tr>\n",
       "    <tr>\n",
       "      <th>BCH/USD</th>\n",
       "      <td>1.037347</td>\n",
       "    </tr>\n",
       "    <tr>\n",
       "      <th>BTC/USD</th>\n",
       "      <td>0.746284</td>\n",
       "    </tr>\n",
       "  </tbody>\n",
       "</table>\n",
       "</div>"
      ],
      "text/plain": [
       "                SD\n",
       "ticker            \n",
       "ADA/USD   1.009366\n",
       "ATOM/USD  0.958364\n",
       "BAT/USD   0.987412\n",
       "BCH/USD   1.037347\n",
       "BTC/USD   0.746284"
      ]
     },
     "execution_count": 572,
     "metadata": {},
     "output_type": "execute_result"
    }
   ],
   "source": [
    "# Annualized Standard Deviations\n",
    "annualized_std = crypto_returns.std()* np.sqrt(252)\n",
    "annualized_std = annualized_std.to_frame()\n",
    "annualized_std.columns=['SD']\n",
    "annualized_std.head()"
   ]
  },
  {
   "cell_type": "code",
   "execution_count": 573,
   "metadata": {},
   "outputs": [
    {
     "data": {
      "text/html": [
       "<div>\n",
       "<style scoped>\n",
       "    .dataframe tbody tr th:only-of-type {\n",
       "        vertical-align: middle;\n",
       "    }\n",
       "\n",
       "    .dataframe tbody tr th {\n",
       "        vertical-align: top;\n",
       "    }\n",
       "\n",
       "    .dataframe thead th {\n",
       "        text-align: right;\n",
       "    }\n",
       "</style>\n",
       "<table border=\"1\" class=\"dataframe\">\n",
       "  <thead>\n",
       "    <tr style=\"text-align: right;\">\n",
       "      <th></th>\n",
       "      <th>sharpe_ratio</th>\n",
       "    </tr>\n",
       "    <tr>\n",
       "      <th>ticker</th>\n",
       "      <th></th>\n",
       "    </tr>\n",
       "  </thead>\n",
       "  <tbody>\n",
       "    <tr>\n",
       "      <th>ADA/USD</th>\n",
       "      <td>2.268754</td>\n",
       "    </tr>\n",
       "    <tr>\n",
       "      <th>ATOM/USD</th>\n",
       "      <td>0.407805</td>\n",
       "    </tr>\n",
       "    <tr>\n",
       "      <th>BAT/USD</th>\n",
       "      <td>0.916304</td>\n",
       "    </tr>\n",
       "    <tr>\n",
       "      <th>BCH/USD</th>\n",
       "      <td>0.752713</td>\n",
       "    </tr>\n",
       "    <tr>\n",
       "      <th>BTC/USD</th>\n",
       "      <td>0.860643</td>\n",
       "    </tr>\n",
       "  </tbody>\n",
       "</table>\n",
       "</div>"
      ],
      "text/plain": [
       "          sharpe_ratio\n",
       "ticker                \n",
       "ADA/USD       2.268754\n",
       "ATOM/USD      0.407805\n",
       "BAT/USD       0.916304\n",
       "BCH/USD       0.752713\n",
       "BTC/USD       0.860643"
      ]
     },
     "execution_count": 573,
     "metadata": {},
     "output_type": "execute_result"
    }
   ],
   "source": [
    "# Annualzied Sharpe Ratios\n",
    "sharpe_ratios = (crypto_returns.mean() * 252) / (crypto_returns.std() * np.sqrt(252))\n",
    "sharpe_ratios = sharpe_ratios.to_frame()\n",
    "sharpe_ratios.columns = ['sharpe_ratio']\n",
    "sharpe_ratios.head()"
   ]
  },
  {
   "cell_type": "markdown",
   "metadata": {},
   "source": [
    "## Kraken Cryptos features (Part B)"
   ]
  },
  {
   "cell_type": "code",
   "execution_count": 579,
   "metadata": {},
   "outputs": [],
   "source": [
    "cm_crypto_features_df['ticker']=cm_crypto_features_df.Symbol+'/USD'\n",
    "crypto_features_df=cm_crypto_features_df.set_index('ticker')\n",
    "crypto_features_df=crypto_features_df.drop('Symbol',axis=1)"
   ]
  },
  {
   "cell_type": "code",
   "execution_count": 580,
   "metadata": {},
   "outputs": [
    {
     "data": {
      "text/html": [
       "<div>\n",
       "<style scoped>\n",
       "    .dataframe tbody tr th:only-of-type {\n",
       "        vertical-align: middle;\n",
       "    }\n",
       "\n",
       "    .dataframe tbody tr th {\n",
       "        vertical-align: top;\n",
       "    }\n",
       "\n",
       "    .dataframe thead th {\n",
       "        text-align: right;\n",
       "    }\n",
       "</style>\n",
       "<table border=\"1\" class=\"dataframe\">\n",
       "  <thead>\n",
       "    <tr style=\"text-align: right;\">\n",
       "      <th></th>\n",
       "      <th>market_cap</th>\n",
       "      <th>price</th>\n",
       "      <th>circulating_suppy</th>\n",
       "      <th>volume_24h</th>\n",
       "      <th>sharpe_ratio</th>\n",
       "      <th>SD</th>\n",
       "    </tr>\n",
       "    <tr>\n",
       "      <th>ticker</th>\n",
       "      <th></th>\n",
       "      <th></th>\n",
       "      <th></th>\n",
       "      <th></th>\n",
       "      <th></th>\n",
       "      <th></th>\n",
       "    </tr>\n",
       "  </thead>\n",
       "  <tbody>\n",
       "    <tr>\n",
       "      <th>BTC/USD</th>\n",
       "      <td>1.703749e+11</td>\n",
       "      <td>9244.320000</td>\n",
       "      <td>1.843023e+07</td>\n",
       "      <td>1.335552e+10</td>\n",
       "      <td>0.860643</td>\n",
       "      <td>0.746284</td>\n",
       "    </tr>\n",
       "    <tr>\n",
       "      <th>ETH/USD</th>\n",
       "      <td>2.678885e+10</td>\n",
       "      <td>239.790000</td>\n",
       "      <td>1.117179e+08</td>\n",
       "      <td>5.663512e+09</td>\n",
       "      <td>1.367466</td>\n",
       "      <td>0.947143</td>\n",
       "    </tr>\n",
       "    <tr>\n",
       "      <th>USDT/USD</th>\n",
       "      <td>9.193431e+09</td>\n",
       "      <td>1.000000</td>\n",
       "      <td>9.193431e+09</td>\n",
       "      <td>1.695382e+10</td>\n",
       "      <td>0.150031</td>\n",
       "      <td>0.025889</td>\n",
       "    </tr>\n",
       "    <tr>\n",
       "      <th>XRP/USD</th>\n",
       "      <td>8.916319e+09</td>\n",
       "      <td>0.201463</td>\n",
       "      <td>4.425785e+10</td>\n",
       "      <td>1.004685e+09</td>\n",
       "      <td>0.486208</td>\n",
       "      <td>0.766072</td>\n",
       "    </tr>\n",
       "    <tr>\n",
       "      <th>BCH/USD</th>\n",
       "      <td>4.370658e+09</td>\n",
       "      <td>236.770000</td>\n",
       "      <td>1.845951e+07</td>\n",
       "      <td>8.468725e+08</td>\n",
       "      <td>0.752713</td>\n",
       "      <td>1.037347</td>\n",
       "    </tr>\n",
       "  </tbody>\n",
       "</table>\n",
       "</div>"
      ],
      "text/plain": [
       "            market_cap        price  circulating_suppy    volume_24h  \\\n",
       "ticker                                                                 \n",
       "BTC/USD   1.703749e+11  9244.320000       1.843023e+07  1.335552e+10   \n",
       "ETH/USD   2.678885e+10   239.790000       1.117179e+08  5.663512e+09   \n",
       "USDT/USD  9.193431e+09     1.000000       9.193431e+09  1.695382e+10   \n",
       "XRP/USD   8.916319e+09     0.201463       4.425785e+10  1.004685e+09   \n",
       "BCH/USD   4.370658e+09   236.770000       1.845951e+07  8.468725e+08   \n",
       "\n",
       "          sharpe_ratio        SD  \n",
       "ticker                            \n",
       "BTC/USD       0.860643  0.746284  \n",
       "ETH/USD       1.367466  0.947143  \n",
       "USDT/USD      0.150031  0.025889  \n",
       "XRP/USD       0.486208  0.766072  \n",
       "BCH/USD       0.752713  1.037347  "
      ]
     },
     "execution_count": 580,
     "metadata": {},
     "output_type": "execute_result"
    }
   ],
   "source": [
    "left_merge=crypto_features_df.join(sharpe_ratios,how='inner')\n",
    "crypto_features_df=left_merge.join(annualized_std,how='inner')\n",
    "crypto_features_df.head()"
   ]
  },
  {
   "cell_type": "markdown",
   "metadata": {},
   "source": [
    "## Standarize Data"
   ]
  },
  {
   "cell_type": "code",
   "execution_count": 605,
   "metadata": {},
   "outputs": [
    {
     "name": "stdout",
     "output_type": "stream",
     "text": [
      "[[ 5.218647    5.19144331 -0.37585333  3.04593423 -0.55342813 -0.57748134]]\n"
     ]
    }
   ],
   "source": [
    "# Standardize data\n",
    "from sklearn.preprocessing import StandardScaler, MinMaxScaler\n",
    "crypto_df_scaled = StandardScaler().fit_transform(crypto_features_df)\n",
    "print(crypto_df_scaled[0:1])"
   ]
  },
  {
   "cell_type": "code",
   "execution_count": 627,
   "metadata": {},
   "outputs": [
    {
     "data": {
      "text/plain": [
       "array([[ 7.31697182,  3.20599038, -0.02710701],\n",
       "       [ 0.69854696,  0.3739592 , -0.26897376],\n",
       "       [ 3.47583819, -3.16570907,  0.79545626],\n",
       "       [ 0.21798144, -0.98004234,  1.46484077],\n",
       "       [-0.08768229, -0.33734244, -0.4049725 ],\n",
       "       [-1.11153143,  1.31803154,  0.52842305],\n",
       "       [ 0.21152943, -0.89213874, -0.31360705],\n",
       "       [ 0.07375645, -0.89109697, -0.30936274],\n",
       "       [-0.96710499,  1.09137431, -0.47640458],\n",
       "       [-0.65847528,  0.34790922, -0.43753218],\n",
       "       [-0.5587389 ,  0.24804089,  0.40633172],\n",
       "       [-0.27403559, -0.35526685, -0.38323845],\n",
       "       [-0.37985382, -0.16614601, -0.41834507],\n",
       "       [-0.02258598, -0.95603338, -0.36432592],\n",
       "       [-0.68315715,  0.35236081, -0.50039407],\n",
       "       [-0.61925026,  0.26936772, -0.45293239],\n",
       "       [-1.07316512,  0.61716641,  4.51209083],\n",
       "       [-0.35681337, -0.33821644, -0.35806888],\n",
       "       [-1.18754588,  1.2515693 , -0.54160065],\n",
       "       [-0.95664191,  0.80113515, -0.52343817],\n",
       "       [-0.90961979,  0.67975264, -0.53687169],\n",
       "       [-0.28457476, -0.428402  , -0.39535244],\n",
       "       [ 0.92343419, -2.6317531 , -0.07470396],\n",
       "       [-0.88573208,  0.64358921, -0.51175751],\n",
       "       [-1.2811096 ,  1.23095382,  1.08545389],\n",
       "       [-0.584435  ,  0.05315295, -0.46014187],\n",
       "       [-0.24691795, -0.59483388, -0.40014846],\n",
       "       [ 0.92912682, -1.1826905 , -0.1941635 ],\n",
       "       [-0.71821413,  0.43531817, -0.43915365]])"
      ]
     },
     "execution_count": 627,
     "metadata": {},
     "output_type": "execute_result"
    }
   ],
   "source": [
    "# Initialize PCA model to reduce dimension to 3 principal components\n",
    "from sklearn.decomposition import PCA\n",
    "pca = PCA(n_components=3)\n",
    "\n",
    "# Get three principal components for the data.\n",
    "crypto_pca = pca.fit_transform(crypto_df_scaled)\n",
    "crypto_pca"
   ]
  },
  {
   "cell_type": "code",
   "execution_count": 641,
   "metadata": {},
   "outputs": [
    {
     "data": {
      "text/html": [
       "<div>\n",
       "<style scoped>\n",
       "    .dataframe tbody tr th:only-of-type {\n",
       "        vertical-align: middle;\n",
       "    }\n",
       "\n",
       "    .dataframe tbody tr th {\n",
       "        vertical-align: top;\n",
       "    }\n",
       "\n",
       "    .dataframe thead th {\n",
       "        text-align: right;\n",
       "    }\n",
       "</style>\n",
       "<table border=\"1\" class=\"dataframe\">\n",
       "  <thead>\n",
       "    <tr style=\"text-align: right;\">\n",
       "      <th></th>\n",
       "      <th>PC1</th>\n",
       "      <th>PC2</th>\n",
       "      <th>PC3</th>\n",
       "    </tr>\n",
       "    <tr>\n",
       "      <th>ticker</th>\n",
       "      <th></th>\n",
       "      <th></th>\n",
       "      <th></th>\n",
       "    </tr>\n",
       "  </thead>\n",
       "  <tbody>\n",
       "    <tr>\n",
       "      <th>BTC/USD</th>\n",
       "      <td>7.316972</td>\n",
       "      <td>3.205990</td>\n",
       "      <td>-0.027107</td>\n",
       "    </tr>\n",
       "    <tr>\n",
       "      <th>ETH/USD</th>\n",
       "      <td>0.698547</td>\n",
       "      <td>0.373959</td>\n",
       "      <td>-0.268974</td>\n",
       "    </tr>\n",
       "    <tr>\n",
       "      <th>USDT/USD</th>\n",
       "      <td>3.475838</td>\n",
       "      <td>-3.165709</td>\n",
       "      <td>0.795456</td>\n",
       "    </tr>\n",
       "    <tr>\n",
       "      <th>XRP/USD</th>\n",
       "      <td>0.217981</td>\n",
       "      <td>-0.980042</td>\n",
       "      <td>1.464841</td>\n",
       "    </tr>\n",
       "    <tr>\n",
       "      <th>BCH/USD</th>\n",
       "      <td>-0.087682</td>\n",
       "      <td>-0.337342</td>\n",
       "      <td>-0.404973</td>\n",
       "    </tr>\n",
       "  </tbody>\n",
       "</table>\n",
       "</div>"
      ],
      "text/plain": [
       "               PC1       PC2       PC3\n",
       "ticker                                \n",
       "BTC/USD   7.316972  3.205990 -0.027107\n",
       "ETH/USD   0.698547  0.373959 -0.268974\n",
       "USDT/USD  3.475838 -3.165709  0.795456\n",
       "XRP/USD   0.217981 -0.980042  1.464841\n",
       "BCH/USD  -0.087682 -0.337342 -0.404973"
      ]
     },
     "execution_count": 641,
     "metadata": {},
     "output_type": "execute_result"
    }
   ],
   "source": [
    "# Transform PCA data to a DataFrame\n",
    "df_crypto_pca = pd.DataFrame(\n",
    "    data=crypto_pca, columns=[\"PC1\", \"PC2\",\"PC3\"],index=crypto_features_df.index)\n",
    "# df_crypto_pca['symbol']=df_crypto_pca.index.values-'/USD'\n",
    "df_crypto_pca.head()"
   ]
  },
  {
   "cell_type": "code",
   "execution_count": 630,
   "metadata": {},
   "outputs": [
    {
     "data": {
      "text/plain": [
       "array([0.45846253, 0.23924826, 0.16396357])"
      ]
     },
     "execution_count": 630,
     "metadata": {},
     "output_type": "execute_result"
    }
   ],
   "source": [
    "#Explained variance\n",
    "pca.explained_variance_ratio_"
   ]
  },
  {
   "cell_type": "markdown",
   "metadata": {},
   "source": [
    "## Clustering Crytocurrencies Using Spectral Clustering"
   ]
  },
  {
   "cell_type": "code",
   "execution_count": 631,
   "metadata": {},
   "outputs": [],
   "source": [
    "from sklearn.cluster import SpectralClustering\n",
    "# Initialize the Spectral Clustering model\n",
    "model = SpectralClustering(n_clusters=3, random_state=5)"
   ]
  },
  {
   "cell_type": "code",
   "execution_count": 632,
   "metadata": {},
   "outputs": [
    {
     "data": {
      "text/plain": [
       "SpectralClustering(affinity='rbf', assign_labels='kmeans', coef0=1, degree=3,\n",
       "                   eigen_solver=None, eigen_tol=0.0, gamma=1.0,\n",
       "                   kernel_params=None, n_clusters=3, n_components=None,\n",
       "                   n_init=10, n_jobs=None, n_neighbors=10, random_state=5)"
      ]
     },
     "execution_count": 632,
     "metadata": {},
     "output_type": "execute_result"
    }
   ],
   "source": [
    "# Fit the model\n",
    "model.fit(df_crypto_pca)"
   ]
  },
  {
   "cell_type": "code",
   "execution_count": 633,
   "metadata": {},
   "outputs": [
    {
     "name": "stdout",
     "output_type": "stream",
     "text": [
      "[1 1 0 1 1 0 1 1 1 1 1 1 1 1 1 1 2 1 1 1 1 1 0 1 0 1 1 1 1]\n"
     ]
    }
   ],
   "source": [
    "# Predict clusters\n",
    "predictions = model.fit_predict(df_crypto_pca)\n",
    "print(predictions)"
   ]
  },
  {
   "cell_type": "code",
   "execution_count": 646,
   "metadata": {},
   "outputs": [
    {
     "data": {
      "text/html": [
       "<div>\n",
       "<style scoped>\n",
       "    .dataframe tbody tr th:only-of-type {\n",
       "        vertical-align: middle;\n",
       "    }\n",
       "\n",
       "    .dataframe tbody tr th {\n",
       "        vertical-align: top;\n",
       "    }\n",
       "\n",
       "    .dataframe thead th {\n",
       "        text-align: right;\n",
       "    }\n",
       "</style>\n",
       "<table border=\"1\" class=\"dataframe\">\n",
       "  <thead>\n",
       "    <tr style=\"text-align: right;\">\n",
       "      <th></th>\n",
       "      <th>market_cap</th>\n",
       "      <th>price</th>\n",
       "      <th>circulating_suppy</th>\n",
       "      <th>volume_24h</th>\n",
       "      <th>sharpe_ratio</th>\n",
       "      <th>SD</th>\n",
       "      <th>PC1</th>\n",
       "      <th>PC2</th>\n",
       "      <th>PC3</th>\n",
       "      <th>Class</th>\n",
       "      <th>symbol</th>\n",
       "    </tr>\n",
       "    <tr>\n",
       "      <th>ticker</th>\n",
       "      <th></th>\n",
       "      <th></th>\n",
       "      <th></th>\n",
       "      <th></th>\n",
       "      <th></th>\n",
       "      <th></th>\n",
       "      <th></th>\n",
       "      <th></th>\n",
       "      <th></th>\n",
       "      <th></th>\n",
       "      <th></th>\n",
       "    </tr>\n",
       "  </thead>\n",
       "  <tbody>\n",
       "    <tr>\n",
       "      <th>BTC/USD</th>\n",
       "      <td>1.703749e+11</td>\n",
       "      <td>9244.320000</td>\n",
       "      <td>1.843023e+07</td>\n",
       "      <td>1.335552e+10</td>\n",
       "      <td>0.860643</td>\n",
       "      <td>0.746284</td>\n",
       "      <td>7.316972</td>\n",
       "      <td>3.205990</td>\n",
       "      <td>-0.027107</td>\n",
       "      <td>1</td>\n",
       "      <td>BTC/USD</td>\n",
       "    </tr>\n",
       "    <tr>\n",
       "      <th>ETH/USD</th>\n",
       "      <td>2.678885e+10</td>\n",
       "      <td>239.790000</td>\n",
       "      <td>1.117179e+08</td>\n",
       "      <td>5.663512e+09</td>\n",
       "      <td>1.367466</td>\n",
       "      <td>0.947143</td>\n",
       "      <td>0.698547</td>\n",
       "      <td>0.373959</td>\n",
       "      <td>-0.268974</td>\n",
       "      <td>1</td>\n",
       "      <td>ETH/USD</td>\n",
       "    </tr>\n",
       "    <tr>\n",
       "      <th>USDT/USD</th>\n",
       "      <td>9.193431e+09</td>\n",
       "      <td>1.000000</td>\n",
       "      <td>9.193431e+09</td>\n",
       "      <td>1.695382e+10</td>\n",
       "      <td>0.150031</td>\n",
       "      <td>0.025889</td>\n",
       "      <td>3.475838</td>\n",
       "      <td>-3.165709</td>\n",
       "      <td>0.795456</td>\n",
       "      <td>0</td>\n",
       "      <td>USDT/USD</td>\n",
       "    </tr>\n",
       "    <tr>\n",
       "      <th>XRP/USD</th>\n",
       "      <td>8.916319e+09</td>\n",
       "      <td>0.201463</td>\n",
       "      <td>4.425785e+10</td>\n",
       "      <td>1.004685e+09</td>\n",
       "      <td>0.486208</td>\n",
       "      <td>0.766072</td>\n",
       "      <td>0.217981</td>\n",
       "      <td>-0.980042</td>\n",
       "      <td>1.464841</td>\n",
       "      <td>1</td>\n",
       "      <td>XRP/USD</td>\n",
       "    </tr>\n",
       "    <tr>\n",
       "      <th>BCH/USD</th>\n",
       "      <td>4.370658e+09</td>\n",
       "      <td>236.770000</td>\n",
       "      <td>1.845951e+07</td>\n",
       "      <td>8.468725e+08</td>\n",
       "      <td>0.752713</td>\n",
       "      <td>1.037347</td>\n",
       "      <td>-0.087682</td>\n",
       "      <td>-0.337342</td>\n",
       "      <td>-0.404973</td>\n",
       "      <td>1</td>\n",
       "      <td>BCH/USD</td>\n",
       "    </tr>\n",
       "  </tbody>\n",
       "</table>\n",
       "</div>"
      ],
      "text/plain": [
       "            market_cap        price  circulating_suppy    volume_24h  \\\n",
       "ticker                                                                 \n",
       "BTC/USD   1.703749e+11  9244.320000       1.843023e+07  1.335552e+10   \n",
       "ETH/USD   2.678885e+10   239.790000       1.117179e+08  5.663512e+09   \n",
       "USDT/USD  9.193431e+09     1.000000       9.193431e+09  1.695382e+10   \n",
       "XRP/USD   8.916319e+09     0.201463       4.425785e+10  1.004685e+09   \n",
       "BCH/USD   4.370658e+09   236.770000       1.845951e+07  8.468725e+08   \n",
       "\n",
       "          sharpe_ratio        SD       PC1       PC2       PC3  Class  \\\n",
       "ticker                                                                  \n",
       "BTC/USD       0.860643  0.746284  7.316972  3.205990 -0.027107      1   \n",
       "ETH/USD       1.367466  0.947143  0.698547  0.373959 -0.268974      1   \n",
       "USDT/USD      0.150031  0.025889  3.475838 -3.165709  0.795456      0   \n",
       "XRP/USD       0.486208  0.766072  0.217981 -0.980042  1.464841      1   \n",
       "BCH/USD       0.752713  1.037347 -0.087682 -0.337342 -0.404973      1   \n",
       "\n",
       "            symbol  \n",
       "ticker              \n",
       "BTC/USD    BTC/USD  \n",
       "ETH/USD    ETH/USD  \n",
       "USDT/USD  USDT/USD  \n",
       "XRP/USD    XRP/USD  \n",
       "BCH/USD    BCH/USD  "
      ]
     },
     "execution_count": 646,
     "metadata": {},
     "output_type": "execute_result"
    }
   ],
   "source": [
    "# Create a new DataFrame including predicted clusters and cryptocurrencies features\n",
    "# df_crypto_pca[\"CoinName\"] = crypto_names\n",
    "df_crypto_pca[\"Class\"] = model.labels_\n",
    "\n",
    "clustered_df = crypto_features_df.join(df_crypto_pca)\n",
    "clustered_df['symbol']=clustered_df.index.values\n",
    "clustered_df.head()\n"
   ]
  },
  {
   "cell_type": "code",
   "execution_count": 647,
   "metadata": {},
   "outputs": [
    {
     "data": {
      "application/vnd.plotly.v1+json": {
       "config": {
        "plotlyServerURL": "https://plot.ly"
       },
       "data": [
        {
         "customdata": [
          [
           0.8606433273558373
          ],
          [
           1.3674655934489741
          ],
          [
           0.4862077841138395
          ],
          [
           0.752713084222044
          ],
          [
           0.5806571495871272
          ],
          [
           0.5227942817038976
          ],
          [
           2.1661643042649525
          ],
          [
           1.42180949176423
          ],
          [
           1.5690019392715837
          ],
          [
           1.1111426269945797
          ],
          [
           1.0175753417431634
          ],
          [
           0.40780479188577756
          ],
          [
           1.1850269381887195
          ],
          [
           1.4294103503838247
          ],
          [
           0.9163036446803592
          ],
          [
           1.959925552030738
          ],
          [
           1.6144045804306035
          ],
          [
           1.4043779081571868
          ],
          [
           0.9025961866681936
          ],
          [
           1.5110493423274711
          ],
          [
           1.1096531738231832
          ],
          [
           0.7012311361094484
          ],
          [
           1.0459591288778936
          ],
          [
           1.7905074306726854
          ]
         ],
         "hovertemplate": "<b>%{hovertext}</b><br><br>Class=%{marker.color}<br>PC1=%{x}<br>PC2=%{y}<br>PC3=%{z}<br>sharpe_ratio=%{customdata[0]}<extra></extra>",
         "hovertext": [
          "BTC/USD",
          "ETH/USD",
          "XRP/USD",
          "BCH/USD",
          "LTC/USD",
          "EOS/USD",
          "LINK/USD",
          "XTZ/USD",
          "XLM/USD",
          "XMR/USD",
          "ETC/USD",
          "ATOM/USD",
          "DASH/USD",
          "ZEC/USD",
          "BAT/USD",
          "ICX/USD",
          "OMG/USD",
          "REP/USD",
          "QTUM/USD",
          "LSK/USD",
          "NANO/USD",
          "WAVES/USD",
          "PAXG/USD",
          "GNO/USD"
         ],
         "legendgroup": "1",
         "marker": {
          "color": [
           1,
           1,
           1,
           1,
           1,
           1,
           1,
           1,
           1,
           1,
           1,
           1,
           1,
           1,
           1,
           1,
           1,
           1,
           1,
           1,
           1,
           1,
           1,
           1
          ],
          "coloraxis": "coloraxis",
          "symbol": "circle"
         },
         "mode": "markers",
         "name": "1",
         "scene": "scene",
         "showlegend": true,
         "type": "scatter3d",
         "x": [
          7.316971816233901,
          0.6985469591181972,
          0.21798143985531915,
          -0.08768228750429162,
          0.21152943259981197,
          0.07375644645615406,
          -0.9671049879751302,
          -0.6584752826836465,
          -0.5587388985380537,
          -0.27403559440709646,
          -0.37985382289727343,
          -0.022585977848299854,
          -0.683157148808918,
          -0.6192502596916938,
          -0.35681336995444746,
          -1.1875458816630051,
          -0.9566419062592616,
          -0.9096197926856747,
          -0.28457475972852714,
          -0.8857320776628091,
          -0.5844350048874669,
          -0.24691795304438716,
          0.9291268229248932,
          -0.7182141287787774
         ],
         "y": [
          3.205990381519736,
          0.3739591970219217,
          -0.9800423414763832,
          -0.337342438369461,
          -0.8921387418389015,
          -0.8910969720937715,
          1.0913743131791278,
          0.34790922392976503,
          0.24804089028638687,
          -0.35526684687461973,
          -0.16614601234340082,
          -0.95603337683344,
          0.3523608081743466,
          0.2693677174247192,
          -0.3382164401222509,
          1.2515692986417308,
          0.801135152346127,
          0.6797526390325049,
          -0.42840200222606123,
          0.6435892122063517,
          0.05315294841026997,
          -0.594833882664648,
          -1.182690502200934,
          0.4353181693949718
         ],
         "z": [
          -0.02710701444367038,
          -0.2689737636140494,
          1.4648407703660364,
          -0.40497250409316965,
          -0.3136070540365416,
          -0.3093627427868374,
          -0.47640458106182576,
          -0.4375321847127638,
          0.4063317238212312,
          -0.3832384464128806,
          -0.418345067149556,
          -0.36432591630670974,
          -0.5003940667082669,
          -0.45293239217014536,
          -0.35806887793204417,
          -0.5416006481966273,
          -0.5234381694495643,
          -0.5368716937569403,
          -0.3953524400691315,
          -0.5117575095583071,
          -0.46014187199567347,
          -0.40014846090770334,
          -0.19416350007129132,
          -0.4391536546189895
         ]
        },
        {
         "customdata": [
          [
           0.15003103335727755
          ],
          [
           2.2687535122471907
          ],
          [
           0.3495590375899381
          ],
          [
           1.6899506881279622
          ]
         ],
         "hovertemplate": "<b>%{hovertext}</b><br><br>Class=%{marker.color}<br>PC1=%{x}<br>PC2=%{y}<br>PC3=%{z}<br>sharpe_ratio=%{customdata[0]}<extra></extra>",
         "hovertext": [
          "USDT/USD",
          "ADA/USD",
          "DAI/USD",
          "SC/USD"
         ],
         "legendgroup": "0",
         "marker": {
          "color": [
           0,
           0,
           0,
           0
          ],
          "coloraxis": "coloraxis",
          "symbol": "diamond"
         },
         "mode": "markers",
         "name": "0",
         "scene": "scene",
         "showlegend": true,
         "type": "scatter3d",
         "x": [
          3.475838185964046,
          -1.111531431912348,
          0.9234341878251314,
          -1.281109599242323
         ],
         "y": [
          -3.1657090661664826,
          1.3180315400500255,
          -2.6317530997588507,
          1.2309538209886817
         ],
         "z": [
          0.7954562550940298,
          0.528423051950603,
          -0.07470396225626064,
          1.085453888757902
         ]
        },
        {
         "customdata": [
          [
           1.297766632085168
          ]
         ],
         "hovertemplate": "<b>%{hovertext}</b><br><br>Class=%{marker.color}<br>PC1=%{x}<br>PC2=%{y}<br>PC3=%{z}<br>sharpe_ratio=%{customdata[0]}<extra></extra>",
         "hovertext": [
          "DOGE/USD"
         ],
         "legendgroup": "2",
         "marker": {
          "color": [
           2
          ],
          "coloraxis": "coloraxis",
          "symbol": "square"
         },
         "mode": "markers",
         "name": "2",
         "scene": "scene",
         "showlegend": true,
         "type": "scatter3d",
         "x": [
          -1.0731651248040237
         ],
         "y": [
          0.6171664103625363
         ],
         "z": [
          4.512090832319148
         ]
        }
       ],
       "layout": {
        "coloraxis": {
         "colorbar": {
          "title": {
           "text": "Class"
          }
         },
         "colorscale": [
          [
           0,
           "#0d0887"
          ],
          [
           0.1111111111111111,
           "#46039f"
          ],
          [
           0.2222222222222222,
           "#7201a8"
          ],
          [
           0.3333333333333333,
           "#9c179e"
          ],
          [
           0.4444444444444444,
           "#bd3786"
          ],
          [
           0.5555555555555556,
           "#d8576b"
          ],
          [
           0.6666666666666666,
           "#ed7953"
          ],
          [
           0.7777777777777778,
           "#fb9f3a"
          ],
          [
           0.8888888888888888,
           "#fdca26"
          ],
          [
           1,
           "#f0f921"
          ]
         ]
        },
        "legend": {
         "title": {
          "text": "Class"
         },
         "tracegroupgap": 0,
         "x": 0,
         "y": 1
        },
        "margin": {
         "t": 60
        },
        "scene": {
         "domain": {
          "x": [
           0,
           1
          ],
          "y": [
           0,
           1
          ]
         },
         "xaxis": {
          "title": {
           "text": "PC1"
          }
         },
         "yaxis": {
          "title": {
           "text": "PC2"
          }
         },
         "zaxis": {
          "title": {
           "text": "PC3"
          }
         }
        },
        "template": {
         "data": {
          "bar": [
           {
            "error_x": {
             "color": "#2a3f5f"
            },
            "error_y": {
             "color": "#2a3f5f"
            },
            "marker": {
             "line": {
              "color": "#E5ECF6",
              "width": 0.5
             }
            },
            "type": "bar"
           }
          ],
          "barpolar": [
           {
            "marker": {
             "line": {
              "color": "#E5ECF6",
              "width": 0.5
             }
            },
            "type": "barpolar"
           }
          ],
          "carpet": [
           {
            "aaxis": {
             "endlinecolor": "#2a3f5f",
             "gridcolor": "white",
             "linecolor": "white",
             "minorgridcolor": "white",
             "startlinecolor": "#2a3f5f"
            },
            "baxis": {
             "endlinecolor": "#2a3f5f",
             "gridcolor": "white",
             "linecolor": "white",
             "minorgridcolor": "white",
             "startlinecolor": "#2a3f5f"
            },
            "type": "carpet"
           }
          ],
          "choropleth": [
           {
            "colorbar": {
             "outlinewidth": 0,
             "ticks": ""
            },
            "type": "choropleth"
           }
          ],
          "contour": [
           {
            "colorbar": {
             "outlinewidth": 0,
             "ticks": ""
            },
            "colorscale": [
             [
              0,
              "#0d0887"
             ],
             [
              0.1111111111111111,
              "#46039f"
             ],
             [
              0.2222222222222222,
              "#7201a8"
             ],
             [
              0.3333333333333333,
              "#9c179e"
             ],
             [
              0.4444444444444444,
              "#bd3786"
             ],
             [
              0.5555555555555556,
              "#d8576b"
             ],
             [
              0.6666666666666666,
              "#ed7953"
             ],
             [
              0.7777777777777778,
              "#fb9f3a"
             ],
             [
              0.8888888888888888,
              "#fdca26"
             ],
             [
              1,
              "#f0f921"
             ]
            ],
            "type": "contour"
           }
          ],
          "contourcarpet": [
           {
            "colorbar": {
             "outlinewidth": 0,
             "ticks": ""
            },
            "type": "contourcarpet"
           }
          ],
          "heatmap": [
           {
            "colorbar": {
             "outlinewidth": 0,
             "ticks": ""
            },
            "colorscale": [
             [
              0,
              "#0d0887"
             ],
             [
              0.1111111111111111,
              "#46039f"
             ],
             [
              0.2222222222222222,
              "#7201a8"
             ],
             [
              0.3333333333333333,
              "#9c179e"
             ],
             [
              0.4444444444444444,
              "#bd3786"
             ],
             [
              0.5555555555555556,
              "#d8576b"
             ],
             [
              0.6666666666666666,
              "#ed7953"
             ],
             [
              0.7777777777777778,
              "#fb9f3a"
             ],
             [
              0.8888888888888888,
              "#fdca26"
             ],
             [
              1,
              "#f0f921"
             ]
            ],
            "type": "heatmap"
           }
          ],
          "heatmapgl": [
           {
            "colorbar": {
             "outlinewidth": 0,
             "ticks": ""
            },
            "colorscale": [
             [
              0,
              "#0d0887"
             ],
             [
              0.1111111111111111,
              "#46039f"
             ],
             [
              0.2222222222222222,
              "#7201a8"
             ],
             [
              0.3333333333333333,
              "#9c179e"
             ],
             [
              0.4444444444444444,
              "#bd3786"
             ],
             [
              0.5555555555555556,
              "#d8576b"
             ],
             [
              0.6666666666666666,
              "#ed7953"
             ],
             [
              0.7777777777777778,
              "#fb9f3a"
             ],
             [
              0.8888888888888888,
              "#fdca26"
             ],
             [
              1,
              "#f0f921"
             ]
            ],
            "type": "heatmapgl"
           }
          ],
          "histogram": [
           {
            "marker": {
             "colorbar": {
              "outlinewidth": 0,
              "ticks": ""
             }
            },
            "type": "histogram"
           }
          ],
          "histogram2d": [
           {
            "colorbar": {
             "outlinewidth": 0,
             "ticks": ""
            },
            "colorscale": [
             [
              0,
              "#0d0887"
             ],
             [
              0.1111111111111111,
              "#46039f"
             ],
             [
              0.2222222222222222,
              "#7201a8"
             ],
             [
              0.3333333333333333,
              "#9c179e"
             ],
             [
              0.4444444444444444,
              "#bd3786"
             ],
             [
              0.5555555555555556,
              "#d8576b"
             ],
             [
              0.6666666666666666,
              "#ed7953"
             ],
             [
              0.7777777777777778,
              "#fb9f3a"
             ],
             [
              0.8888888888888888,
              "#fdca26"
             ],
             [
              1,
              "#f0f921"
             ]
            ],
            "type": "histogram2d"
           }
          ],
          "histogram2dcontour": [
           {
            "colorbar": {
             "outlinewidth": 0,
             "ticks": ""
            },
            "colorscale": [
             [
              0,
              "#0d0887"
             ],
             [
              0.1111111111111111,
              "#46039f"
             ],
             [
              0.2222222222222222,
              "#7201a8"
             ],
             [
              0.3333333333333333,
              "#9c179e"
             ],
             [
              0.4444444444444444,
              "#bd3786"
             ],
             [
              0.5555555555555556,
              "#d8576b"
             ],
             [
              0.6666666666666666,
              "#ed7953"
             ],
             [
              0.7777777777777778,
              "#fb9f3a"
             ],
             [
              0.8888888888888888,
              "#fdca26"
             ],
             [
              1,
              "#f0f921"
             ]
            ],
            "type": "histogram2dcontour"
           }
          ],
          "mesh3d": [
           {
            "colorbar": {
             "outlinewidth": 0,
             "ticks": ""
            },
            "type": "mesh3d"
           }
          ],
          "parcoords": [
           {
            "line": {
             "colorbar": {
              "outlinewidth": 0,
              "ticks": ""
             }
            },
            "type": "parcoords"
           }
          ],
          "pie": [
           {
            "automargin": true,
            "type": "pie"
           }
          ],
          "scatter": [
           {
            "marker": {
             "colorbar": {
              "outlinewidth": 0,
              "ticks": ""
             }
            },
            "type": "scatter"
           }
          ],
          "scatter3d": [
           {
            "line": {
             "colorbar": {
              "outlinewidth": 0,
              "ticks": ""
             }
            },
            "marker": {
             "colorbar": {
              "outlinewidth": 0,
              "ticks": ""
             }
            },
            "type": "scatter3d"
           }
          ],
          "scattercarpet": [
           {
            "marker": {
             "colorbar": {
              "outlinewidth": 0,
              "ticks": ""
             }
            },
            "type": "scattercarpet"
           }
          ],
          "scattergeo": [
           {
            "marker": {
             "colorbar": {
              "outlinewidth": 0,
              "ticks": ""
             }
            },
            "type": "scattergeo"
           }
          ],
          "scattergl": [
           {
            "marker": {
             "colorbar": {
              "outlinewidth": 0,
              "ticks": ""
             }
            },
            "type": "scattergl"
           }
          ],
          "scattermapbox": [
           {
            "marker": {
             "colorbar": {
              "outlinewidth": 0,
              "ticks": ""
             }
            },
            "type": "scattermapbox"
           }
          ],
          "scatterpolar": [
           {
            "marker": {
             "colorbar": {
              "outlinewidth": 0,
              "ticks": ""
             }
            },
            "type": "scatterpolar"
           }
          ],
          "scatterpolargl": [
           {
            "marker": {
             "colorbar": {
              "outlinewidth": 0,
              "ticks": ""
             }
            },
            "type": "scatterpolargl"
           }
          ],
          "scatterternary": [
           {
            "marker": {
             "colorbar": {
              "outlinewidth": 0,
              "ticks": ""
             }
            },
            "type": "scatterternary"
           }
          ],
          "surface": [
           {
            "colorbar": {
             "outlinewidth": 0,
             "ticks": ""
            },
            "colorscale": [
             [
              0,
              "#0d0887"
             ],
             [
              0.1111111111111111,
              "#46039f"
             ],
             [
              0.2222222222222222,
              "#7201a8"
             ],
             [
              0.3333333333333333,
              "#9c179e"
             ],
             [
              0.4444444444444444,
              "#bd3786"
             ],
             [
              0.5555555555555556,
              "#d8576b"
             ],
             [
              0.6666666666666666,
              "#ed7953"
             ],
             [
              0.7777777777777778,
              "#fb9f3a"
             ],
             [
              0.8888888888888888,
              "#fdca26"
             ],
             [
              1,
              "#f0f921"
             ]
            ],
            "type": "surface"
           }
          ],
          "table": [
           {
            "cells": {
             "fill": {
              "color": "#EBF0F8"
             },
             "line": {
              "color": "white"
             }
            },
            "header": {
             "fill": {
              "color": "#C8D4E3"
             },
             "line": {
              "color": "white"
             }
            },
            "type": "table"
           }
          ]
         },
         "layout": {
          "annotationdefaults": {
           "arrowcolor": "#2a3f5f",
           "arrowhead": 0,
           "arrowwidth": 1
          },
          "coloraxis": {
           "colorbar": {
            "outlinewidth": 0,
            "ticks": ""
           }
          },
          "colorscale": {
           "diverging": [
            [
             0,
             "#8e0152"
            ],
            [
             0.1,
             "#c51b7d"
            ],
            [
             0.2,
             "#de77ae"
            ],
            [
             0.3,
             "#f1b6da"
            ],
            [
             0.4,
             "#fde0ef"
            ],
            [
             0.5,
             "#f7f7f7"
            ],
            [
             0.6,
             "#e6f5d0"
            ],
            [
             0.7,
             "#b8e186"
            ],
            [
             0.8,
             "#7fbc41"
            ],
            [
             0.9,
             "#4d9221"
            ],
            [
             1,
             "#276419"
            ]
           ],
           "sequential": [
            [
             0,
             "#0d0887"
            ],
            [
             0.1111111111111111,
             "#46039f"
            ],
            [
             0.2222222222222222,
             "#7201a8"
            ],
            [
             0.3333333333333333,
             "#9c179e"
            ],
            [
             0.4444444444444444,
             "#bd3786"
            ],
            [
             0.5555555555555556,
             "#d8576b"
            ],
            [
             0.6666666666666666,
             "#ed7953"
            ],
            [
             0.7777777777777778,
             "#fb9f3a"
            ],
            [
             0.8888888888888888,
             "#fdca26"
            ],
            [
             1,
             "#f0f921"
            ]
           ],
           "sequentialminus": [
            [
             0,
             "#0d0887"
            ],
            [
             0.1111111111111111,
             "#46039f"
            ],
            [
             0.2222222222222222,
             "#7201a8"
            ],
            [
             0.3333333333333333,
             "#9c179e"
            ],
            [
             0.4444444444444444,
             "#bd3786"
            ],
            [
             0.5555555555555556,
             "#d8576b"
            ],
            [
             0.6666666666666666,
             "#ed7953"
            ],
            [
             0.7777777777777778,
             "#fb9f3a"
            ],
            [
             0.8888888888888888,
             "#fdca26"
            ],
            [
             1,
             "#f0f921"
            ]
           ]
          },
          "colorway": [
           "#636efa",
           "#EF553B",
           "#00cc96",
           "#ab63fa",
           "#FFA15A",
           "#19d3f3",
           "#FF6692",
           "#B6E880",
           "#FF97FF",
           "#FECB52"
          ],
          "font": {
           "color": "#2a3f5f"
          },
          "geo": {
           "bgcolor": "white",
           "lakecolor": "white",
           "landcolor": "#E5ECF6",
           "showlakes": true,
           "showland": true,
           "subunitcolor": "white"
          },
          "hoverlabel": {
           "align": "left"
          },
          "hovermode": "closest",
          "mapbox": {
           "style": "light"
          },
          "paper_bgcolor": "white",
          "plot_bgcolor": "#E5ECF6",
          "polar": {
           "angularaxis": {
            "gridcolor": "white",
            "linecolor": "white",
            "ticks": ""
           },
           "bgcolor": "#E5ECF6",
           "radialaxis": {
            "gridcolor": "white",
            "linecolor": "white",
            "ticks": ""
           }
          },
          "scene": {
           "xaxis": {
            "backgroundcolor": "#E5ECF6",
            "gridcolor": "white",
            "gridwidth": 2,
            "linecolor": "white",
            "showbackground": true,
            "ticks": "",
            "zerolinecolor": "white"
           },
           "yaxis": {
            "backgroundcolor": "#E5ECF6",
            "gridcolor": "white",
            "gridwidth": 2,
            "linecolor": "white",
            "showbackground": true,
            "ticks": "",
            "zerolinecolor": "white"
           },
           "zaxis": {
            "backgroundcolor": "#E5ECF6",
            "gridcolor": "white",
            "gridwidth": 2,
            "linecolor": "white",
            "showbackground": true,
            "ticks": "",
            "zerolinecolor": "white"
           }
          },
          "shapedefaults": {
           "line": {
            "color": "#2a3f5f"
           }
          },
          "ternary": {
           "aaxis": {
            "gridcolor": "white",
            "linecolor": "white",
            "ticks": ""
           },
           "baxis": {
            "gridcolor": "white",
            "linecolor": "white",
            "ticks": ""
           },
           "bgcolor": "#E5ECF6",
           "caxis": {
            "gridcolor": "white",
            "linecolor": "white",
            "ticks": ""
           }
          },
          "title": {
           "x": 0.05
          },
          "xaxis": {
           "automargin": true,
           "gridcolor": "white",
           "linecolor": "white",
           "ticks": "",
           "title": {
            "standoff": 15
           },
           "zerolinecolor": "white",
           "zerolinewidth": 2
          },
          "yaxis": {
           "automargin": true,
           "gridcolor": "white",
           "linecolor": "white",
           "ticks": "",
           "title": {
            "standoff": 15
           },
           "zerolinecolor": "white",
           "zerolinewidth": 2
          }
         }
        },
        "width": 800
       }
      },
      "text/html": [
       "<div>\n",
       "        \n",
       "        \n",
       "            <div id=\"66dfee6a-81e4-42da-afb1-60450b1832b5\" class=\"plotly-graph-div\" style=\"height:525px; width:800px;\"></div>\n",
       "            <script type=\"text/javascript\">\n",
       "                require([\"plotly\"], function(Plotly) {\n",
       "                    window.PLOTLYENV=window.PLOTLYENV || {};\n",
       "                    \n",
       "                if (document.getElementById(\"66dfee6a-81e4-42da-afb1-60450b1832b5\")) {\n",
       "                    Plotly.newPlot(\n",
       "                        '66dfee6a-81e4-42da-afb1-60450b1832b5',\n",
       "                        [{\"customdata\": [[0.8606433273558373], [1.3674655934489741], [0.4862077841138395], [0.752713084222044], [0.5806571495871272], [0.5227942817038976], [2.1661643042649525], [1.42180949176423], [1.5690019392715837], [1.1111426269945797], [1.0175753417431634], [0.40780479188577756], [1.1850269381887195], [1.4294103503838247], [0.9163036446803592], [1.959925552030738], [1.6144045804306035], [1.4043779081571868], [0.9025961866681936], [1.5110493423274711], [1.1096531738231832], [0.7012311361094484], [1.0459591288778936], [1.7905074306726854]], \"hovertemplate\": \"<b>%{hovertext}</b><br><br>Class=%{marker.color}<br>PC1=%{x}<br>PC2=%{y}<br>PC3=%{z}<br>sharpe_ratio=%{customdata[0]}<extra></extra>\", \"hovertext\": [\"BTC/USD\", \"ETH/USD\", \"XRP/USD\", \"BCH/USD\", \"LTC/USD\", \"EOS/USD\", \"LINK/USD\", \"XTZ/USD\", \"XLM/USD\", \"XMR/USD\", \"ETC/USD\", \"ATOM/USD\", \"DASH/USD\", \"ZEC/USD\", \"BAT/USD\", \"ICX/USD\", \"OMG/USD\", \"REP/USD\", \"QTUM/USD\", \"LSK/USD\", \"NANO/USD\", \"WAVES/USD\", \"PAXG/USD\", \"GNO/USD\"], \"legendgroup\": \"1\", \"marker\": {\"color\": [1, 1, 1, 1, 1, 1, 1, 1, 1, 1, 1, 1, 1, 1, 1, 1, 1, 1, 1, 1, 1, 1, 1, 1], \"coloraxis\": \"coloraxis\", \"symbol\": \"circle\"}, \"mode\": \"markers\", \"name\": \"1\", \"scene\": \"scene\", \"showlegend\": true, \"type\": \"scatter3d\", \"x\": [7.316971816233901, 0.6985469591181972, 0.21798143985531915, -0.08768228750429162, 0.21152943259981197, 0.07375644645615406, -0.9671049879751302, -0.6584752826836465, -0.5587388985380537, -0.27403559440709646, -0.37985382289727343, -0.022585977848299854, -0.683157148808918, -0.6192502596916938, -0.35681336995444746, -1.1875458816630051, -0.9566419062592616, -0.9096197926856747, -0.28457475972852714, -0.8857320776628091, -0.5844350048874669, -0.24691795304438716, 0.9291268229248932, -0.7182141287787774], \"y\": [3.205990381519736, 0.3739591970219217, -0.9800423414763832, -0.337342438369461, -0.8921387418389015, -0.8910969720937715, 1.0913743131791278, 0.34790922392976503, 0.24804089028638687, -0.35526684687461973, -0.16614601234340082, -0.95603337683344, 0.3523608081743466, 0.2693677174247192, -0.3382164401222509, 1.2515692986417308, 0.801135152346127, 0.6797526390325049, -0.42840200222606123, 0.6435892122063517, 0.05315294841026997, -0.594833882664648, -1.182690502200934, 0.4353181693949718], \"z\": [-0.02710701444367038, -0.2689737636140494, 1.4648407703660364, -0.40497250409316965, -0.3136070540365416, -0.3093627427868374, -0.47640458106182576, -0.4375321847127638, 0.4063317238212312, -0.3832384464128806, -0.418345067149556, -0.36432591630670974, -0.5003940667082669, -0.45293239217014536, -0.35806887793204417, -0.5416006481966273, -0.5234381694495643, -0.5368716937569403, -0.3953524400691315, -0.5117575095583071, -0.46014187199567347, -0.40014846090770334, -0.19416350007129132, -0.4391536546189895]}, {\"customdata\": [[0.15003103335727755], [2.2687535122471907], [0.3495590375899381], [1.6899506881279622]], \"hovertemplate\": \"<b>%{hovertext}</b><br><br>Class=%{marker.color}<br>PC1=%{x}<br>PC2=%{y}<br>PC3=%{z}<br>sharpe_ratio=%{customdata[0]}<extra></extra>\", \"hovertext\": [\"USDT/USD\", \"ADA/USD\", \"DAI/USD\", \"SC/USD\"], \"legendgroup\": \"0\", \"marker\": {\"color\": [0, 0, 0, 0], \"coloraxis\": \"coloraxis\", \"symbol\": \"diamond\"}, \"mode\": \"markers\", \"name\": \"0\", \"scene\": \"scene\", \"showlegend\": true, \"type\": \"scatter3d\", \"x\": [3.475838185964046, -1.111531431912348, 0.9234341878251314, -1.281109599242323], \"y\": [-3.1657090661664826, 1.3180315400500255, -2.6317530997588507, 1.2309538209886817], \"z\": [0.7954562550940298, 0.528423051950603, -0.07470396225626064, 1.085453888757902]}, {\"customdata\": [[1.297766632085168]], \"hovertemplate\": \"<b>%{hovertext}</b><br><br>Class=%{marker.color}<br>PC1=%{x}<br>PC2=%{y}<br>PC3=%{z}<br>sharpe_ratio=%{customdata[0]}<extra></extra>\", \"hovertext\": [\"DOGE/USD\"], \"legendgroup\": \"2\", \"marker\": {\"color\": [2], \"coloraxis\": \"coloraxis\", \"symbol\": \"square\"}, \"mode\": \"markers\", \"name\": \"2\", \"scene\": \"scene\", \"showlegend\": true, \"type\": \"scatter3d\", \"x\": [-1.0731651248040237], \"y\": [0.6171664103625363], \"z\": [4.512090832319148]}],\n",
       "                        {\"coloraxis\": {\"colorbar\": {\"title\": {\"text\": \"Class\"}}, \"colorscale\": [[0.0, \"#0d0887\"], [0.1111111111111111, \"#46039f\"], [0.2222222222222222, \"#7201a8\"], [0.3333333333333333, \"#9c179e\"], [0.4444444444444444, \"#bd3786\"], [0.5555555555555556, \"#d8576b\"], [0.6666666666666666, \"#ed7953\"], [0.7777777777777778, \"#fb9f3a\"], [0.8888888888888888, \"#fdca26\"], [1.0, \"#f0f921\"]]}, \"legend\": {\"title\": {\"text\": \"Class\"}, \"tracegroupgap\": 0, \"x\": 0, \"y\": 1}, \"margin\": {\"t\": 60}, \"scene\": {\"domain\": {\"x\": [0.0, 1.0], \"y\": [0.0, 1.0]}, \"xaxis\": {\"title\": {\"text\": \"PC1\"}}, \"yaxis\": {\"title\": {\"text\": \"PC2\"}}, \"zaxis\": {\"title\": {\"text\": \"PC3\"}}}, \"template\": {\"data\": {\"bar\": [{\"error_x\": {\"color\": \"#2a3f5f\"}, \"error_y\": {\"color\": \"#2a3f5f\"}, \"marker\": {\"line\": {\"color\": \"#E5ECF6\", \"width\": 0.5}}, \"type\": \"bar\"}], \"barpolar\": [{\"marker\": {\"line\": {\"color\": \"#E5ECF6\", \"width\": 0.5}}, \"type\": \"barpolar\"}], \"carpet\": [{\"aaxis\": {\"endlinecolor\": \"#2a3f5f\", \"gridcolor\": \"white\", \"linecolor\": \"white\", \"minorgridcolor\": \"white\", \"startlinecolor\": \"#2a3f5f\"}, \"baxis\": {\"endlinecolor\": \"#2a3f5f\", \"gridcolor\": \"white\", \"linecolor\": \"white\", \"minorgridcolor\": \"white\", \"startlinecolor\": \"#2a3f5f\"}, \"type\": \"carpet\"}], \"choropleth\": [{\"colorbar\": {\"outlinewidth\": 0, \"ticks\": \"\"}, \"type\": \"choropleth\"}], \"contour\": [{\"colorbar\": {\"outlinewidth\": 0, \"ticks\": \"\"}, \"colorscale\": [[0.0, \"#0d0887\"], [0.1111111111111111, \"#46039f\"], [0.2222222222222222, \"#7201a8\"], [0.3333333333333333, \"#9c179e\"], [0.4444444444444444, \"#bd3786\"], [0.5555555555555556, \"#d8576b\"], [0.6666666666666666, \"#ed7953\"], [0.7777777777777778, \"#fb9f3a\"], [0.8888888888888888, \"#fdca26\"], [1.0, \"#f0f921\"]], \"type\": \"contour\"}], \"contourcarpet\": [{\"colorbar\": {\"outlinewidth\": 0, \"ticks\": \"\"}, \"type\": \"contourcarpet\"}], \"heatmap\": [{\"colorbar\": {\"outlinewidth\": 0, \"ticks\": \"\"}, \"colorscale\": [[0.0, \"#0d0887\"], [0.1111111111111111, \"#46039f\"], [0.2222222222222222, \"#7201a8\"], [0.3333333333333333, \"#9c179e\"], [0.4444444444444444, \"#bd3786\"], [0.5555555555555556, \"#d8576b\"], [0.6666666666666666, \"#ed7953\"], [0.7777777777777778, \"#fb9f3a\"], [0.8888888888888888, \"#fdca26\"], [1.0, \"#f0f921\"]], \"type\": \"heatmap\"}], \"heatmapgl\": [{\"colorbar\": {\"outlinewidth\": 0, \"ticks\": \"\"}, \"colorscale\": [[0.0, \"#0d0887\"], [0.1111111111111111, \"#46039f\"], [0.2222222222222222, \"#7201a8\"], [0.3333333333333333, \"#9c179e\"], [0.4444444444444444, \"#bd3786\"], [0.5555555555555556, \"#d8576b\"], [0.6666666666666666, \"#ed7953\"], [0.7777777777777778, \"#fb9f3a\"], [0.8888888888888888, \"#fdca26\"], [1.0, \"#f0f921\"]], \"type\": \"heatmapgl\"}], \"histogram\": [{\"marker\": {\"colorbar\": {\"outlinewidth\": 0, \"ticks\": \"\"}}, \"type\": \"histogram\"}], \"histogram2d\": [{\"colorbar\": {\"outlinewidth\": 0, \"ticks\": \"\"}, \"colorscale\": [[0.0, \"#0d0887\"], [0.1111111111111111, \"#46039f\"], [0.2222222222222222, \"#7201a8\"], [0.3333333333333333, \"#9c179e\"], [0.4444444444444444, \"#bd3786\"], [0.5555555555555556, \"#d8576b\"], [0.6666666666666666, \"#ed7953\"], [0.7777777777777778, \"#fb9f3a\"], [0.8888888888888888, \"#fdca26\"], [1.0, \"#f0f921\"]], \"type\": \"histogram2d\"}], \"histogram2dcontour\": [{\"colorbar\": {\"outlinewidth\": 0, \"ticks\": \"\"}, \"colorscale\": [[0.0, \"#0d0887\"], [0.1111111111111111, \"#46039f\"], [0.2222222222222222, \"#7201a8\"], [0.3333333333333333, \"#9c179e\"], [0.4444444444444444, \"#bd3786\"], [0.5555555555555556, \"#d8576b\"], [0.6666666666666666, \"#ed7953\"], [0.7777777777777778, \"#fb9f3a\"], [0.8888888888888888, \"#fdca26\"], [1.0, \"#f0f921\"]], \"type\": \"histogram2dcontour\"}], \"mesh3d\": [{\"colorbar\": {\"outlinewidth\": 0, \"ticks\": \"\"}, \"type\": \"mesh3d\"}], \"parcoords\": [{\"line\": {\"colorbar\": {\"outlinewidth\": 0, \"ticks\": \"\"}}, \"type\": \"parcoords\"}], \"pie\": [{\"automargin\": true, \"type\": \"pie\"}], \"scatter\": [{\"marker\": {\"colorbar\": {\"outlinewidth\": 0, \"ticks\": \"\"}}, \"type\": \"scatter\"}], \"scatter3d\": [{\"line\": {\"colorbar\": {\"outlinewidth\": 0, \"ticks\": \"\"}}, \"marker\": {\"colorbar\": {\"outlinewidth\": 0, \"ticks\": \"\"}}, \"type\": \"scatter3d\"}], \"scattercarpet\": [{\"marker\": {\"colorbar\": {\"outlinewidth\": 0, \"ticks\": \"\"}}, \"type\": \"scattercarpet\"}], \"scattergeo\": [{\"marker\": {\"colorbar\": {\"outlinewidth\": 0, \"ticks\": \"\"}}, \"type\": \"scattergeo\"}], \"scattergl\": [{\"marker\": {\"colorbar\": {\"outlinewidth\": 0, \"ticks\": \"\"}}, \"type\": \"scattergl\"}], \"scattermapbox\": [{\"marker\": {\"colorbar\": {\"outlinewidth\": 0, \"ticks\": \"\"}}, \"type\": \"scattermapbox\"}], \"scatterpolar\": [{\"marker\": {\"colorbar\": {\"outlinewidth\": 0, \"ticks\": \"\"}}, \"type\": \"scatterpolar\"}], \"scatterpolargl\": [{\"marker\": {\"colorbar\": {\"outlinewidth\": 0, \"ticks\": \"\"}}, \"type\": \"scatterpolargl\"}], \"scatterternary\": [{\"marker\": {\"colorbar\": {\"outlinewidth\": 0, \"ticks\": \"\"}}, \"type\": \"scatterternary\"}], \"surface\": [{\"colorbar\": {\"outlinewidth\": 0, \"ticks\": \"\"}, \"colorscale\": [[0.0, \"#0d0887\"], [0.1111111111111111, \"#46039f\"], [0.2222222222222222, \"#7201a8\"], [0.3333333333333333, \"#9c179e\"], [0.4444444444444444, \"#bd3786\"], [0.5555555555555556, \"#d8576b\"], [0.6666666666666666, \"#ed7953\"], [0.7777777777777778, \"#fb9f3a\"], [0.8888888888888888, \"#fdca26\"], [1.0, \"#f0f921\"]], \"type\": \"surface\"}], \"table\": [{\"cells\": {\"fill\": {\"color\": \"#EBF0F8\"}, \"line\": {\"color\": \"white\"}}, \"header\": {\"fill\": {\"color\": \"#C8D4E3\"}, \"line\": {\"color\": \"white\"}}, \"type\": \"table\"}]}, \"layout\": {\"annotationdefaults\": {\"arrowcolor\": \"#2a3f5f\", \"arrowhead\": 0, \"arrowwidth\": 1}, \"coloraxis\": {\"colorbar\": {\"outlinewidth\": 0, \"ticks\": \"\"}}, \"colorscale\": {\"diverging\": [[0, \"#8e0152\"], [0.1, \"#c51b7d\"], [0.2, \"#de77ae\"], [0.3, \"#f1b6da\"], [0.4, \"#fde0ef\"], [0.5, \"#f7f7f7\"], [0.6, \"#e6f5d0\"], [0.7, \"#b8e186\"], [0.8, \"#7fbc41\"], [0.9, \"#4d9221\"], [1, \"#276419\"]], \"sequential\": [[0.0, \"#0d0887\"], [0.1111111111111111, \"#46039f\"], [0.2222222222222222, \"#7201a8\"], [0.3333333333333333, \"#9c179e\"], [0.4444444444444444, \"#bd3786\"], [0.5555555555555556, \"#d8576b\"], [0.6666666666666666, \"#ed7953\"], [0.7777777777777778, \"#fb9f3a\"], [0.8888888888888888, \"#fdca26\"], [1.0, \"#f0f921\"]], \"sequentialminus\": [[0.0, \"#0d0887\"], [0.1111111111111111, \"#46039f\"], [0.2222222222222222, \"#7201a8\"], [0.3333333333333333, \"#9c179e\"], [0.4444444444444444, \"#bd3786\"], [0.5555555555555556, \"#d8576b\"], [0.6666666666666666, \"#ed7953\"], [0.7777777777777778, \"#fb9f3a\"], [0.8888888888888888, \"#fdca26\"], [1.0, \"#f0f921\"]]}, \"colorway\": [\"#636efa\", \"#EF553B\", \"#00cc96\", \"#ab63fa\", \"#FFA15A\", \"#19d3f3\", \"#FF6692\", \"#B6E880\", \"#FF97FF\", \"#FECB52\"], \"font\": {\"color\": \"#2a3f5f\"}, \"geo\": {\"bgcolor\": \"white\", \"lakecolor\": \"white\", \"landcolor\": \"#E5ECF6\", \"showlakes\": true, \"showland\": true, \"subunitcolor\": \"white\"}, \"hoverlabel\": {\"align\": \"left\"}, \"hovermode\": \"closest\", \"mapbox\": {\"style\": \"light\"}, \"paper_bgcolor\": \"white\", \"plot_bgcolor\": \"#E5ECF6\", \"polar\": {\"angularaxis\": {\"gridcolor\": \"white\", \"linecolor\": \"white\", \"ticks\": \"\"}, \"bgcolor\": \"#E5ECF6\", \"radialaxis\": {\"gridcolor\": \"white\", \"linecolor\": \"white\", \"ticks\": \"\"}}, \"scene\": {\"xaxis\": {\"backgroundcolor\": \"#E5ECF6\", \"gridcolor\": \"white\", \"gridwidth\": 2, \"linecolor\": \"white\", \"showbackground\": true, \"ticks\": \"\", \"zerolinecolor\": \"white\"}, \"yaxis\": {\"backgroundcolor\": \"#E5ECF6\", \"gridcolor\": \"white\", \"gridwidth\": 2, \"linecolor\": \"white\", \"showbackground\": true, \"ticks\": \"\", \"zerolinecolor\": \"white\"}, \"zaxis\": {\"backgroundcolor\": \"#E5ECF6\", \"gridcolor\": \"white\", \"gridwidth\": 2, \"linecolor\": \"white\", \"showbackground\": true, \"ticks\": \"\", \"zerolinecolor\": \"white\"}}, \"shapedefaults\": {\"line\": {\"color\": \"#2a3f5f\"}}, \"ternary\": {\"aaxis\": {\"gridcolor\": \"white\", \"linecolor\": \"white\", \"ticks\": \"\"}, \"baxis\": {\"gridcolor\": \"white\", \"linecolor\": \"white\", \"ticks\": \"\"}, \"bgcolor\": \"#E5ECF6\", \"caxis\": {\"gridcolor\": \"white\", \"linecolor\": \"white\", \"ticks\": \"\"}}, \"title\": {\"x\": 0.05}, \"xaxis\": {\"automargin\": true, \"gridcolor\": \"white\", \"linecolor\": \"white\", \"ticks\": \"\", \"title\": {\"standoff\": 15}, \"zerolinecolor\": \"white\", \"zerolinewidth\": 2}, \"yaxis\": {\"automargin\": true, \"gridcolor\": \"white\", \"linecolor\": \"white\", \"ticks\": \"\", \"title\": {\"standoff\": 15}, \"zerolinecolor\": \"white\", \"zerolinewidth\": 2}}}, \"width\": 800},\n",
       "                        {\"responsive\": true}\n",
       "                    ).then(function(){\n",
       "                            \n",
       "var gd = document.getElementById('66dfee6a-81e4-42da-afb1-60450b1832b5');\n",
       "var x = new MutationObserver(function (mutations, observer) {{\n",
       "        var display = window.getComputedStyle(gd).display;\n",
       "        if (!display || display === 'none') {{\n",
       "            console.log([gd, 'removed!']);\n",
       "            Plotly.purge(gd);\n",
       "            observer.disconnect();\n",
       "        }}\n",
       "}});\n",
       "\n",
       "// Listen for the removal of the full notebook cells\n",
       "var notebookContainer = gd.closest('#notebook-container');\n",
       "if (notebookContainer) {{\n",
       "    x.observe(notebookContainer, {childList: true});\n",
       "}}\n",
       "\n",
       "// Listen for the clearing of the current output cell\n",
       "var outputEl = gd.closest('.output');\n",
       "if (outputEl) {{\n",
       "    x.observe(outputEl, {childList: true});\n",
       "}}\n",
       "\n",
       "                        })\n",
       "                };\n",
       "                });\n",
       "            </script>\n",
       "        </div>"
      ]
     },
     "metadata": {},
     "output_type": "display_data"
    }
   ],
   "source": [
    "# Create a 3D-Scatter with the PCA data and the clusters\n",
    "fig = px.scatter_3d(\n",
    "    clustered_df,\n",
    "    x=\"PC1\",\n",
    "    y=\"PC2\",\n",
    "    z=\"PC3\",\n",
    "    hover_name='symbol',#need to add \n",
    "    hover_data=[\"sharpe_ratio\"],\n",
    "    color=\"Class\",\n",
    "    symbol=\"Class\",\n",
    "    width=800,\n",
    ")\n",
    "fig.update_layout(legend=dict(x=0, y=1))\n",
    "fig.show()"
   ]
  },
  {
   "cell_type": "code",
   "execution_count": null,
   "metadata": {},
   "outputs": [],
   "source": []
  }
 ],
 "metadata": {
  "kernelspec": {
   "display_name": "Python 3",
   "language": "python",
   "name": "python3"
  },
  "language_info": {
   "codemirror_mode": {
    "name": "ipython",
    "version": 3
   },
   "file_extension": ".py",
   "mimetype": "text/x-python",
   "name": "python",
   "nbconvert_exporter": "python",
   "pygments_lexer": "ipython3",
   "version": "3.7.1"
  }
 },
 "nbformat": 4,
 "nbformat_minor": 4
}
