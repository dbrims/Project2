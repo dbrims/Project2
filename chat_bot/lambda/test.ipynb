{
 "cells": [
  {
   "cell_type": "code",
   "execution_count": null,
   "metadata": {},
   "outputs": [],
   "source": [
    "{\n",
    "  \"messageVersion\": \"1.0\",\n",
    "  \"invocationSource\": \"DialogCodeHook\",\n",
    "  \"userId\": \"John\",\n",
    "  \"sessionAttributes\": {},\n",
    "  \"bot\": {\n",
    "    \"name\": \"coinBot\",\n",
    "    \"alias\": \"$LATEST\",\n",
    "    \"version\": \"$LATEST\"\n",
    "  },\n",
    "  \"outputDialogMode\": \"Text\",\n",
    "  \"currentIntent\": {\n",
    "    \"name\": \"coinBot\",\n",
    "    \"slots\": {\n",
    "      \"bday\": \"1980-01-01\",\n",
    "      \"retire\": \"76\",\n",
    "      \"income\": \"1000000\",\n",
    "      \"risk\": \"low\",\n",
    "      \"amount\": \"1000000\"\n",
    "    },\n",
    "    \"confirmationStatus\": \"None\"\n",
    "  }\n",
    "}"
   ]
  }
 ],
 "metadata": {
  "kernelspec": {
   "display_name": "Python 3",
   "language": "python",
   "name": "python3"
  },
  "language_info": {
   "codemirror_mode": {
    "name": "ipython",
    "version": 3
   },
   "file_extension": ".py",
   "mimetype": "text/x-python",
   "name": "python",
   "nbconvert_exporter": "python",
   "pygments_lexer": "ipython3",
   "version": "3.7.7"
  }
 },
 "nbformat": 4,
 "nbformat_minor": 4
}
