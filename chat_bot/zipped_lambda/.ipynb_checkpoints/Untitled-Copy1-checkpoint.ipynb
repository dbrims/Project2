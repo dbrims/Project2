{
 "cells": [
  {
   "cell_type": "code",
   "execution_count": 1,
   "metadata": {},
   "outputs": [
    {
     "name": "stderr",
     "output_type": "stream",
     "text": [
      "\n",
      "Bad key \"text.kerning_factor\" on line 4 in\n",
      "C:\\Users\\drbri\\Anaconda3\\lib\\site-packages\\matplotlib\\mpl-data\\stylelib\\_classic_test_patch.mplstyle.\n",
      "You probably need to get an updated matplotlibrc file from\n",
      "http://github.com/matplotlib/matplotlib/blob/master/matplotlibrc.template\n",
      "or from the matplotlib source distribution\n"
     ]
    }
   ],
   "source": [
    "\n",
    "import matplotlib.pyplot as plt\n",
    "import pandas as pd\n",
    "import numpy as np\n",
    "import ccxt\n",
    "from pathlib import Path\n",
    "\n"
   ]
  },
  {
   "cell_type": "code",
   "execution_count": 2,
   "metadata": {},
   "outputs": [],
   "source": [
    "def in_return_cov(df): \n",
    "    price = df.copy()\n",
    "    price = (price / price.shift(1)) -1\n",
    "    price.iloc[0,:] = 0 # Primeira linha = 0     \n",
    "    \n",
    "    returns = np.matrix(price)\n",
    "    mean_returns = np.mean(returns, axis = 0)\n",
    "    \n",
    "    annual_returns = np.array([])\n",
    "    for i in range(len(np.transpose(mean_returns))):\n",
    "        annual_returns = np.append(annual_returns,(mean_returns[0,i]+1)**252-1)   \n",
    "    \n",
    "    cov = price.cov()*252\n",
    "    \n",
    "    return (annual_returns, np.matrix(cov))\n",
    "\n",
    "#Carrega tabela de preços\n",
    "def load_prices(symbol,\n",
    "                index,\n",
    "                start_date,\n",
    "                end_date):\n",
    "    \n",
    "    dates = pd.date_range(start_date, end_date)\n",
    "    dfBase = pd.DataFrame(index = dates)\n",
    "    path = \"C:/Users/Guilherme Overney/Desktop/DATA/{}.csv\"\n",
    "    \n",
    "    dfIndex = pd.read_csv(path.format(index),index_col = \"Date\",\n",
    "                          parse_dates = True,usecols = ['Date', 'Adj Close'], na_values=['nan'])\n",
    "    \n",
    "    dfIndex = dfIndex.dropna()\n",
    "    dfIndex = dfIndex.rename(columns={'Adj Close': '{}'.format(index)})\n",
    "    dfBase = dfBase.join(dfIndex, how = 'inner')\n",
    "    \n",
    "    \n",
    "    for symbol in symbols:\n",
    "        df_temp = pd.read_csv(path.format(symbol), index_col = \"Date\", parse_dates = True,\n",
    "                              usecols = ['Date', 'Adj Close'], na_values=['nan'])\n",
    "        df_temp = df_temp.rename(columns={'Adj Close': symbol})\n",
    "        dfBase = dfBase.join(df_temp)\n",
    "    \n",
    "    dfBase.fillna(method = \"ffill\", inplace = True)\n",
    "    dfBase.fillna(method = \"bfill\", inplace = True)\n",
    "    \n",
    "    return dfBase.drop('IBOV',axis = 1) #Tiro o índice da tabela de preços...\n",
    "\n",
    "#Calcula o retorno de um portfólio de ativos\n",
    "def port_return(W,r):\n",
    "    return sum(W*r)\n",
    "\n",
    "#Calcula o peso inicial do portfolio dado o tamanho de mercado do papel\n",
    "def mkt_weights(weights):\n",
    "    return np.array(weights) / sum(weights)\n",
    "\n",
    "def risk_return(W,S,r,rf=0.06):\n",
    "    var = np.dot(np.dot(W,S),np.transpose(W))\n",
    "    port_r = port_return(W,r)\n",
    "    return np.ndarray.item((port_r - rf) / var)\n",
    "\n",
    "#Calcula a matriz de retorno implicito\n",
    "def vector_equilibrium_return(S, W, r ):\n",
    "    \n",
    "    A = risk_return(W,S,r)\n",
    "    \n",
    "    return (np.dot(A,np.dot(S,W)))\n",
    "\n",
    "def diago_omega(t, P, S):\n",
    "    \n",
    "    omega = np.dot(t,np.dot(P,np.dot(S,np.transpose(P))))\n",
    "    \n",
    "    for i in range(len(omega)):\n",
    "        for y in range(len(omega)):\n",
    "            if i != y: omega[i,y] = 0\n",
    "    return omega\n",
    "    \n",
    "#Black Litterman Model\n",
    "def posterior_estimate_return(t,S,P,Q,PI):\n",
    "    \n",
    "    omega = diago_omega(t, P, S)\n",
    "    \n",
    "    parte_1 = t*np.dot(S,np.transpose(P))\n",
    "    parte_2 = np.linalg.inv(np.dot(P*t,np.dot(S,np.transpose(P))) + omega)\n",
    "    parte_3 = Q - np.dot(P,np.transpose(PI))\n",
    "    \n",
    "    return np.transpose(PI) + np.dot(parte_1,np.dot(parte_2,parte_3))\n",
    "\n",
    "def posterior_covariance(t,S,P,PI):\n",
    "    \n",
    "    omega = diago_omega(t, P, S)\n",
    "    \n",
    "    parte_1 = t*np.dot(S,np.transpose(P))\n",
    "    parte_2 = np.linalg.inv(t*np.dot(P,np.dot(S,np.transpose(P)))+omega)\n",
    "    parte_3 = t*np.dot(P,S)\n",
    "\n",
    "    return t*S - np.dot(parte_1,np.dot(parte_2,parte_3))"
   ]
  },
  {
   "cell_type": "code",
   "execution_count": 3,
   "metadata": {},
   "outputs": [],
   "source": [
    "data=Path('Classification.csv')\n",
    "cdf=pd.read_csv(data)"
   ]
  },
  {
   "cell_type": "code",
   "execution_count": 4,
   "metadata": {},
   "outputs": [],
   "source": [
    "symbols=[]\n",
    "ave_risk=1\n",
    "if ave_risk==1:\n",
    "    symbols=cdf['symbol'].loc[(cdf['class']==2)|(cdf['class']==0)].to_list()\n",
    "elif ave_risk==2:\n",
    "    symbols=cdf['symbol'].to_list()\n",
    "elif ave_risk==3:\n",
    "    symbols=cdf['symbol'].loc[(cdf['class']==1)|(cdf['class']==0)].to_list()\n"
   ]
  },
  {
   "cell_type": "code",
   "execution_count": 5,
   "metadata": {},
   "outputs": [],
   "source": [
    "def get_prices(symbols):\n",
    "    i=0\n",
    "    exchange = ccxt.kraken({\n",
    "    'apiKey': KRAKEN_API_KEY,\n",
    "    'secret': KRAKEN_SECRET_API_KEY,\n",
    "    })\n",
    "    since = exchange.parse8601('2018-01-01T00:00:00z')\n",
    "\n",
    "    for symbol in symbols:\n",
    "        if i==0:\n",
    "            try:\n",
    "                data = exchange.fetchOHLCV(symbol,'1d', since, params = {})\n",
    "                header = ['Date', 'Open', 'High', 'Low', symbol, 'Volume']\n",
    "                ticker_df = pd.DataFrame(data, columns=header)\n",
    "                ticker_df['Date']=pd.to_datetime(ticker_df.Date/1000, unit='s')\n",
    "                ticker_df.set_index('Date', inplace=True)\n",
    "                ticker_df.drop(columns=['Open', 'High', 'Low', 'Volume'], inplace=True)\n",
    "                i+=1\n",
    "            except:\n",
    "                continue\n",
    "        else:\n",
    "            try:\n",
    "                data = exchange.fetchOHLCV(symbol,'1d', since, params = {})\n",
    "                header = ['Date', 'Open', 'High', 'Low', symbol, 'Volume']\n",
    "                df = pd.DataFrame(data, columns=header)\n",
    "                df['Date']=pd.to_datetime(df.Date/1000, unit='s')\n",
    "                df.set_index('Date', inplace=True)\n",
    "                df.drop(columns=['Open', 'High', 'Low', 'Volume'], inplace=True)\n",
    "                ticker_df=pd.concat([ticker_df, df], axis=1, join='inner')\n",
    "            except:\n",
    "                continue\n",
    "    return(ticker_df)"
   ]
  },
  {
   "cell_type": "code",
   "execution_count": 6,
   "metadata": {},
   "outputs": [],
   "source": [
    "ticker_df=get_prices(symbols)"
   ]
  },
  {
   "cell_type": "code",
   "execution_count": 7,
   "metadata": {},
   "outputs": [],
   "source": [
    "tickers=ticker_df.columns.tolist()\n",
    "data_df=pd.DataFrame()\n",
    "data_df['tickers']=tickers\n",
    "data_df['mrkcap']=0\n",
    "data_df['returns']=0\n",
    "data_df['ann_ret']=0\n",
    "data_df['price']=0\n",
    "data_df.set_index('tickers',inplace=True)\n"
   ]
  },
  {
   "cell_type": "code",
   "execution_count": 8,
   "metadata": {},
   "outputs": [],
   "source": [
    "assets_return , S= in_return_cov(ticker_df)\n",
    "data_df['returns']=assets_return"
   ]
  },
  {
   "cell_type": "code",
   "execution_count": 9,
   "metadata": {},
   "outputs": [],
   "source": [
    "cdf.set_index('symbol', inplace=True)\n"
   ]
  },
  {
   "cell_type": "code",
   "execution_count": 10,
   "metadata": {},
   "outputs": [],
   "source": [
    "pret=ticker_df.pct_change()\n",
    "SD=pret.std()* np.sqrt(252)\n",
    "ave_ret=pret.mean()* 252\n",
    "last_price=ticker_df.iloc[-1,:]\n"
   ]
  },
  {
   "cell_type": "code",
   "execution_count": 11,
   "metadata": {},
   "outputs": [],
   "source": [
    "for ticker in tickers:\n",
    "    data_df.loc[ticker,'mrkcap']=cdf.loc[ticker, 'Market_Cap']\n",
    "    data_df.loc[ticker,'ann_ret']=ave_ret.loc[ticker]\n",
    "    data_df.loc[ticker,'price']=last_price.loc[ticker]\n",
    "    data_df.loc[ticker,'SD']=SD.loc[ticker]\n",
    "data_df.dropna(inplace=True)\n",
    "clean_ticker=data_df.index.to_list()\n"
   ]
  },
  {
   "cell_type": "code",
   "execution_count": 12,
   "metadata": {},
   "outputs": [],
   "source": [
    "for ticker in tickers:\n",
    "    if ticker not in clean_ticker:\n",
    "        ticker_df.drop([ticker], axis=1, inplace=True)\n"
   ]
  },
  {
   "cell_type": "code",
   "execution_count": null,
   "metadata": {},
   "outputs": [],
   "source": []
  },
  {
   "cell_type": "code",
   "execution_count": 13,
   "metadata": {},
   "outputs": [],
   "source": [
    "assets_return , S= in_return_cov(ticker_df)\n"
   ]
  },
  {
   "cell_type": "code",
   "execution_count": null,
   "metadata": {},
   "outputs": [],
   "source": []
  },
  {
   "cell_type": "code",
   "execution_count": null,
   "metadata": {},
   "outputs": [],
   "source": []
  },
  {
   "cell_type": "code",
   "execution_count": 14,
   "metadata": {},
   "outputs": [],
   "source": [
    "W = mkt_weights(data_df['mrkcap'])"
   ]
  },
  {
   "cell_type": "code",
   "execution_count": null,
   "metadata": {},
   "outputs": [],
   "source": []
  },
  {
   "cell_type": "code",
   "execution_count": 15,
   "metadata": {},
   "outputs": [],
   "source": [
    "A = risk_return(W,S,data_df['returns'])\n"
   ]
  },
  {
   "cell_type": "code",
   "execution_count": 16,
   "metadata": {},
   "outputs": [],
   "source": [
    "PI = vector_equilibrium_return(S, W, data_df['returns'])\n"
   ]
  },
  {
   "cell_type": "code",
   "execution_count": null,
   "metadata": {},
   "outputs": [],
   "source": []
  },
  {
   "cell_type": "code",
   "execution_count": null,
   "metadata": {},
   "outputs": [],
   "source": []
  },
  {
   "cell_type": "code",
   "execution_count": null,
   "metadata": {},
   "outputs": [],
   "source": []
  },
  {
   "cell_type": "code",
   "execution_count": null,
   "metadata": {},
   "outputs": [],
   "source": []
  },
  {
   "cell_type": "code",
   "execution_count": null,
   "metadata": {},
   "outputs": [],
   "source": []
  },
  {
   "cell_type": "code",
   "execution_count": 17,
   "metadata": {},
   "outputs": [],
   "source": [
    "N=len(clean_ticker)\n",
    "Q = np.zeros((N,1))\n",
    "P = np.zeros((N,N))\n",
    "for n in range(len(clean_ticker)):\n",
    "    P[n,n]=1\n",
    "    Q[n,0]=data_df.iloc[n,3]"
   ]
  },
  {
   "cell_type": "code",
   "execution_count": null,
   "metadata": {},
   "outputs": [],
   "source": []
  },
  {
   "cell_type": "code",
   "execution_count": 18,
   "metadata": {},
   "outputs": [],
   "source": [
    "t = 1 / len(ticker_df) # Medida de incerteza das estimativas de retornos pelo método Meucci\n",
    "expc_return = posterior_estimate_return(t,S,P,Q,PI)\n"
   ]
  },
  {
   "cell_type": "code",
   "execution_count": 19,
   "metadata": {},
   "outputs": [],
   "source": [
    "post_cov = posterior_covariance(t,S,P,PI)\n"
   ]
  },
  {
   "cell_type": "code",
   "execution_count": 20,
   "metadata": {},
   "outputs": [],
   "source": [
    "\n",
    "cov_post_estimate = post_cov + S\n"
   ]
  },
  {
   "cell_type": "code",
   "execution_count": 21,
   "metadata": {},
   "outputs": [],
   "source": [
    "new_weigth = np.dot(np.transpose(expc_return),np.linalg.inv(A*cov_post_estimate))\n",
    "weights_df=pd.DataFrame(new_weigth, columns = clean_ticker).T\n"
   ]
  },
  {
   "cell_type": "code",
   "execution_count": 22,
   "metadata": {},
   "outputs": [],
   "source": [
    "port_df=weights_df.loc[weights_df[0]>0]"
   ]
  },
  {
   "cell_type": "code",
   "execution_count": 23,
   "metadata": {},
   "outputs": [],
   "source": [
    "port_df=port_df/port_df[0].sum()"
   ]
  },
  {
   "cell_type": "code",
   "execution_count": 24,
   "metadata": {},
   "outputs": [],
   "source": [
    "port_df.sum()\n",
    "port_df.columns=['weights']"
   ]
  },
  {
   "cell_type": "code",
   "execution_count": 25,
   "metadata": {},
   "outputs": [],
   "source": [
    "port_df['price']=0\n",
    "port_df['return']=0\n",
    "port_df['SD']=0\n",
    "port_df['shares']=0\n",
    "port_df['value']=0\n",
    "port_tickers=port_df.index.to_list()"
   ]
  },
  {
   "cell_type": "code",
   "execution_count": 26,
   "metadata": {},
   "outputs": [],
   "source": [
    "for ticker in clean_ticker:\n",
    "    if ticker not in port_tickers:\n",
    "        ticker_df.drop([ticker], axis=1, inplace=True)"
   ]
  },
  {
   "cell_type": "code",
   "execution_count": 27,
   "metadata": {},
   "outputs": [],
   "source": [
    "amount=1000000\n",
    "\n",
    "for ticker in port_tickers:\n",
    "    port_df.loc[ticker,'price']=data_df.loc[ticker,'price']\n",
    "    port_df.loc[ticker,'SD']=data_df.loc[ticker,'SD']\n",
    "    port_df.loc[ticker,'return']=data_df.loc[ticker,'ann_ret']\n",
    "    port_df.loc[ticker,'shares']=(amount*port_df.loc[ticker, 'weights']//port_df.loc[ticker, 'price'])\n",
    "    port_df.loc[ticker,'value']=(port_df.loc[ticker, 'shares']*port_df.loc[ticker, 'price'])  \n",
    "left=amount-port_df['value'].sum()"
   ]
  },
  {
   "cell_type": "code",
   "execution_count": null,
   "metadata": {},
   "outputs": [],
   "source": []
  },
  {
   "cell_type": "code",
   "execution_count": 28,
   "metadata": {},
   "outputs": [],
   "source": [
    "wts=port_df['weights'].to_list()\n",
    "wts=np.asarray(wts)\n"
   ]
  },
  {
   "cell_type": "code",
   "execution_count": 29,
   "metadata": {},
   "outputs": [],
   "source": [
    "port_ret=ticker_df.pct_change()\n",
    "port_ret.dropna(inplace=True)\n",
    "port_ret['return']=port_ret.mul(wts,axis=1).sum(axis=1)\n"
   ]
  },
  {
   "cell_type": "code",
   "execution_count": 30,
   "metadata": {},
   "outputs": [],
   "source": [
    "# =pret.std()* np.sqrt(252)\n",
    "ann_ret=port_ret['return'].mean()* 252-.0062"
   ]
  },
  {
   "cell_type": "code",
   "execution_count": 31,
   "metadata": {},
   "outputs": [],
   "source": [
    "cov_matrix = port_ret.iloc[:,0:-1].cov()\n"
   ]
  },
  {
   "cell_type": "code",
   "execution_count": 32,
   "metadata": {},
   "outputs": [],
   "source": [
    "ann_port_var=round(((np.dot(wts.T,np.dot(cov_matrix, wts)))* np.sqrt(252)),3)\n",
    "ann_port_std=np.sqrt(ann_port_var)"
   ]
  },
  {
   "cell_type": "code",
   "execution_count": 33,
   "metadata": {},
   "outputs": [],
   "source": [
    "sharpe=ann_ret/ann_port_std"
   ]
  },
  {
   "cell_type": "code",
   "execution_count": 35,
   "metadata": {},
   "outputs": [
    {
     "data": {
      "text/plain": [
       "[-0.5420599675041692, -2.500336183228597, 0.047]"
      ]
     },
     "execution_count": 35,
     "metadata": {},
     "output_type": "execute_result"
    }
   ],
   "source": [
    "metrics=[ann_ret, sharpe, ann_port_var]\n",
    "metrics"
   ]
  },
  {
   "cell_type": "code",
   "execution_count": null,
   "metadata": {},
   "outputs": [],
   "source": []
  }
 ],
 "metadata": {
  "kernelspec": {
   "display_name": "Python 3",
   "language": "python",
   "name": "python3"
  },
  "language_info": {
   "codemirror_mode": {
    "name": "ipython",
    "version": 3
   },
   "file_extension": ".py",
   "mimetype": "text/x-python",
   "name": "python",
   "nbconvert_exporter": "python",
   "pygments_lexer": "ipython3",
   "version": "3.7.7"
  }
 },
 "nbformat": 4,
 "nbformat_minor": 4
}
